{
  "cells": [
    {
      "cell_type": "markdown",
      "metadata": {
        "id": "NcAHF4g8Xa93"
      },
      "source": [
        "# Project:  Radio Galaxy classification \n"
      ]
    },
    {
      "cell_type": "code",
      "execution_count": null,
      "metadata": {
        "id": "bISHPaCz1R3S"
      },
      "outputs": [],
      "source": [
        ""
      ]
    },
    {
      "cell_type": "code",
      "execution_count": null,
      "metadata": {
        "id": "bJG0K_T7wifE"
      },
      "outputs": [],
      "source": [
        "### importing packgages \n",
        "from __future__ import absolute_import, division, print_function\n",
        "\n",
        "import tensorflow as tf\n",
        "import numpy as np\n",
        "import matplotlib.pyplot as plt\n",
        "from IPython import display\n",
        "%matplotlib inline\n",
        "\n",
        "import tensorflow as tf\n",
        "from tensorflow import keras\n",
        "from tensorflow.keras import layers\n",
        "import matplotlib.pyplot as plt\n",
        "from tensorflow.keras.models import Sequential\n",
        "from tensorflow.keras.layers import Dense\n",
        "import numpy as np\n",
        "from tensorflow.keras.layers import Dropout\n",
        "from tensorflow.keras.layers import Flatten\n",
        "from tensorflow.keras.layers import BatchNormalization\n",
        "from tensorflow.keras.layers import  Activation \n",
        "from tensorflow.keras import metrics\n",
        "from sklearn.preprocessing import StandardScaler\n",
        "from sklearn.model_selection import train_test_split\n",
        "from sklearn.metrics import confusion_matrix, accuracy_score\n",
        "import matplotlib.pyplot as plt\n",
        "from keras.utils import np_utils\n",
        "from sklearn.metrics import classification_report, confusion_matrix\n",
        "from keras.preprocessing.image import ImageDataGenerator\n",
        "from keras.layers import Dense, Dropout, Flatten, Conv2D, MaxPooling2D, Activation ,AveragePooling2D\n",
        "import h5py\n",
        "import warnings\n",
        "from keras import backend as K\n",
        "import os\n",
        "from keras.layers import LeakyReLU\n",
        "import timeit\n",
        "warnings.filterwarnings('ignore')\n",
        "from tensorflow.keras.models import Model\n",
        "import seaborn as sns"
      ]
    },
    {
      "cell_type": "code",
      "execution_count": null,
      "metadata": {
        "colab": {
          "base_uri": "https://localhost:8080/"
        },
        "id": "3G62jsPn-4r8",
        "outputId": "ab04471d-8579-41a3-b3aa-3392a0a8c8c0"
      },
      "outputs": [
        {
          "output_type": "stream",
          "name": "stdout",
          "text": [
            "Drive already mounted at /content/gdrive; to attempt to forcibly remount, call drive.mount(\"/content/gdrive\", force_remount=True).\n"
          ]
        }
      ],
      "source": [
        "from google.colab import drive # importing the data from drive \n",
        "drive.mount('/content/gdrive')"
      ]
    },
    {
      "cell_type": "code",
      "source": [
        "!unzip gdrive/My\\ Drive/31.zip #  unziping the folder "
      ],
      "metadata": {
        "colab": {
          "base_uri": "https://localhost:8080/"
        },
        "id": "KvJeMc3DIYNT",
        "outputId": "837cf6e3-7d39-41d6-9184-6f278c3db2f8"
      },
      "execution_count": null,
      "outputs": [
        {
          "output_type": "stream",
          "name": "stdout",
          "text": [
            "Archive:  gdrive/My Drive/31.zip\n",
            "replace 31/First _FRII/4C44.19.png_1.png? [y]es, [n]o, [A]ll, [N]one, [r]ename: A\n",
            "  inflating: 31/First _FRII/4C44.19.png_1.png  \n",
            "  inflating: 31/First _FRII/3C272.png_0.png  \n",
            "  inflating: 31/First _FRII/TXS1519+228.png_1.png  \n",
            "  inflating: 31/First _FRII/TXS1525+210.png_1.png  \n",
            "  inflating: 31/First _FRII/1423-0276.png_1.png  \n",
            "  inflating: 31/First _FRII/3C323.png_0.png  \n",
            "  inflating: 31/First _FRII/4C18.43.png_0.png  \n",
            "  inflating: 31/First _FRII/1432-0305.png_0.png  \n",
            "  inflating: 31/First _FRII/4C43.21.png_0.png  \n",
            "  inflating: 31/First _FRII/TXS1440+189.png_0.png  \n",
            "  inflating: 31/First _FRII/QSOB1442+117.png_1.png  \n",
            "  inflating: 31/First _FRII/4C11.45.png_1.png  \n",
            "  inflating: 31/First _FRII/TXS1548+274.png_0.png  \n",
            "  inflating: 31/First _FRII/TXS1548+274.png_1.png  \n",
            "  inflating: 31/First _FRII/1409-0307.png_0.png  \n",
            "  inflating: 31/First _FRII/1409-0307.png_1.png  \n",
            "  inflating: 31/First _FRII/3C322.png_1.png  \n",
            "  inflating: 31/First _FRII/TXS1415+013.png_1.png  \n",
            "  inflating: 31/First _FRII/4C08.31.png_0.png  \n",
            "  inflating: 31/First _FRII/4C03.21.png_1.png  \n",
            "  inflating: 31/First _FRII/TXS1423+030.png_1.png  \n",
            "  inflating: 31/First _FRII/4C61.23.png_1.png  \n",
            "  inflating: 31/First _FRII/4C20.31.png_0.png  \n",
            "  inflating: 31/First _FRII/4C20.31.png_1.png  \n",
            "  inflating: 31/First _FRII/3C349.png_1.png  \n",
            "  inflating: 31/First _FRII/TXS1410015.png_0.png  \n",
            "  inflating: 31/First _FRII/TXS1140+217.png_1.png  \n",
            "  inflating: 31/First _FRII/4C04.41.png_0.png  \n",
            "  inflating: 31/First _FRII/4C20.29.png_1.png  \n",
            "  inflating: 31/First _FRII/4C05.54.png_1.png  \n",
            "  inflating: 31/First _FRII/4C59.11.png_1.png  \n",
            "  inflating: 31/First _FRII/4C23.24.png_0.png  \n",
            "  inflating: 31/First _FRII/4C45.13.png_1.png  \n",
            "  inflating: 31/First _FRII/TXS1431+008.png_0.png  \n",
            "  inflating: 31/First _FRII/TXS1431+008.png_1.png  \n",
            "  inflating: 31/First _FRII/4C12.56.png_0.png  \n",
            "  inflating: 31/First _FRII/TXS1508+128.png_1.png  \n",
            "  inflating: 31/First _FRII/3C325.png_0.png  \n",
            "  inflating: 31/First _FRII/TXS1500+185.png_1.png  \n",
            "  inflating: 31/First _FRII/4C08.38.png_1.png  \n",
            "  inflating: 31/First _FRII/TXS1500+128.png_1.png  \n",
            "  inflating: 31/First _FRII/B21457+29.png_1.png  \n",
            "  inflating: 31/First _FRII/3C240.png_1.png  \n",
            "  inflating: 31/First _FRII/3C277.3.png_0.png  \n",
            "  inflating: 31/First _FRII/1423-0005.png_0.png  \n",
            "  inflating: 31/First _FRII/1423-0005.png_1.png  \n",
            "  inflating: 31/First _FRII/3C247.png_0.png  \n",
            "  inflating: 31/First _FRII/7C1528+2910.png_0.png  \n",
            "  inflating: 31/First _FRII/TXS1432+028.png_1.png  \n",
            "  inflating: 31/First _FRII/TXS1509+229.png_1.png  \n",
            "  inflating: 31/First _FRII/BWE1522+1303.png_0.png  \n",
            "  inflating: 31/First _FRII/BWE1522+1303.png_1.png  \n",
            "  inflating: 31/First _FRII/4C09.41.png_0.png  \n",
            "  inflating: 31/First _FRII/4C09.41.png_1.png  \n",
            "  inflating: 31/First _FRII/TXS1427+012.png_1.png  \n",
            "  inflating: 31/First _FRII/4C37.32.png_0.png  \n",
            "  inflating: 31/First _FRII/TXS1500+185.png_0.png  \n",
            "  inflating: 31/First _FRII/TXS1532+139.png_1.png  \n",
            "  inflating: 31/First _FRII/TXS1415+013.png_0.png  \n",
            "  inflating: 31/First _FRII/4C02.34.png_0.png  \n",
            "  inflating: 31/First _FRII/4C52.22.png_1.png  \n",
            "  inflating: 31/First _FRII/4C18.44.png_0.png  \n",
            "  inflating: 31/First _FRII/1413-0255.png_1.png  \n",
            "  inflating: 31/First _FRII/4C20.29.png_0.png  \n",
            "  inflating: 31/First _FRII/4C02.34.png_1.png  \n",
            "  inflating: 31/First _FRII/TXS1447+213.png_0.png  \n",
            "  inflating: 31/First _FRII/4C30.21.png_1.png  \n",
            "  inflating: 31/First _FRII/4C12.41.png_1.png  \n",
            "  inflating: 31/First _FRII/1413-0255.png_0.png  \n",
            "  inflating: 31/First _FRII/4C04.41.png_1.png  \n",
            "  inflating: 31/First _FRII/4C17.60.png_1.png  \n",
            "  inflating: 31/First _FRII/3C299.png_1.png  \n",
            "  inflating: 31/First _FRII/GB6B1431+0230.png_1.png  \n",
            "  inflating: 31/First _FRII/4C11.47.png_0.png  \n",
            "  inflating: 31/First _FRII/4C25.38.png_1.png  \n",
            "  inflating: 31/First _FRII/4C11.40.png_0.png  \n",
            "  inflating: 31/First _FRII/4C11.40.png_1.png  \n",
            "  inflating: 31/First _FRII/4C32.24.png_0.png  \n",
            "  inflating: 31/First _FRII/TXS1511+103.png_0.png  \n",
            "  inflating: 31/First _FRII/TXS1507+298.png_0.png  \n",
            "  inflating: 31/First _FRII/TXS1515+176.png_0.png  \n",
            "  inflating: 31/First _FRII/4C39.29.png_1.png  \n",
            "  inflating: 31/First _FRII/3C249.png_0.png  \n",
            "  inflating: 31/First _FRII/4C10.41.png_0.png  \n",
            "  inflating: 31/First _FRII/4C10.41.png_1.png  \n",
            "  inflating: 31/First _FRII/TXS1550+211.png_0.png  \n",
            "  inflating: 31/First _FRII/TXS1550+211.png_1.png  \n",
            "  inflating: 31/First _FRII/TXS1507+235.png_0.png  \n",
            "  inflating: 31/First _FRII/TXS1519+103.png_0.png  \n",
            "  inflating: 31/First _FRII/TXS1515+176.png_1.png  \n",
            "  inflating: 31/First _FRII/TXS1508+205.png_0.png  \n",
            "  inflating: 31/First _FRII/TXS1525+135.png_1.png  \n",
            "  inflating: 31/First _FRII/3C272.png_1.png  \n",
            "  inflating: 31/First _FRII/TXS1440+147.png_0.png  \n",
            "  inflating: 31/First _FRII/3C350.png_0.png  \n",
            "  inflating: 31/First _FRII/TXS1447+213.png_1.png  \n",
            "  inflating: 31/First _FRII/TXS1454+132.png_0.png  \n",
            "  inflating: 31/First _FRII/TXS1454+132.png_1.png  \n",
            "  inflating: 31/First _FRII/3C324.png_0.png  \n",
            "  inflating: 31/First _FRII/4C12.41.png_0.png  \n",
            "  inflating: 31/First _FRII/3C340.png_0.png  \n",
            "  inflating: 31/First _FRII/3C340.png_1.png  \n",
            "  inflating: 31/First _FRII/4C08.38.png_0.png  \n",
            "  inflating: 31/First _FRII/3C270.1.png_0.png  \n",
            "  inflating: 31/First _FRII/3C270.1.png_1.png  \n",
            "  inflating: 31/First _FRII/4C31.40.png_1.png  \n",
            "  inflating: 31/First _FRII/4C10.40.png_1.png  \n",
            "  inflating: 31/First _FRII/3C280.1.png_0.png  \n",
            "  inflating: 31/First _FRII/3C196.png_1.png  \n",
            "  inflating: 31/First _FRII/3C326.1.png_1.png  \n",
            "  inflating: 31/First _FRII/TXS1548+188.png_0.png  \n",
            "  inflating: 31/First _FRII/3C265.png_0.png  \n",
            "  inflating: 31/First _FRII/4C18.45.png_1.png  \n",
            "  inflating: 31/First _FRII/4C11.47.png_1.png  \n",
            "  inflating: 31/First _FRII/4C53.18.png_1.png  \n",
            "  inflating: 31/First _FRII/TXS1508+108.png_1.png  \n",
            "  inflating: 31/First _FRII/7C1454+2753.png_0.png  \n",
            "  inflating: 31/First _FRII/3C249.png_1.png  \n",
            "  inflating: 31/First _FRII/TXS1413+007.png_0.png  \n",
            "  inflating: 31/First _FRII/TXS1451+118.png_0.png  \n",
            "  inflating: 31/First _FRII/TXS1418+030.png_0.png  \n",
            "  inflating: 31/First _FRII/4C14.35.png_0.png  \n",
            "  inflating: 31/First _FRII/3C247.png_1.png  \n",
            "  inflating: 31/First _FRII/4C10.33.png_0.png  \n",
            "  inflating: 31/First _FRII/4C10.33.png_1.png  \n",
            "  inflating: 31/First _FRII/TXS1525+135.png_0.png  \n",
            "  inflating: 31/First _FRII/TXS1152+551.png_0.png  \n",
            "  inflating: 31/First _FRII/TXS1519+228.png_0.png  \n",
            "  inflating: 31/First _FRII/3C356.png_0.png  \n",
            "  inflating: 31/First _FRII/3C356.png_1.png  \n",
            "  inflating: 31/First _FRII/TXS1525+210.png_0.png  \n",
            "  inflating: 31/First _FRII/3C351.png_0.png  \n",
            "  inflating: 31/First _FRII/3C275.png_0.png  \n",
            "  inflating: 31/First _FRII/3C275.png_1.png  \n",
            "  inflating: 31/First _FRII/7C1528+2910.png_1.png  \n",
            "  inflating: 31/First _FRII/4C20.36.png_0.png  \n",
            "  inflating: 31/First _FRII/B21457+29.png_0.png  \n",
            "  inflating: 31/First _FRII/4C00.56.png_0.png  \n",
            "  inflating: 31/First _FRII/4C00.56.png_1.png  \n",
            "  inflating: 31/First _FRII/1432+0262.png_1.png  \n",
            "  inflating: 31/First _FRII/TXS1451+118.png_1.png  \n",
            "  inflating: 31/First _FRII/TXS1519+103.png_1.png  \n",
            "  inflating: 31/First _FRII/3C240.png_0.png  \n",
            "  inflating: 31/First _FRII/4C44.19.png_0.png  \n",
            "  inflating: 31/First _FRII/J140929-01.png_0.png  \n",
            "  inflating: 31/First _FRII/TXS1508+205.png_1.png  \n",
            "  inflating: 31/First _FRII/TXS1418+030.png_1.png  \n",
            "  inflating: 31/First _FRII/TXS1152+551.png_1.png  \n",
            "  inflating: 31/First _FRII/1423-0276.png_0.png  \n",
            "  inflating: 31/First _FRII/TXS1452+204.png_0.png  \n",
            "  inflating: 31/First _FRII/TXS1452+204.png_1.png  \n",
            "  inflating: 31/First _FRII/3C207.png_1.png  \n",
            "  inflating: 31/First _FRII/4C44.22.png_1.png  \n",
            "  inflating: 31/First _FRII/1438-0081.png_1.png  \n",
            "  inflating: 31/First _FRII/3C200.png_0.png  \n",
            "  inflating: 31/First _FRII/4C30.21.png_0.png  \n",
            "  inflating: 31/First _FRII/4C18.44.png_1.png  \n",
            "  inflating: 31/First _FRII/TXS1410015.png_1.png  \n",
            "  inflating: 31/First _FRII/TXS1451+191.png_0.png  \n",
            "  inflating: 31/First _FRII/TXS1451+191.png_1.png  \n",
            "  inflating: 31/First _FRII/TXS1440+189.png_1.png  \n",
            "  inflating: 31/First _FRII/3C332.png_0.png  \n",
            "  inflating: 31/First _FRII/3C332.png_1.png  \n",
            "  inflating: 31/First _FRII/TXS1427+012.png_0.png  \n",
            "  inflating: 31/First _FRII/4C05.53.png_0.png  \n",
            "  inflating: 31/First _FRII/TXS1500+128.png_0.png  \n",
            "  inflating: 31/First _FRII/4C08.31.png_1.png  \n",
            "  inflating: 31/First _FRII/TXS1509+213.png_0.png  \n",
            "  inflating: 31/First _FRII/3C277.3.png_1.png  \n",
            "  inflating: 31/First _FRII/TXS1509+229.png_0.png  \n",
            "  inflating: 31/First _FRII/TXS1430+011.png_0.png  \n",
            "  inflating: 31/First _FRII/TXS1448+164.png_1.png  \n",
            "  inflating: 31/First _FRII/TXS1440+163.png_1.png  \n",
            "  inflating: 31/First _FRII/3C280.png_0.png  \n",
            "  inflating: 31/First _FRII/TXS1128+455.png_0.png  \n",
            "  inflating: 31/First _FRII/4C55.21.png_0.png  \n",
            "  inflating: 31/First _FRII/7C1511+2422.png_1.png  \n",
            "  inflating: 31/First _FRII/TXS1423+030.png_0.png  \n",
            "  inflating: 31/First _FRII/4C52.22.png_0.png  \n",
            "  inflating: 31/First _FRII/TXS1140+217.png_0.png  \n",
            "  inflating: 31/First _FRII/TXS1440+151.png_1.png  \n",
            "  inflating: 31/First _FRII/4C-04.40.png_1.png  \n",
            "  inflating: 31/First _FRII/TXS1515+160.png_0.png  \n",
            "  inflating: 31/First _FRII/BWE1524+1302.png_1.png  \n",
            "  inflating: 31/First _FRII/4C32.25A.png_0.png  \n",
            "  inflating: 31/First _FRII/4C32.25A.png_1.png  \n",
            "  inflating: 31/First _FRII/TXS1514+215.png_1.png  \n",
            "  inflating: 31/First _FRII/J142746+00.png_0.png  \n",
            "  inflating: 31/First _FRII/TXS1410+028.png_0.png  \n",
            "  inflating: 31/First _FRII/4C45.13.png_0.png  \n",
            "  inflating: 31/First _FRII/4C12.56.png_1.png  \n",
            "  inflating: 31/First _FRII/TXS1509+285.png_1.png  \n",
            "  inflating: 31/First _FRII/4C31.32.png_0.png  \n",
            "  inflating: 31/First _FRII/4C31.32.png_1.png  \n",
            "  inflating: 31/First _FRII/3C350.png_1.png  \n",
            "  inflating: 31/First _FRII/4C31.40.png_0.png  \n",
            "  inflating: 31/First _FRII/4C17.60.png_0.png  \n",
            "  inflating: 31/First _FRII/4C05.54.png_0.png  \n",
            "  inflating: 31/First _FRII/TXS1440+151.png_0.png  \n",
            "  inflating: 31/First _FRII/TXS1501+126.png_0.png  \n",
            "  inflating: 31/First _FRII/TXS1501+126.png_1.png  \n",
            "  inflating: 31/First _FRII/4C00.35.png_0.png  \n",
            "  inflating: 31/First _FRII/4C00.40.png_0.png  \n",
            "  inflating: 31/First _FRII/7C1511+2422.png_0.png  \n",
            "  inflating: 31/First _FRII/4C10.40.png_0.png  \n",
            "  inflating: 31/First _FRII/3C234.png_0.png  \n",
            "  inflating: 31/First _FRII/TXS1421+006.png_1.png  \n",
            "  inflating: 31/First _FRII/3C281.png_0.png  \n",
            "  inflating: 31/First _FRII/TXS1440+147.png_1.png  \n",
            "  inflating: 31/First _FRII/TXS1413+007.png_1.png  \n",
            "  inflating: 31/First _FRII/TXS1511+103.png_1.png  \n",
            "  inflating: 31/First _FRII/TXS1507+298.png_1.png  \n",
            "  inflating: 31/First _FRII/1432+0262.png_0.png  \n",
            "  inflating: 31/First _FRII/TXS1507+235.png_1.png  \n",
            "  inflating: 31/First _FRII/J140929-01.png_1.png  \n",
            "  inflating: 31/First _FRII/4C39.29.png_0.png  \n",
            "  inflating: 31/First _FRII/3C351.png_1.png  \n",
            "  inflating: 31/First _FRII/3C207.png_0.png  \n",
            "  inflating: 31/First _FRII/4C61.23.png_0.png  \n",
            "  inflating: 31/First _FRII/3C323.png_1.png  \n",
            "  inflating: 31/First _FRII/4C44.22.png_0.png  \n",
            "  inflating: 31/First _FRII/4C14.35.png_1.png  \n",
            "  inflating: 31/First _FRII/4C20.36.png_1.png  \n",
            "  inflating: 31/First _FRII/1438-0081.png_0.png  \n",
            "  inflating: 31/First _FRII/3C349.png_0.png  \n",
            "  inflating: 31/First _FRII/4C18.43.png_1.png  \n",
            "  inflating: 31/First _FRII/QSOB1442+117.png_0.png  \n",
            "  inflating: 31/First _FRII/4C37.32.png_1.png  \n",
            "  inflating: 31/First _FRII/4C14.56.png_0.png  \n",
            "  inflating: 31/First _FRII/4C05.53.png_1.png  \n",
            "  inflating: 31/First _FRII/1503+1251.png_0.png  \n",
            "  inflating: 31/First _FRII/3C289.png_0.png  \n",
            "  inflating: 31/First _FRII/3C322.png_0.png  \n",
            "  inflating: 31/First _FRII/4C03.21.png_0.png  \n",
            "  inflating: 31/First _FRII/J143244-00.png_1.png  \n",
            "  inflating: 31/First _FRII/TXS1509+213.png_1.png  \n",
            "  inflating: 31/First _FRII/3C324.png_1.png  \n",
            "  inflating: 31/First _FRII/4C59.11.png_0.png  \n",
            "  inflating: 31/First _FRII/TXS1128+455.png_1.png  \n",
            "  inflating: 31/First _FRII/3C251.png_1.png  \n",
            "  inflating: 31/First _FRII/4C11.45.png_0.png  \n",
            "  inflating: 31/First _FRII/TXS1410+028.png_1.png  \n",
            "  inflating: 31/First _FRII/TXS1508+128.png_0.png  \n",
            "  inflating: 31/First _FRII/3C325.png_1.png  \n",
            "  inflating: 31/First _FRII/TXS1239+577.png_0.png  \n",
            "  inflating: 31/First _FRII/4C-04.40.png_0.png  \n",
            "  inflating: 31/First _FRII/TXS1430+011.png_1.png  \n",
            "  inflating: 31/First _FRII/4C00.35.png_1.png  \n",
            "  inflating: 31/First _FRII/TXS1515+160.png_1.png  \n",
            "  inflating: 31/First _FRII/TXS1448+164.png_0.png  \n",
            "  inflating: 31/First _FRII/TXS1440+163.png_0.png  \n",
            "  inflating: 31/First _FRII/3C280.png_1.png  \n",
            "  inflating: 31/First _FRII/3C251.png_0.png  \n",
            "  inflating: 31/First _FRII/BWE1524+1302.png_0.png  \n",
            "  inflating: 31/First _FRII/4C23.24.png_1.png  \n",
            "  inflating: 31/First _FRII/4C00.40.png_1.png  \n",
            "  inflating: 31/First _FRII/TXS1514+215.png_0.png  \n",
            "  inflating: 31/First _FRII/TXS1416+006.png_0.png  \n",
            "  inflating: 31/First _FRII/TXS1416+006.png_1.png  \n",
            "  inflating: 31/First _FRII/1503+1251.png_1.png  \n",
            "  inflating: 31/First _FRII/3C300.png_1.png  \n",
            "  inflating: 31/First _FRII/3C289.png_1.png  \n",
            "  inflating: 31/First _FRII/1432-0305.png_1.png  \n",
            "  inflating: 31/First _FRII/J142746+00.png_1.png  \n",
            "  inflating: 31/First _FRII/3C277.2.png_0.png  \n",
            "  inflating: 31/First _FRII/3C277.2.png_1.png  \n",
            "  inflating: 31/First _FRII/4C55.21.png_1.png  \n",
            "  inflating: 31/First _FRII/TXS1239+577.png_1.png  \n",
            "  inflating: 31/First _FRII/TXS1532+139.png_0.png  \n",
            "  inflating: 31/First _FRII/4C43.21.png_1.png  \n",
            "  inflating: 31/First _FRII/3C200.png_1.png  \n",
            "  inflating: 31/First _FRII/4C14.56.png_1.png  \n",
            "  inflating: 31/First _FRII/3C300.png_0.png  \n",
            "  inflating: 31/First _FRII/TXS1509+285.png_0.png  \n",
            "  inflating: 31/First _FRII/TXS1452+277.png_0.png  \n",
            "  inflating: 31/First _FRII/TXS1452+277.png_1.png  \n",
            "  inflating: 31/First _FRII/TXS1432+028.png_0.png  \n",
            "  inflating: 31/First _FRII/4C46.23.png_1.png  \n",
            "  inflating: 31/First _FRII/4C00.50.png_1.png  \n",
            "  inflating: 31/First _FRII/TXS1456+143.png_1.png  \n",
            "  inflating: 31/First _FRII/J142235-01.png_0.png  \n",
            "  inflating: 31/First _FRII/4C20.28.png_0.png  \n",
            "  inflating: 31/First _FRII/TXS1411+002.png_0.png  \n",
            "  inflating: 31/First _FRII/4C15.45.png_1.png  \n",
            "  inflating: 31/First _FRII/TXS1409030.png_0.png  \n",
            "  inflating: 31/First _FRII/TXS1409030.png_1.png  \n",
            "  inflating: 31/First _FRII/3C333.png_1.png  \n",
            "  inflating: 31/First _FRII/TXS1455+251.png_1.png  \n",
            "  inflating: 31/First _FRII/3C208.1.png_1.png  \n",
            "  inflating: 31/First _FRII/3C253.png_1.png  \n",
            "  inflating: 31/First _FRII/1430-0192.png_1.png  \n",
            "  inflating: 31/First _FRII/4C04.40.png_0.png  \n",
            "  inflating: 31/First _FRII/7C1512+2337.png_0.png  \n",
            "  inflating: 31/First _FRII/4C41.22.png_0.png  \n",
            "  inflating: 31/First _FRII/4C17.50.png_0.png  \n",
            "  inflating: 31/First _FRII/J143244-00.png_0.png  \n",
            "  inflating: 31/First _FRII/TXS1512+104B.png_1.png  \n",
            "  inflating: 31/First _FRII/3C241.png_0.png  \n",
            "  inflating: 31/First _FRII/3C254.png_0.png  \n",
            "  inflating: 31/First _FRII/3C254.png_1.png  \n",
            "  inflating: 31/First _FRII/4C59.13.png_1.png  \n",
            "  inflating: 31/First _FRII/TXS1543+180.png_0.png  \n",
            "  inflating: 31/First _FRII/1437+0175.png_0.png  \n",
            "  inflating: 31/First _FRII/4C28.38.png_1.png  \n",
            "  inflating: 31/First _FRII/4C14.54.png_1.png  \n",
            "  inflating: 31/First _FRII/4C37.34.png_0.png  \n",
            "  inflating: 31/First _FRII/4C14.57.png_0.png  \n",
            "  inflating: 31/First _FRII/3C341.png_0.png  \n",
            "  inflating: 31/First _FRII/3C265.png_1.png  \n",
            "  inflating: 31/First _FRII/4C61.34.png_0.png  \n",
            "  inflating: 31/First _FRII/TXS1520+221.png_1.png  \n",
            "  inflating: 31/First _FRII/TXS0757+503.png_0.png  \n",
            "  inflating: 31/First _FRII/TXS0757+503.png_1.png  \n",
            "  inflating: 31/First _FRII/3C319.png_0.png  \n",
            "  inflating: 31/First _FRII/1426+0093.png_0.png  \n",
            "  inflating: 31/First _FRII/4C06.35.png_0.png  \n",
            "  inflating: 31/First _FRII/4C01.42.png_0.png  \n",
            "  inflating: 31/First _FRII/4C01.42.png_1.png  \n",
            "  inflating: 31/First _FRII/3C299.png_0.png  \n",
            "  inflating: 31/First _FRII/4C01.39.png_0.png  \n",
            "  inflating: 31/First _FRII/TXS1434+019.png_0.png  \n",
            "  inflating: 31/First _FRII/3C306.png_1.png  \n",
            "  inflating: 31/First _FRII/4C16.41.png_1.png  \n",
            "  inflating: 31/First _FRII/3C250.png_0.png  \n",
            "  inflating: 31/First _FRII/TXS1130+504.png_0.png  \n",
            "  inflating: 31/First _FRII/4C00.48.png_1.png  \n",
            "  inflating: 31/First _FRII/3C326.1.png_0.png  \n",
            "  inflating: 31/First _FRII/TXS1529+110.png_1.png  \n",
            "  inflating: 31/First _FRII/4C15.45.png_0.png  \n",
            "  inflating: 31/First _FRII/TXS1249+530.png_0.png  \n",
            "  inflating: 31/First _FRII/TXS1249+530.png_1.png  \n",
            "  inflating: 31/First _FRII/4C26.44.png_1.png  \n",
            "  inflating: 31/First _FRII/TXS1455+251.png_0.png  \n",
            "  inflating: 31/First _FRII/TXS1446+177.png_0.png  \n",
            "  inflating: 31/First _FRII/3C208.1.png_0.png  \n",
            "  inflating: 31/First _FRII/4C02.61.png_1.png  \n",
            "  inflating: 31/First _FRII/TXS1551+179.png_1.png  \n",
            "  inflating: 31/First _FRII/4C04.40.png_1.png  \n",
            "  inflating: 31/First _FRII/3C333.png_0.png  \n",
            "  inflating: 31/First _FRII/3C334.png_0.png  \n",
            "  inflating: 31/First _FRII/TXS1446+177.png_1.png  \n",
            "  inflating: 31/First _FRII/4C18.39.png_0.png  \n",
            "  inflating: 31/First _FRII/J1553+1401.png_1.png  \n",
            "  inflating: 31/First _FRII/4C00.37.png_0.png  \n",
            "  inflating: 31/First _FRII/4C00.37.png_1.png  \n",
            "  inflating: 31/First _FRII/4C25.36.png_1.png  \n",
            "  inflating: 31/First _FRII/3C192.png_0.png  \n",
            "  inflating: 31/First _FRII/1408+0281.png_0.png  \n",
            "  inflating: 31/First _FRII/4C16.42.png_0.png  \n",
            "  inflating: 31/First _FRII/TXS1520+221.png_0.png  \n",
            "  inflating: 31/First _FRII/4C53.16.png_1.png  \n",
            "  inflating: 31/First _FRII/4C41.22.png_1.png  \n",
            "  inflating: 31/First _FRII/4C17.50.png_1.png  \n",
            "  inflating: 31/First _FRII/1408+0281.png_1.png  \n",
            "  inflating: 31/First _FRII/4C59.13.png_0.png  \n",
            "  inflating: 31/First _FRII/4C16.42.png_1.png  \n",
            "  inflating: 31/First _FRII/3C253.png_0.png  \n",
            "  inflating: 31/First _FRII/TXS1440+119.png_1.png  \n",
            "  inflating: 31/First _FRII/GB6B1431+0230.png_0.png  \n",
            "  inflating: 31/First _FRII/4C14.57.png_1.png  \n",
            "  inflating: 31/First _FRII/TXS1411+002.png_1.png  \n",
            "  inflating: 31/First _FRII/TXS1529+110.png_0.png  \n",
            "  inflating: 31/First _FRII/TXS1548+188.png_1.png  \n",
            "  inflating: 31/First _FRII/4C25.36.png_0.png  \n",
            "  inflating: 31/First _FRII/4C53.16.png_0.png  \n",
            "  inflating: 31/First _FRII/4C29.44.png_1.png  \n",
            "  inflating: 31/First _FRII/4C24.31.png_0.png  \n",
            "  inflating: 31/First _FRII/4C24.31.png_1.png  \n",
            "  inflating: 31/First _FRII/TXS1512+104B.png_0.png  \n",
            "  inflating: 31/First _FRII/3C319.png_1.png  \n",
            "  inflating: 31/First _FRII/3C248.png_0.png  \n",
            "  inflating: 31/First _FRII/4C61.34.png_1.png  \n",
            "  inflating: 31/First _FRII/1419-0324.png_0.png  \n",
            "  inflating: 31/First _FRII/4C18.45.png_0.png  \n",
            "  inflating: 31/First _FRII/4C13.55.png_0.png  \n",
            "  inflating: 31/First _FRII/4C02.61.png_0.png  \n",
            "  inflating: 31/First _FRII/TXS1551+179.png_0.png  \n",
            "  inflating: 31/First _FRII/TXS1445+167.png_0.png  \n",
            "  inflating: 31/First _FRII/3C337.png_1.png  \n",
            "  inflating: 31/First _FRII/TXS1423+019.png_0.png  \n",
            "  inflating: 31/First _FRII/TXS1415+008.png_0.png  \n",
            "  inflating: 31/First _FRII/4C41.19.png_0.png  \n",
            "  inflating: 31/First _FRII/4C41.19.png_1.png  \n",
            "  inflating: 31/First _FRII/3C202.png_0.png  \n",
            "  inflating: 31/First _FRII/4C54.30.png_0.png  \n",
            "  inflating: 31/First _FRII/4C32.40.png_0.png  \n",
            "  inflating: 31/First _FRII/3C239.png_0.png  \n",
            "  inflating: 31/First _FRII/4C24.35.png_1.png  \n",
            "  inflating: 31/First _FRII/1437-0069.png_0.png  \n",
            "  inflating: 31/First _FRII/3C274.1.png_1.png  \n",
            "  inflating: 31/First _FRII/3C269.png_1.png  \n",
            "  inflating: 31/First _FRII/TXS1423+018.png_1.png  \n",
            "  inflating: 31/First _FRII/TXS1443+125.png_0.png  \n",
            "  inflating: 31/First _FRII/3C303.png_1.png  \n",
            "  inflating: 31/First _FRII/TXS1412+031.png_0.png  \n",
            "  inflating: 31/First _FRII/TXS1451+292.png_1.png  \n",
            "  inflating: 31/First _FRII/4C21.26.png_1.png  \n",
            "  inflating: 31/First _FRII/3C268.4.png_0.png  \n",
            "  inflating: 31/First _FRII/4C20.33.png_1.png  \n",
            "  inflating: 31/First _FRII/3C321.png_1.png  \n",
            "  inflating: 31/First _FRII/3C241.png_1.png  \n",
            "  inflating: 31/First _FRII/1426+0093.png_1.png  \n",
            "  inflating: 31/First _FRII/4C00.50.png_0.png  \n",
            "  inflating: 31/First _FRII/4C52.18.png_0.png  \n",
            "  inflating: 31/First _FRII/TXS1515+269.png_1.png  \n",
            "  inflating: 31/First _FRII/3C234.png_1.png  \n",
            "  inflating: 31/First _FRII/4C00.46.png_0.png  \n",
            "  inflating: 31/First _FRII/4C00.46.png_1.png  \n",
            "  inflating: 31/First _FRII/3C280.1.png_1.png  \n",
            "  inflating: 31/First _FRII/TXS1434+019.png_1.png  \n",
            "  inflating: 31/First _FRII/3C250.png_1.png  \n",
            "  inflating: 31/First _FRII/3C196.png_0.png  \n",
            "  inflating: 31/First _FRII/TXS1456+143.png_0.png  \n",
            "  inflating: 31/First _FRII/TXS1410+027.png_1.png  \n",
            "  inflating: 31/First _FRII/MRC1408030.png_0.png  \n",
            "  inflating: 31/First _FRII/MRC1408030.png_1.png  \n",
            "  inflating: 31/First _FRII/4C16.30.png_0.png  \n",
            "  inflating: 31/First _FRII/4C16.30.png_1.png  \n",
            "  inflating: 31/First _FRII/TXS1425+005.png_1.png  \n",
            "  inflating: 31/First _FRII/7C1512+2337.png_1.png  \n",
            "  inflating: 31/First _FRII/3C285.png_0.png  \n",
            "  inflating: 31/First _FRII/3C287.1.png_0.png  \n",
            "  inflating: 31/First _FRII/3C261.png_1.png  \n",
            "  inflating: 31/First _FRII/J142235-01.png_1.png  \n",
            "  inflating: 31/First _FRII/4C37.34.png_1.png  \n",
            "  inflating: 31/First _FRII/4C26.44.png_0.png  \n",
            "  inflating: 31/First _FRII/4C18.39.png_1.png  \n",
            "  inflating: 31/First _FRII/3C266.png_0.png  \n",
            "  inflating: 31/First _FRII/TXS1435+031.png_0.png  \n",
            "  inflating: 31/First _FRII/TXS1435+031.png_1.png  \n",
            "  inflating: 31/First _FRII/4C53.24.png_0.png  \n",
            "  inflating: 31/First _FRII/3C342.png_0.png  \n",
            "  inflating: 31/First _FRII/3C342.png_1.png  \n",
            "  inflating: 31/First _FRII/1430-0192.png_0.png  \n",
            "  inflating: 31/First _FRII/4C21.42.png_0.png  \n",
            "  inflating: 31/First _FRII/4C21.42.png_1.png  \n",
            "  inflating: 31/First _FRII/TXS1508+148.png_1.png  \n",
            "  inflating: 31/First _FRII/4C15.48.png_1.png  \n",
            "  inflating: 31/First _FRII/3C300.1.png_0.png  \n",
            "  inflating: 31/First _FRII/TXS1437+009.png_1.png  \n",
            "  inflating: 31/First _FRII/TXS1515+146.png_0.png  \n",
            "  inflating: 31/First _FRII/TXS1515+146.png_1.png  \n",
            "  inflating: 31/First _FRII/TXS1435+020.png_0.png  \n",
            "  inflating: 31/First _FRII/TXS1435+020.png_1.png  \n",
            "  inflating: 31/First _FRII/TXS1524+149.png_1.png  \n",
            "  inflating: 31/First _FRII/TXS1130+504.png_1.png  \n",
            "  inflating: 31/First _FRII/4C20.28.png_1.png  \n",
            "  inflating: 31/First _FRII/4C25.38.png_0.png  \n",
            "  inflating: 31/First _FRII/1437+0175.png_1.png  \n",
            "  inflating: 31/First _FRII/4C28.38.png_0.png  \n",
            "  inflating: 31/First _FRII/TXS1534+145.png_0.png  \n",
            "  inflating: 31/First _FRII/TXS1534+145.png_1.png  \n",
            "  inflating: 31/First _FRII/TXS1440+119.png_0.png  \n",
            "  inflating: 31/First _FRII/4C00.48.png_0.png  \n",
            "  inflating: 31/First _FRII/TXS1459+133.png_0.png  \n",
            "  inflating: 31/First _FRII/4C32.24.png_1.png  \n",
            "  inflating: 31/First _FRII/TXS1425+005.png_0.png  \n",
            "  inflating: 31/First _FRII/J1553+1401.png_0.png  \n",
            "  inflating: 31/First _FRII/3C285.png_1.png  \n",
            "  inflating: 31/First _FRII/3C266.png_1.png  \n",
            "  inflating: 31/First _FRII/4C14.54.png_0.png  \n",
            "  inflating: 31/First _FRII/3C300.1.png_1.png  \n",
            "  inflating: 31/First _FRII/4C12.55.png_1.png  \n",
            "  inflating: 31/First _FRII/TXS1530+161.png_0.png  \n",
            "  inflating: 31/First _FRII/TXS1454+268.png_0.png  \n",
            "  inflating: 31/First _FRII/TXS1454+268.png_1.png  \n",
            "  inflating: 31/First _FRII/4C01.33.png_1.png  \n",
            "  inflating: 31/First _FRII/TXS1525+227.png_0.png  \n",
            "  inflating: 31/First _FRII/TXS1445+167.png_1.png  \n",
            "  inflating: 31/First _FRII/3C242.png_0.png  \n",
            "  inflating: 31/First _FRII/3C242.png_1.png  \n",
            "  inflating: 31/First _FRII/J141932+00.png_1.png  \n",
            "  inflating: 31/First _FRII/TXS1423+019.png_1.png  \n",
            "  inflating: 31/First _FRII/TXS1415+008.png_1.png  \n",
            "  inflating: 31/First _FRII/4C01.19.png_0.png  \n",
            "  inflating: 31/First _FRII/4C01.19.png_1.png  \n",
            "  inflating: 31/First _FRII/4C09.44.png_0.png  \n",
            "  inflating: 31/First _FRII/TXS1437+009.png_0.png  \n",
            "  inflating: 31/First _FRII/4C27.31.png_1.png  \n",
            "  inflating: 31/First _FRII/TXS1115+536.png_0.png  \n",
            "  inflating: 31/First _FRII/4C33.27.png_0.png  \n",
            "  inflating: 31/First _FRII/4C33.27.png_1.png  \n",
            "  inflating: 31/First _FRII/4C11.51.png_1.png  \n",
            "  inflating: 31/First _FRII/TXS1431011.png_1.png  \n",
            "  inflating: 31/First _FRII/4C38.29.png_0.png  \n",
            "  inflating: 31/First _FRII/3C205.png_1.png  \n",
            "  inflating: 31/First _FRII/4C20.33.png_0.png  \n",
            "  inflating: 31/First _FRII/DA240.png_0.png  \n",
            "  inflating: 31/First _FRII/DA240.png_1.png  \n",
            "  inflating: 31/First _FRII/4C52.18.png_1.png  \n",
            "  inflating: 31/First _FRII/3C248.png_1.png  \n",
            "  inflating: 31/First _FRII/TXS1515+269.png_0.png  \n",
            "  inflating: 31/First _FRII/TXS1421+006.png_0.png  \n",
            "  inflating: 31/First _FRII/4C16.41.png_0.png  \n",
            "  inflating: 31/First _FRII/TXS1524+149.png_0.png  \n",
            "  inflating: 31/First _FRII/3C281.png_1.png  \n",
            "  inflating: 31/First _FRII/4C29.44.png_0.png  \n",
            "  inflating: 31/First _FRII/4C06.35.png_1.png  \n",
            "  inflating: 31/First _FRII/4C01.39.png_1.png  \n",
            "  inflating: 31/First _FRII/4C06.32.png_0.png  \n",
            "  inflating: 31/First _FRII/4C06.32.png_1.png  \n",
            "  inflating: 31/First _FRII/4C46.23.png_0.png  \n",
            "  inflating: 31/First _FRII/3C306.png_0.png  \n",
            "  inflating: 31/First _FRII/4C00.34.png_1.png  \n",
            "  inflating: 31/First _FRII/1419-0324.png_1.png  \n",
            "  inflating: 31/First _FRII/4C05.60.png_0.png  \n",
            "  inflating: 31/First _FRII/4C05.60.png_1.png  \n",
            "  inflating: 31/First _FRII/TXS1410+027.png_0.png  \n",
            "  inflating: 31/First _FRII/TXS1459+133.png_1.png  \n",
            "  inflating: 31/First _FRII/3C341.png_1.png  \n",
            "  inflating: 31/First _FRII/4C53.18.png_0.png  \n",
            "  inflating: 31/First _FRII/3C287.1.png_1.png  \n",
            "  inflating: 31/First _FRII/3C192.png_1.png  \n",
            "  inflating: 31/First _FRII/TXS1543+180.png_1.png  \n",
            "  inflating: 31/First _FRII/3C261.png_0.png  \n",
            "  inflating: 31/First _FRII/TXS1452+144.png_0.png  \n",
            "  inflating: 31/First _FRII/TXS1452+144.png_1.png  \n",
            "  inflating: 31/First _FRII/4C00.34.png_0.png  \n",
            "  inflating: 31/First _FRII/3C334.png_1.png  \n",
            "  inflating: 31/First _FRII/4C13.55.png_1.png  \n",
            "  inflating: 31/First _FRII/TXS1508+108.png_0.png  \n",
            "  inflating: 31/First _FRII/7C1454+2753.png_1.png  \n",
            "  inflating: 31/First _FRII/TXS1508+148.png_0.png  \n",
            "  inflating: 31/First _FRII/4C15.48.png_0.png  \n",
            "  inflating: 31/First _FRII/4C52.27.png_1.png  \n",
            "  inflating: 31/First _FRII/F2MJ153233.19+2.png_0.png  \n",
            "  inflating: 31/First _FRII/3C205.png_0.png  \n",
            "  inflating: 31/First _FRII/4C30.23.png_1.png  \n",
            "  inflating: 31/First _FRII/3C268.4.png_1.png  \n",
            "  inflating: 31/First _FRII/F2MJ153233.19+2.png_1.png  \n",
            "  inflating: 31/First _FRII/TXS1522+281.png_1.png  \n",
            "  inflating: 31/First _FRII/TXS1431001.png_0.png  \n",
            "  inflating: 31/First _FRII/TXS1519+108.png_1.png  \n",
            "  inflating: 31/First _FRII/4C02.29.png_1.png  \n",
            "  inflating: 31/First _FRII/3C269.png_0.png  \n",
            "  inflating: 31/First _FRII/TXS1533+280.png_0.png  \n",
            "  inflating: 31/First _FRII/3C344.png_0.png  \n",
            "  inflating: 31/First _FRII/TXS1431011.png_0.png  \n",
            "  inflating: 31/First _FRII/4C17.56.png_1.png  \n",
            "  inflating: 31/First _FRII/TXS1457+241.png_0.png  \n",
            "  inflating: 31/First _FRII/4C46.21.png_0.png  \n",
            "  inflating: 31/First _FRII/TXS1452+258.png_1.png  \n",
            "  inflating: 31/First _FRII/TXS1513+144.png_0.png  \n",
            "  inflating: 31/First _FRII/4C53.24.png_1.png  \n",
            "  inflating: 31/First _FRII/J141932+00.png_0.png  \n",
            "  inflating: 31/First _FRII/TXS1459+194.png_1.png  \n",
            "  inflating: 31/First _FRII/4C09.44.png_1.png  \n",
            "  inflating: 31/First _FRII/3C326.png_1.png  \n",
            "  inflating: 31/First _FRII/4C55.22.png_0.png  \n",
            "  inflating: 31/First _FRII/4C30.23.png_0.png  \n",
            "  inflating: 31/First _FRII/4C21.26.png_0.png  \n",
            "  inflating: 31/First _FRII/4C11.51.png_0.png  \n",
            "  inflating: 31/First _FRII/4C18.40.png_0.png  \n",
            "  inflating: 31/First _FRII/4C18.40.png_1.png  \n",
            "  inflating: 31/First _FRII/TXS1533+280.png_1.png  \n",
            "  inflating: 31/First _FRII/1432+0078.png_0.png  \n",
            "  inflating: 31/First _FRII/TXS1456+251.png_0.png  \n",
            "  inflating: 31/First _FRII/TXS1456+251.png_1.png  \n",
            "  inflating: 31/First _FRII/1438+0022.png_1.png  \n",
            "  inflating: 31/First _FRII/1423+0052.png_0.png  \n",
            "  inflating: 31/First _FRII/4C00.43.png_1.png  \n",
            "  inflating: 31/First _FRII/TXS1530+161.png_1.png  \n",
            "  inflating: 31/First _FRII/4C37.21.png_0.png  \n",
            "  inflating: 31/First _FRII/4C37.21.png_1.png  \n",
            "  inflating: 31/First _FRII/3C277.png_0.png  \n",
            "  inflating: 31/First _FRII/3C277.png_1.png  \n",
            "  inflating: 31/First _FRII/4C01.33.png_0.png  \n",
            "  inflating: 31/First _FRII/TXS1525+227.png_1.png  \n",
            "  inflating: 31/First _FRII/TXS1115+536.png_1.png  \n",
            "  inflating: 31/First _FRII/4C32.40.png_1.png  \n",
            "  inflating: 31/First _FRII/3C294.png_1.png  \n",
            "  inflating: 31/First _FRII/TXS1431001.png_1.png  \n",
            "  inflating: 31/First _FRII/4C22.25.png_0.png  \n",
            "  inflating: 31/First _FRII/4C22.25.png_1.png  \n",
            "  inflating: 31/First _FRII/QSOB1505+113.png_0.png  \n",
            "  inflating: 31/First _FRII/TXS1505+247.png_1.png  \n",
            "  inflating: 31/First _FRII/4C02.29.png_0.png  \n",
            "  inflating: 31/First _FRII/4C09.45.png_0.png  \n",
            "  inflating: 31/First _FRII/1415+0060.png_1.png  \n",
            "  inflating: 31/First _FRII/TXS1455+253.png_1.png  \n",
            "  inflating: 31/First _FRII/BWE1459+2451.png_1.png  \n",
            "  inflating: 31/First _FRII/3C252.png_0.png  \n",
            "  inflating: 31/First _FRII/3C252.png_1.png  \n",
            "  inflating: 31/First _FRII/3C284.png_1.png  \n",
            "  inflating: 31/First _FRII/4C17.56.png_0.png  \n",
            "  inflating: 31/First _FRII/TXS1457+241.png_1.png  \n",
            "  inflating: 31/First _FRII/4C38.29.png_1.png  \n",
            "  inflating: 31/First _FRII/TXS1443+125.png_1.png  \n",
            "  inflating: 31/First _FRII/3C303.png_0.png  \n",
            "  inflating: 31/First _FRII/TXS1513+144.png_1.png  \n",
            "  inflating: 31/First _FRII/TXS1454+271.png_1.png  \n",
            "  inflating: 31/First _FRII/3C337.png_0.png  \n",
            "  inflating: 31/First _FRII/TXS1412+031.png_1.png  \n",
            "  inflating: 31/First _FRII/TXS1459+194.png_0.png  \n",
            "  inflating: 31/First _FRII/TXS1411+019.png_0.png  \n",
            "  inflating: 31/First _FRII/TXS1411+019.png_1.png  \n",
            "  inflating: 31/First _FRII/TXS1451+292.png_0.png  \n",
            "  inflating: 31/First _FRII/3C202.png_1.png  \n",
            "  inflating: 31/First _FRII/4C54.30.png_1.png  \n",
            "  inflating: 31/First _FRII/4C27.31.png_0.png  \n",
            "  inflating: 31/First _FRII/4C43.22.png_0.png  \n",
            "  inflating: 31/First _FRII/4C43.22.png_1.png  \n",
            "  inflating: 31/First _FRII/4C52.27.png_0.png  \n",
            "  inflating: 31/First _FRII/3C321.png_0.png  \n",
            "  inflating: 31/First _FRII/TXS1522+281.png_0.png  \n",
            "  inflating: 31/First _FRII/3C239.png_1.png  \n",
            "  inflating: 31/First _FRII/4C24.35.png_0.png  \n",
            "  inflating: 31/First _FRII/4C43.19.png_1.png  \n",
            "  inflating: 31/First _FRII/4C00.54.png_1.png  \n",
            "  inflating: 31/First _FRII/4C11.34.png_0.png  \n",
            "  inflating: 31/First _FRII/4C00.31.png_0.png  \n",
            "  inflating: 31/First _FRII/TXS1506+245.png_0.png  \n",
            "  inflating: 31/First _FRII/TXS1506+245.png_1.png  \n",
            "  inflating: 31/First _FRII/TXS1443+232.png_1.png  \n",
            "  inflating: 31/First _FRII/4C46.21.png_1.png  \n",
            "  inflating: 31/First _FRII/4C45.17.png_0.png  \n",
            "  inflating: 31/First _FRII/TXS1458+178.png_0.png  \n",
            "  inflating: 31/First _FRII/TXS1458+178.png_1.png  \n",
            "  inflating: 31/First _FRII/4C43.19.png_0.png  \n",
            "  inflating: 31/First _FRII/GB6B1441+2614.png_0.png  \n",
            "  inflating: 31/First _FRII/3C336.png_0.png  \n",
            "  inflating: 31/First _FRII/1438+0022.png_0.png  \n",
            "  inflating: 31/First _FRII/4C34.47.png_1.png  \n",
            "  inflating: 31/First _FRII/3C304.png_1.png  \n",
            "  inflating: 31/First _FRII/1435+0243.png_0.png  \n",
            "  inflating: 31/First _FRII/1425-0264.png_0.png  \n",
            "  inflating: 31/First _FRII/QSOB1505+113.png_1.png  \n",
            "  inflating: 31/First _FRII/TXS1500+259.png_1.png  \n",
            "  inflating: 31/First _FRII/4C15.47.png_1.png  \n",
            "  inflating: 31/First _FRII/4C45.17.png_1.png  \n",
            "  inflating: 31/First _FRII/3C275.1.png_1.png  \n",
            "  inflating: 31/First _FRII/4C03.18.png_1.png  \n",
            "  inflating: 31/First _FRII/3C244.png_0.png  \n",
            "  inflating: 31/First _FRII/3C244.png_1.png  \n",
            "  inflating: 31/First _FRII/3C238.png_1.png  \n",
            "  inflating: 31/First _FRII/4C01.32.png_0.png  \n",
            "  inflating: 31/First _FRII/TXS1459+279.png_1.png  \n",
            "  inflating: 31/First _FRII/4C51.25.png_0.png  \n",
            "  inflating: 31/First _FRII/4C51.25.png_1.png  \n",
            "  inflating: 31/First _FRII/4C04.53.png_0.png  \n",
            "  inflating: 31/First _FRII/J142033-00.png_1.png  \n",
            "  inflating: 31/First _FRII/4C17.49.png_0.png  \n",
            "  inflating: 31/First _FRII/3C295.png_1.png  \n",
            "  inflating: 31/First _FRII/4C01.32.png_1.png  \n",
            "  inflating: 31/First _FRII/3C352.png_1.png  \n",
            "  inflating: 31/First _FRII/3C276.png_0.png  \n",
            "  inflating: 31/First _FRII/TXS1506+171.png_1.png  \n",
            "  inflating: 31/First _FRII/1423+0220.png_1.png  \n",
            "  inflating: 31/First _FRII/4C02.43.png_1.png  \n",
            "  inflating: 31/First _FRII/TXS1412+026.png_0.png  \n",
            "  inflating: 31/First _FRII/TXS1436+011.png_1.png  \n",
            "  inflating: 31/First _FRII/3C320.png_1.png  \n",
            "  inflating: 31/First _FRII/4C12.55.png_0.png  \n",
            "  inflating: 31/First _FRII/TXS1500+259.png_0.png  \n",
            "  inflating: 31/First _FRII/4C14.55.png_0.png  \n",
            "  inflating: 31/First _FRII/4C14.55.png_1.png  \n",
            "  inflating: 31/First _FRII/4C43.35.png_0.png  \n",
            "  inflating: 31/First _FRII/4C16.43.png_1.png  \n",
            "  inflating: 31/First _FRII/J143757+01.png_1.png  \n",
            "  inflating: 31/First _FRII/3C274.1.png_0.png  \n",
            "  inflating: 31/First _FRII/TXS1455+253.png_0.png  \n",
            "  inflating: 31/First _FRII/TXS1408+016.png_0.png  \n",
            "  inflating: 31/First _FRII/TXS1408+016.png_1.png  \n",
            "  inflating: 31/First _FRII/4C20.24.png_1.png  \n",
            "  inflating: 31/First _FRII/TXS1454+244.png_0.png  \n",
            "  inflating: 31/First _FRII/3C344.png_1.png  \n",
            "  inflating: 31/First _FRII/3C275.1.png_0.png  \n",
            "  inflating: 31/First _FRII/1424-0174.png_0.png  \n",
            "  inflating: 31/First _FRII/3C236.png_1.png  \n",
            "  inflating: 31/First _FRII/4C00.55.png_0.png  \n",
            "  inflating: 31/First _FRII/4C00.55.png_1.png  \n",
            "  inflating: 31/First _FRII/3C243.png_0.png  \n",
            "  inflating: 31/First _FRII/4C32.34.png_1.png  \n",
            "  inflating: 31/First _FRII/4C12.54.png_0.png  \n",
            "  inflating: 31/First _FRII/TXS1501+197.png_0.png  \n",
            "  inflating: 31/First _FRII/4C15.51.png_1.png  \n",
            "  inflating: 31/First _FRII/TXS1444+254.png_0.png  \n",
            "  inflating: 31/First _FRII/3C329.png_1.png  \n",
            "  inflating: 31/First _FRII/TXS1408+009.png_0.png  \n",
            "  inflating: 31/First _FRII/1414+0182.png_1.png  \n",
            "  inflating: 31/First _FRII/1425-0264.png_1.png  \n",
            "  inflating: 31/First _FRII/3C294.png_0.png  \n",
            "  inflating: 31/First _FRII/TXS1519+108.png_0.png  \n",
            "  inflating: 31/First _FRII/4C25.29.png_0.png  \n",
            "  inflating: 31/First _FRII/3C288.1.png_1.png  \n",
            "  inflating: 31/First _FRII/1437-0069.png_1.png  \n",
            "  inflating: 31/First _FRII/4C17.48.png_1.png  \n",
            "  inflating: 31/First _FRII/3C313.png_1.png  \n",
            "  inflating: 31/First _FRII/4C00.54.png_0.png  \n",
            "  inflating: 31/First _FRII/1431-0093.png_0.png  \n",
            "  inflating: 31/First _FRII/1431-0093.png_1.png  \n",
            "  inflating: 31/First _FRII/EQSB14070231.png_1.png  \n",
            "  inflating: 31/First _FRII/3C288.1.png_0.png  \n",
            "  inflating: 31/First _FRII/4C48.29A.png_0.png  \n",
            "  inflating: 31/First _FRII/3C236.png_0.png  \n",
            "  inflating: 31/First _FRII/4C03.18.png_0.png  \n",
            "  inflating: 31/First _FRII/TXS1526+173.png_0.png  \n",
            "  inflating: 31/First _FRII/TXS1504+206.png_1.png  \n",
            "  inflating: 31/First _FRII/4C04.53.png_1.png  \n",
            "  inflating: 31/First _FRII/3C268.2.png_0.png  \n",
            "  inflating: 31/First _FRII/4C16.27.png_0.png  \n",
            "  inflating: 31/First _FRII/TXS1439+252.png_0.png  \n",
            "  inflating: 31/First _FRII/4C29.46.png_0.png  \n",
            "  inflating: 31/First _FRII/TXS1447+224.png_1.png  \n",
            "  inflating: 31/First _FRII/4C49.21.png_0.png  \n",
            "  inflating: 31/First _FRII/4C49.21.png_1.png  \n",
            "  inflating: 31/First _FRII/3C329.png_0.png  \n",
            "  inflating: 31/First _FRII/TXS1408+009.png_1.png  \n",
            "  inflating: 31/First _FRII/TXS1415+016.png_0.png  \n",
            "  inflating: 31/First _FRII/4C19.44.png_0.png  \n",
            "  inflating: 31/First _FRII/4C19.44.png_1.png  \n",
            "  inflating: 31/First _FRII/4C02.43.png_0.png  \n",
            "  inflating: 31/First _FRII/TXS1505+190.png_1.png  \n",
            "  inflating: 31/First _FRII/3C326.png_0.png  \n",
            "  inflating: 31/First _FRII/4C55.22.png_1.png  \n",
            "  inflating: 31/First _FRII/4C43.35.png_1.png  \n",
            "  inflating: 31/First _FRII/1415+0060.png_0.png  \n",
            "  inflating: 31/First _FRII/TXS1423+018.png_0.png  \n",
            "  inflating: 31/First _FRII/4C20.24.png_0.png  \n",
            "  inflating: 31/First _FRII/TXS1511+158.png_0.png  \n",
            "  inflating: 31/First _FRII/TXS1511+158.png_1.png  \n",
            "  inflating: 31/First _FRII/TXS1454+244.png_1.png  \n",
            "  inflating: 31/First _FRII/TXS1501+197.png_1.png  \n",
            "  inflating: 31/First _FRII/TXS1444+254.png_1.png  \n",
            "  inflating: 31/First _FRII/1414+0182.png_0.png  \n",
            "  inflating: 31/First _FRII/1435+0243.png_1.png  \n",
            "  inflating: 31/First _FRII/1423+0052.png_1.png  \n",
            "  inflating: 31/First _FRII/4C17.48.png_0.png  \n",
            "  inflating: 31/First _FRII/3C313.png_0.png  \n",
            "  inflating: 31/First _FRII/GB6B1441+2614.png_1.png  \n",
            "  inflating: 31/First _FRII/3C267.png_0.png  \n",
            "  inflating: 31/First _FRII/3C267.png_1.png  \n",
            "  inflating: 31/First _FRII/1408+0050.png_0.png  \n",
            "  inflating: 31/First _FRII/3C194.png_1.png  \n",
            "  inflating: 31/First _FRII/J143757+01.png_0.png  \n",
            "  inflating: 31/First _FRII/3C284.png_0.png  \n",
            "  inflating: 31/First _FRII/TXS1443+232.png_0.png  \n",
            "  inflating: 31/First _FRII/EQSB14070231.png_0.png  \n",
            "  inflating: 31/First _FRII/TXS1452+258.png_0.png  \n",
            "  inflating: 31/First _FRII/TXS1454+271.png_0.png  \n",
            "  inflating: 31/First _FRII/4C02.60.png_0.png  \n",
            "  inflating: 31/First _FRII/3C304.png_0.png  \n",
            "  inflating: 31/First _FRII/4C33.30.png_0.png  \n",
            "  inflating: 31/First _FRII/3C323.1.png_0.png  \n",
            "  inflating: 31/First _FRII/3C323.1.png_1.png  \n",
            "  inflating: 31/First _FRII/QSOB1540+110.png_0.png  \n",
            "  inflating: 31/First _FRII/QSOB1540+110.png_1.png  \n",
            "  inflating: 31/First _FRII/J142033-00.png_0.png  \n",
            "  inflating: 31/First _FRII/TXS1521+195.png_0.png  \n",
            "  inflating: 31/First _FRII/3C276.png_1.png  \n",
            "  inflating: 31/First _FRII/TXS1447+224.png_0.png  \n",
            "  inflating: 31/First _FRII/3C352.png_0.png  \n",
            "  inflating: 31/First _FRII/TXS1544+221.png_0.png  \n",
            "  inflating: 31/First _FRII/TXS1505+190.png_0.png  \n",
            "  inflating: 31/First _FRII/1412-0075.png_0.png  \n",
            "  inflating: 31/First _FRII/TXS1515+198.png_1.png  \n",
            "  inflating: 31/First _FRII/4C03.51.png_0.png  \n",
            "  inflating: 31/First _FRII/TXS1527+234.png_1.png  \n",
            "  inflating: 31/First _FRII/GB6B1544+1152.png_1.png  \n",
            "  inflating: 31/First _FRII/TXS1515+301.png_0.png  \n",
            "  inflating: 31/First _FRII/3C197.1.png_1.png  \n",
            "  inflating: 31/First _FRII/1412-0075.png_1.png  \n",
            "  inflating: 31/First _FRII/4C37.29.png_1.png  \n",
            "  inflating: 31/First _FRII/TXS1412+026.png_1.png  \n",
            "  inflating: 31/First _FRII/TXS1427+009.png_1.png  \n",
            "  inflating: 31/First _FRII/4C03.51.png_1.png  \n",
            "  inflating: 31/First _FRII/4C25.29.png_1.png  \n",
            "  inflating: 31/First _FRII/[SDM85]3CR225A.png_0.png  \n",
            "  inflating: 31/First _FRII/[SDM85]3CR225A.png_1.png  \n",
            "  inflating: 31/First _FRII/TXS1505+247.png_0.png  \n",
            "  inflating: 31/First _FRII/4C09.45.png_1.png  \n",
            "  inflating: 31/First _FRII/3C336.png_1.png  \n",
            "  inflating: 31/First _FRII/4C05.50.png_0.png  \n",
            "  inflating: 31/First _FRII/4C05.50.png_1.png  \n",
            "  inflating: 31/First _FRII/BWE1459+2451.png_0.png  \n",
            "  inflating: 31/First _FRII/1408+0050.png_1.png  \n",
            "  inflating: 31/First _FRII/4C15.47.png_0.png  \n",
            "  inflating: 31/First _FRII/1432+0078.png_1.png  \n",
            "  inflating: 31/First _FRII/4C16.43.png_0.png  \n",
            "  inflating: 31/First _FRII/4C11.34.png_1.png  \n",
            "  inflating: 31/First _FRII/4C00.31.png_1.png  \n",
            "  inflating: 31/First _FRII/3C194.png_0.png  \n",
            "  inflating: 31/First _FRII/4C02.60.png_1.png  \n",
            "  inflating: 31/First _FRII/4C00.43.png_0.png  \n",
            "  inflating: 31/First _FRII/4C34.47.png_0.png  \n",
            "  inflating: 31/First _FRII/4C33.30.png_1.png  \n",
            "  inflating: 31/First _FRII/1424-0174.png_1.png  \n",
            "  inflating: 31/First _FRII/4C48.29A.png_1.png  \n",
            "  inflating: 31/First _FRII/4C17.49.png_1.png  \n",
            "  inflating: 31/First _FRII/4C16.27.png_1.png  \n",
            "  inflating: 31/First _FRII/TXS1521+195.png_1.png  \n",
            "  inflating: 31/First _FRII/TXS1439+252.png_1.png  \n",
            "  inflating: 31/First _FRII/3C238.png_0.png  \n",
            "  inflating: 31/First _FRII/TXS1526+173.png_1.png  \n",
            "  inflating: 31/First _FRII/TXS1504+206.png_0.png  \n",
            "  inflating: 31/First _FRII/3C243.png_1.png  \n",
            "  inflating: 31/First _FRII/3C268.2.png_1.png  \n",
            "  inflating: 31/First _FRII/4C32.34.png_0.png  \n",
            "  inflating: 31/First _FRII/3C295.png_0.png  \n",
            "  inflating: 31/First _FRII/TXS1459+279.png_0.png  \n",
            "  inflating: 31/First _FRII/4C29.46.png_1.png  \n",
            "  inflating: 31/First _FRII/TXS1527+234.png_0.png  \n",
            "  inflating: 31/First _FRII/1423+0220.png_0.png  \n",
            "  inflating: 31/First _FRII/4C13.41.png_0.png  \n",
            "  inflating: 31/First _FRII/4C13.41.png_1.png  \n",
            "  inflating: 31/First _FRII/TXS1454+139.png_0.png  \n",
            "  inflating: 31/First _FRII/TXS1454+139.png_1.png  \n",
            "  inflating: 31/First _FRII/GB6B1544+1152.png_0.png  \n",
            "  inflating: 31/First _FRII/3C320.png_0.png  \n",
            "  inflating: 31/First _FRII/TXS1515+198.png_0.png  \n",
            "  inflating: 31/First _FRII/TXS1506+171.png_0.png  \n",
            "  inflating: 31/First _FRII/3C263.1.png_0.png  \n",
            "  inflating: 31/First _FRII/3C263.1.png_1.png  \n",
            "  inflating: 31/First _FRII/TXS1544+221.png_1.png  \n",
            "  inflating: 31/First _FRII/4C15.51.png_0.png  \n",
            "  inflating: 31/First _FRII/1438-0085.png_0.png  \n",
            "  inflating: 31/First _FRII/1438-0085.png_1.png  \n",
            "  inflating: 31/First _FRII/TXS1515+301.png_1.png  \n",
            "  inflating: 31/First _FRII/3C197.1.png_0.png  \n",
            "  inflating: 31/First _FRII/TXS1415+016.png_1.png  \n",
            "  inflating: 31/First _FRII/4C37.29.png_0.png  \n",
            "  inflating: 31/First _FRII/TXS1427+009.png_0.png  \n",
            "  inflating: 31/First _FRII/TXS1436+011.png_0.png  \n",
            "  inflating: 31/First _FRII/4C31.30.png_0.png  \n",
            "  inflating: 31/First _FRII/4C31.30.png_1.png  \n",
            "  inflating: 31/First _FRII/4C12.54.png_1.png  \n",
            "  inflating: 31/First _FRII/3C327.png_0.png  \n",
            "  inflating: 31/First _FRII/3C327.png_1.png  \n",
            "  inflating: 31/Bent_Tail/J000330.7+002756.png  \n",
            "  inflating: 31/Bent_Tail/J084445.3+212932.png  \n",
            "  inflating: 31/Bent_Tail/J084934.4+282150.png  \n",
            "  inflating: 31/Bent_Tail/J091332.5+182601.png  \n",
            "  inflating: 31/Bent_Tail/J021619.7-024433.png  \n",
            "  inflating: 31/Bent_Tail/J070723.0+592725.png  \n",
            "  inflating: 31/Bent_Tail/J095641.7+183548.png  \n",
            "  inflating: 31/Bent_Tail/J102823.1+034527.png  \n",
            "  inflating: 31/Bent_Tail/J095102.5+102211.png  \n",
            "  inflating: 31/Bent_Tail/J095327.8+292420.png  \n",
            "  inflating: 31/Bent_Tail/J124724.2+093059.png  \n",
            "  inflating: 31/Bent_Tail/J133421.9+332300.png  \n",
            "  inflating: 31/Bent_Tail/J083840.9+380646.png  \n",
            "  inflating: 31/Bent_Tail/J091204.2+094405.png  \n",
            "  inflating: 31/Bent_Tail/J024558.4-064859.png  \n",
            "  inflating: 31/Bent_Tail/J071406.0+510000.png  \n",
            "  inflating: 31/Bent_Tail/J074757.7+372638.png  \n",
            "  inflating: 31/Bent_Tail/J080431.5+192217.png  \n",
            "  inflating: 31/Bent_Tail/J081659.5+571627.png  \n",
            "  inflating: 31/Bent_Tail/J081939.4+574609.png  \n",
            "  inflating: 31/Bent_Tail/J091213.2+133847.png  \n",
            "  inflating: 31/Bent_Tail/J091339.0+031722.png  \n",
            "  inflating: 31/Bent_Tail/J073232.3+374451.png  \n",
            "  inflating: 31/Bent_Tail/J131935.2+025012.png  \n",
            "  inflating: 31/Bent_Tail/J091738.6+024521.png  \n",
            "  inflating: 31/Bent_Tail/J091859.3+315140.png  \n",
            "  inflating: 31/Bent_Tail/J093834.5-042023.png  \n",
            "  inflating: 31/Bent_Tail/J094702.1+340303.png  \n",
            "  inflating: 31/Bent_Tail/J135031.1+330124.png  \n",
            "  inflating: 31/Bent_Tail/J140332.1+292929.png  \n",
            "  inflating: 31/Bent_Tail/J140625.7+250929.png  \n",
            "  inflating: 31/Bent_Tail/J140656.3+550404.png  \n",
            "  inflating: 31/Bent_Tail/J141051.4+301355.png  \n",
            "  inflating: 31/Bent_Tail/J144020.8+112506.png  \n",
            "  inflating: 31/Bent_Tail/J150104.8+085701.png  \n",
            "  inflating: 31/Bent_Tail/J151056.2+054441.png  \n",
            "  inflating: 31/Bent_Tail/J092338.7+570558.png  \n",
            "  inflating: 31/Bent_Tail/J092645.3+030916.png  \n",
            "  inflating: 31/Bent_Tail/J134414.1+001642.png  \n",
            "  inflating: 31/Bent_Tail/J141702.1+201902.png  \n",
            "  inflating: 31/Bent_Tail/J142843.1+552045.png  \n",
            "  inflating: 31/Bent_Tail/J151911.9+362315.png  \n",
            "  inflating: 31/Bent_Tail/J152120.5+023110.png  \n",
            "  inflating: 31/Bent_Tail/J092539.0+362705.png  \n",
            "  inflating: 31/Bent_Tail/J100328.5-043809.png  \n",
            "  inflating: 31/Bent_Tail/J101207.3+084133.png  \n",
            "  inflating: 31/Bent_Tail/J113848.4+334315.png  \n",
            "  inflating: 31/Bent_Tail/J122110.0+515052.png  \n",
            "  inflating: 31/Bent_Tail/J124013.6+212233.png  \n",
            "  inflating: 31/Bent_Tail/J124619.2+262635.png  \n",
            "  inflating: 31/Bent_Tail/J125046.1+343953.png  \n",
            "  inflating: 31/Bent_Tail/J104914.1+005945.png  \n",
            "  inflating: 31/Bent_Tail/J130744.3+565101.png  \n",
            "  inflating: 31/Bent_Tail/J133359.7+441950.png  \n",
            "  inflating: 31/Bent_Tail/J072431.5+501052.png  \n",
            "  inflating: 31/Bent_Tail/J080337.3+105116.png  \n",
            "  inflating: 31/Bent_Tail/J084306.7+170015.png  \n",
            "  inflating: 31/Bent_Tail/J085748.5+592924.png  \n",
            "  inflating: 31/Bent_Tail/J070759.2+444906.png  \n",
            "  inflating: 31/Bent_Tail/J004012.8+012542.png  \n",
            "  inflating: 31/Bent_Tail/J011425.5+002932.png  \n",
            "  inflating: 31/Bent_Tail/J072725.1+310934.png  \n",
            "  inflating: 31/Bent_Tail/J070029.9+494647.png  \n",
            "  inflating: 31/Bent_Tail/J080317.0+244059.png  \n",
            "  inflating: 31/Bent_Tail/J082718.2+463510.png  \n",
            "  inflating: 31/Bent_Tail/J084132.7-020318.png  \n",
            "  inflating: 31/Bent_Tail/J090225.8+204547.png  \n",
            "  inflating: 31/Bent_Tail/J091118.8+073239.png  \n",
            "  inflating: 31/Bent_Tail/J091639.5+052552.png  \n",
            "  inflating: 31/Bent_Tail/J091944.7+360947.png  \n",
            "  inflating: 31/Bent_Tail/J072115.5+531411.png  \n",
            "  inflating: 31/Bent_Tail/J073539.8+251020.png  \n",
            "  inflating: 31/Bent_Tail/J074305.9+271012.png  \n",
            "  inflating: 31/Bent_Tail/J081652.7+413332.png  \n",
            "  inflating: 31/Bent_Tail/J083840.8+380553.png  \n",
            "  inflating: 31/Bent_Tail/J093349.9+451956.png  \n",
            "  inflating: 31/Bent_Tail/J093919.5+232007.png  \n",
            "  inflating: 31/Bent_Tail/J093921.6+231938.png  \n",
            "  inflating: 31/Bent_Tail/J101220.0+363927.png  \n",
            "  inflating: 31/Bent_Tail/J101436.3+494531.png  \n",
            "  inflating: 31/Bent_Tail/J101601.8+240009.png  \n",
            "  inflating: 31/Bent_Tail/J130904.5+102934.png  \n",
            "  inflating: 31/Bent_Tail/J131438.1+513413.png  \n",
            "  inflating: 31/Bent_Tail/J133124.4-054429.png  \n",
            "  inflating: 31/Bent_Tail/J093158.9+553307.png  \n",
            "  inflating: 31/Bent_Tail/J094443.2+024754.png  \n",
            "  inflating: 31/Bent_Tail/J094715.5+525055.png  \n",
            "  inflating: 31/Bent_Tail/J094841.7+421817.png  \n",
            "  inflating: 31/Bent_Tail/J095603.5+233810.png  \n",
            "  inflating: 31/Bent_Tail/J095700.6-064423.png  \n",
            "  inflating: 31/Bent_Tail/J100943.4+033721.png  \n",
            "  inflating: 31/Bent_Tail/J133541.0+535219.png  \n",
            "  inflating: 31/Bent_Tail/J133824.8+293103.png  \n",
            "  inflating: 31/Bent_Tail/J134300.4+462731.png  \n",
            "  inflating: 31/Bent_Tail/J135031.9+330120.png  \n",
            "  inflating: 31/Bent_Tail/J135120.7-054851.png  \n",
            "  inflating: 31/Bent_Tail/J135856.3+532848.png  \n",
            "  inflating: 31/Bent_Tail/J141023.0+051551.png  \n",
            "  inflating: 31/Bent_Tail/J153504.3+414301.png  \n",
            "  inflating: 31/Bent_Tail/J092239.9-072428.png  \n",
            "  inflating: 31/Bent_Tail/J105908.3+351211.png  \n",
            "  inflating: 31/Bent_Tail/J110531.8+410546.png  \n",
            "  inflating: 31/Bent_Tail/J111931.3+020729.png  \n",
            "  inflating: 31/Bent_Tail/J111933.1+631718.png  \n",
            "  inflating: 31/Bent_Tail/J092905.7+130158.png  \n",
            "  inflating: 31/Bent_Tail/J095007.0+434400.png  \n",
            "  inflating: 31/Bent_Tail/J100836.7+281301.png  \n",
            "  inflating: 31/Bent_Tail/J101932.3+140252.png  \n",
            "  inflating: 31/Bent_Tail/J113851.3+334259.png  \n",
            "  inflating: 31/Bent_Tail/J114127.1+080222.png  \n",
            "  inflating: 31/Bent_Tail/J114553.0-075755.png  \n",
            "  inflating: 31/Bent_Tail/J120308.3+514006.png  \n",
            "  inflating: 31/Bent_Tail/J120401.5+201356.png  \n",
            "  inflating: 31/Bent_Tail/J120432.1+035806.png  \n",
            "  inflating: 31/Bent_Tail/J120805.6+251412.png  \n",
            "  inflating: 31/Bent_Tail/J120813.7+440344.png  \n",
            "  inflating: 31/Bent_Tail/J120837.1+612106.png  \n",
            "  inflating: 31/Bent_Tail/J123228.9+200952.png  \n",
            "  inflating: 31/Bent_Tail/J125138.0+280633.png  \n",
            "  inflating: 31/Bent_Tail/J132644.8+031156.png  \n",
            "  inflating: 31/Bent_Tail/J142031.3-062248.png  \n",
            "  inflating: 31/Bent_Tail/J142141.0-074334.png  \n",
            "  inflating: 31/Bent_Tail/J143243.5+443621.png  \n",
            "  inflating: 31/Bent_Tail/J152624.1+305008.png  \n",
            "  inflating: 31/Bent_Tail/J152642.4+384149.png  \n",
            "  inflating: 31/Bent_Tail/J153249.5+573425.png  \n",
            "  inflating: 31/Bent_Tail/J101436.3+494531.png_1.png  \n",
            "  inflating: 31/Bent_Tail/J113848.3+334315.png_1.png  \n",
            "  inflating: 31/Bent_Tail/J134918.7-014926.png_0.png  \n",
            "  inflating: 31/Bent_Tail/J100154.6+492033.png  \n",
            "  inflating: 31/Bent_Tail/J101801.6+635228.png  \n",
            "  inflating: 31/Bent_Tail/J104907.5+551313.png  \n",
            "  inflating: 31/Bent_Tail/J105615.1+112849.png  \n",
            "  inflating: 31/Bent_Tail/J112038.5+291234.png  \n",
            "  inflating: 31/Bent_Tail/J113828.5+155450.png  \n",
            "  inflating: 31/Bent_Tail/J120118.3+124500.png  \n",
            "  inflating: 31/Bent_Tail/J121744.7+410448.png  \n",
            "  inflating: 31/Bent_Tail/J121819.0+354815.png  \n",
            "  inflating: 31/Bent_Tail/J100404.6+291841.png  \n",
            "  inflating: 31/Bent_Tail/J102451.3+335619.png  \n",
            "  inflating: 31/Bent_Tail/J104914.0+005945.png  \n",
            "  inflating: 31/Bent_Tail/J105500.9+520201.png  \n",
            "  inflating: 31/Bent_Tail/J110555.0-000342.png  \n",
            "  inflating: 31/Bent_Tail/J114340.1+072957.png  \n",
            "  inflating: 31/Bent_Tail/J114531.6-022713.png  \n",
            "  inflating: 31/Bent_Tail/J121428.0+212553.png  \n",
            "  inflating: 31/Bent_Tail/J130422.2+201550.png  \n",
            "  inflating: 31/Bent_Tail/J132519.0+080754.png  \n",
            "  inflating: 31/Bent_Tail/J133337.8-065808.png  \n",
            "  inflating: 31/Bent_Tail/J142932.6+544331.png  \n",
            "  inflating: 31/Bent_Tail/J091420.6+582253.png  \n",
            "  inflating: 31/Bent_Tail/J091707.8+550903.png  \n",
            "  inflating: 31/Bent_Tail/J000330.7+0027561.png  \n",
            "  inflating: 31/Bent_Tail/J013134.5+003341.png  \n",
            "  inflating: 31/Bent_Tail/J010236.5-005007.png  \n",
            "  inflating: 31/Bent_Tail/J070825.8+540838.png  \n",
            "  inflating: 31/Bent_Tail/J072106.9+363903.png  \n",
            "  inflating: 31/Bent_Tail/J072115.0+531406.png  \n",
            "  inflating: 31/Bent_Tail/J073134.9+232104.png  \n",
            "  inflating: 31/Bent_Tail/J073229.7+374420.png  \n",
            "  inflating: 31/Bent_Tail/J074115.4+163254.png  \n",
            "  inflating: 31/Bent_Tail/J074639.9+465227.png  \n",
            "  inflating: 31/Bent_Tail/J074640.0+465214.png  \n",
            "  inflating: 31/Bent_Tail/J081544.2+371017.png  \n",
            "  inflating: 31/Bent_Tail/J081803.7+543708.png  \n",
            "  inflating: 31/Bent_Tail/J082835.1+322821.png  \n",
            "  inflating: 31/Bent_Tail/J070644.5+423118.png  \n",
            "  inflating: 31/Bent_Tail/J081801.3+495610.png  \n",
            "  inflating: 31/Bent_Tail/J085549.0+420418.png  \n",
            "  inflating: 31/Bent_Tail/J085549.2+420419.png  \n",
            "  inflating: 31/Bent_Tail/J085604.5+482907.png  \n",
            "  inflating: 31/Bent_Tail/J090209.4-012955.png  \n",
            "  inflating: 31/Bent_Tail/J091042.2+384125.png  \n",
            "  inflating: 31/Bent_Tail/J091235.1+155958.png  \n",
            "  inflating: 31/Bent_Tail/J091325.0+122739.png  \n",
            "  inflating: 31/Bent_Tail/J092137.8-005857.png  \n",
            "  inflating: 31/Bent_Tail/J072109.8+531237.png  \n",
            "  inflating: 31/Bent_Tail/J075241.4+455628.png  \n",
            "  inflating: 31/Bent_Tail/J080720.7+141620.png  \n",
            "  inflating: 31/Bent_Tail/J082839.5+243654.png  \n",
            "  inflating: 31/Bent_Tail/J093048.6+642237.png  \n",
            "  inflating: 31/Bent_Tail/J093050.8+202000.png  \n",
            "  inflating: 31/Bent_Tail/J094613.1+022226.png  \n",
            "  inflating: 31/Bent_Tail/J094841.6+421829.png  \n",
            "  inflating: 31/Bent_Tail/J095716.4+190651.png  \n",
            "  inflating: 31/Bent_Tail/J095759.7+191607.png  \n",
            "  inflating: 31/Bent_Tail/J102000.7+171452.png  \n",
            "  inflating: 31/Bent_Tail/J102823.8+145639.png  \n",
            "  inflating: 31/Bent_Tail/J133416.3+332347.png  \n",
            "  inflating: 31/Bent_Tail/J095438.0+575350.png  \n",
            "  inflating: 31/Bent_Tail/J100515.8+231500.png  \n",
            "  inflating: 31/Bent_Tail/J100755.1+301956.png  \n",
            "  inflating: 31/Bent_Tail/J100756.0+155003.png  \n",
            "  inflating: 31/Bent_Tail/J123607.9+163829.png  \n",
            "  inflating: 31/Bent_Tail/J124604.9+023055.png  \n",
            "  inflating: 31/Bent_Tail/J125003.5-013222.png  \n",
            "  inflating: 31/Bent_Tail/J125045.7+344027.png  \n",
            "  inflating: 31/Bent_Tail/J130817.7+175133.png  \n",
            "  inflating: 31/Bent_Tail/J133540.5+535221.png  \n",
            "  inflating: 31/Bent_Tail/J134336.7+292846.png  \n",
            "  inflating: 31/Bent_Tail/J134732.5+410301.png  \n",
            "  inflating: 31/Bent_Tail/J134918.7-014926.png  \n",
            "  inflating: 31/Bent_Tail/J135932.9+194104.png  \n",
            "  inflating: 31/Bent_Tail/J140148.5+283316.png  \n",
            "  inflating: 31/Bent_Tail/J140509.3+161547.png  \n",
            "  inflating: 31/Bent_Tail/J140617.9+275615.png  \n",
            "  inflating: 31/Bent_Tail/J140656.3+550402.png  \n",
            "  inflating: 31/Bent_Tail/J142141.2-074337.png  \n",
            "  inflating: 31/Bent_Tail/J142334.1+103538.png  \n",
            "  inflating: 31/Bent_Tail/J142655.5+420546.png  \n",
            "  inflating: 31/Bent_Tail/J150557.0+370207.png  \n",
            "  inflating: 31/Bent_Tail/J151130.7+322821.png  \n",
            "  inflating: 31/Bent_Tail/J152119.3+023102.png  \n",
            "  inflating: 31/Bent_Tail/J161652.8+092628.png  \n",
            "  inflating: 31/Bent_Tail/J150228.9+524420.png  \n",
            "  inflating: 31/Bent_Tail/J104934.3+444553.png  \n",
            "  inflating: 31/Bent_Tail/J105501.0+520156.png  \n",
            "  inflating: 31/Bent_Tail/J111833.4+311515.png  \n",
            "  inflating: 31/Bent_Tail/J112502.1+091003.png  \n",
            "  inflating: 31/Bent_Tail/J112656.2+400341.png  \n",
            "  inflating: 31/Bent_Tail/J112924.0+210113.png  \n",
            "  inflating: 31/Bent_Tail/J113147.1+354910.png  \n",
            "  inflating: 31/Bent_Tail/J113848.3+334315.png  \n",
            "  inflating: 31/Bent_Tail/J114111.2+054359.png  \n",
            "  inflating: 31/Bent_Tail/J120045.6+294249.png  \n",
            "  inflating: 31/Bent_Tail/J122413.3+160600.png  \n",
            "  inflating: 31/Bent_Tail/J123229.6+201035.png  \n",
            "  inflating: 31/Bent_Tail/J124133.9+140734.png  \n",
            "  inflating: 31/Bent_Tail/J124206.0+323229.png  \n",
            "  inflating: 31/Bent_Tail/J124942.2+303838.png  \n",
            "  inflating: 31/Bent_Tail/J125659.2+061858.png  \n",
            "  inflating: 31/Bent_Tail/J094942.8-005024.png  \n",
            "  inflating: 31/Bent_Tail/J115243.3+340530.png  \n",
            "  inflating: 31/Bent_Tail/J120430.2+375734.png  \n",
            "  inflating: 31/Bent_Tail/J120458.8+455933.png  \n",
            "  inflating: 31/Bent_Tail/J120647.7+315232.png  \n",
            "  inflating: 31/Bent_Tail/J122638.1+174930.png  \n",
            "  inflating: 31/Bent_Tail/J131036.7+241844.png  \n",
            "  inflating: 31/Bent_Tail/J133014.0+490801.png  \n",
            "  inflating: 31/Bent_Tail/J134038.3+555020.png  \n",
            "  inflating: 31/Bent_Tail/J134238.8+064314.png  \n",
            "  inflating: 31/Bent_Tail/J142956.0+401058.png  \n",
            "  inflating: 31/Bent_Tail/J150114.7+514810.png  \n",
            "  inflating: 31/Bent_Tail/J154709.5-004638.png  \n",
            "  inflating: 31/Bent_Tail/J152736.9+182238.png  \n",
            "  inflating: 31/Bent_Tail/J141023.0+051551.png_1.png  \n",
            "  inflating: 31/Bent_Tail/J081939.4+574609.png_0.png  \n",
            "  inflating: 31/Bent_Tail/J081939.4+574609.png_1.png  \n",
            "  inflating: 31/Bent_Tail/J102451.3+335619.png_1.png  \n",
            "  inflating: 31/Bent_Tail/J135856.3+532848.png_1.png  \n",
            "  inflating: 31/Bent_Tail/J141023.0+051551.png_0.png  \n",
            "  inflating: 31/Bent_Tail/J120430.2+375734.png_0.png  \n",
            "  inflating: 31/Bent_Tail/J100515.8+231500.png_1.png  \n",
            "  inflating: 31/Bent_Tail/J092539.0+362705.png_0.png  \n",
            "  inflating: 31/Bent_Tail/J082718.2+463510.png_0.png  \n",
            "  inflating: 31/Bent_Tail/J082718.2+463510.png_1.png  \n",
            "  inflating: 31/Bent_Tail/J120805.6+251412.png_0.png  \n",
            "  inflating: 31/Bent_Tail/J093048.6+642237.png_0.png  \n",
            "  inflating: 31/Bent_Tail/J100756.0+155003.png_1.png  \n",
            "  inflating: 31/Bent_Tail/J092905.7+130158.png_0.png  \n",
            "  inflating: 31/Bent_Tail/J092905.7+130158.png_1.png  \n",
            "  inflating: 31/Bent_Tail/J021619.7-024433.png_1.png  \n",
            "  inflating: 31/Bent_Tail/J070759.2+444906.png_0.png  \n",
            "  inflating: 31/Bent_Tail/J093919.5+232007.png_0.png  \n",
            "  inflating: 31/Bent_Tail/J072115.0+531406.png_0.png  \n",
            "  inflating: 31/Bent_Tail/J133541.0+535219.png_1.png  \n",
            "  inflating: 31/Bent_Tail/J100943.4+033721.png_0.png  \n",
            "  inflating: 31/Bent_Tail/J100943.4+033721.png_1.png  \n",
            "  inflating: 31/Bent_Tail/J143934.0+531442.png_1.png  \n",
            "  inflating: 31/Bent_Tail/J143053.5+205904.png  \n",
            "  inflating: 31/Bent_Tail/J143348.8+425257.png  \n",
            "  inflating: 31/Bent_Tail/J143505.9-040924.png  \n",
            "  inflating: 31/Bent_Tail/J143934.0+531442.png  \n",
            "  inflating: 31/Bent_Tail/J145305.6+210835.png  \n",
            "  inflating: 31/Bent_Tail/J153616.2+142045.png  \n",
            "  inflating: 31/Bent_Tail/J102000.7+171452.png_0.png  \n",
            "  inflating: 31/Bent_Tail/J095759.7+191607.png_0.png  \n",
            "  inflating: 31/Bent_Tail/J080317.0+244059.png_0.png  \n",
            "  inflating: 31/Bent_Tail/J150114.7+514810.png_1.png  \n",
            "  inflating: 31/Bent_Tail/J142932.6+544331.png_1.png  \n",
            "  inflating: 31/Bent_Tail/J124619.2+262635.png_0.png  \n",
            "  inflating: 31/Bent_Tail/J143053.5+205904.png_0.png  \n",
            "  inflating: 31/Bent_Tail/J140509.3+161547.png_0.png  \n",
            "  inflating: 31/Bent_Tail/J114531.6-022713.png_1.png  \n",
            "  inflating: 31/Bent_Tail/J150557.0+370207.png_1.png  \n",
            "  inflating: 31/Bent_Tail/J143053.5+205904.png_1.png  \n",
            "  inflating: 31/Bent_Tail/J124942.2+303838.png_1.png  \n",
            "  inflating: 31/Bent_Tail/J093919.5+232007.png_1.png  \n",
            "  inflating: 31/Bent_Tail/J134038.3+555020.png_0.png  \n",
            "  inflating: 31/Bent_Tail/J115243.3+340530.png_0.png  \n",
            "  inflating: 31/Bent_Tail/J080337.3+105116.png_1.png  \n",
            "  inflating: 31/Bent_Tail/J134918.7-014926.png_1.png  \n",
            "  inflating: 31/Bent_Tail/J081652.7+413332.png_0.png  \n",
            "  inflating: 31/Bent_Tail/J104914.1+005945.png_0.png  \n",
            "  inflating: 31/Bent_Tail/J090209.4-012955.png_1.png  \n",
            "  inflating: 31/Bent_Tail/J170616.4+200652.png  \n",
            "  inflating: 31/Bent_Tail/J093349.9+451956.png_1.png  \n",
            "  inflating: 31/Bent_Tail/J150557.0+370207.png_0.png  \n",
            "  inflating: 31/Bent_Tail/J153504.3+414301.png_1.png  \n",
            "  inflating: 31/Bent_Tail/J081801.3+495610.png_0.png  \n",
            "  inflating: 31/Bent_Tail/J110531.8+410546.png_0.png  \n",
            "  inflating: 31/Bent_Tail/J095641.7+183548.png_1.png  \n",
            "  inflating: 31/Bent_Tail/J092137.8-005857.png_1.png  \n",
            "  inflating: 31/Bent_Tail/J104907.5+551313.png_0.png  \n",
            "  inflating: 31/Bent_Tail/J085549.0+420418.png_0.png  \n",
            "  inflating: 31/Bent_Tail/J080720.7+141620.png_0.png  \n",
            "  inflating: 31/Bent_Tail/J080720.7+141620.png_1.png  \n",
            "  inflating: 31/Bent_Tail/J024558.4-064859.png_0.png  \n",
            "  inflating: 31/Bent_Tail/J124133.9+140734.png_0.png  \n",
            "  inflating: 31/Bent_Tail/J124013.6+212233.png_1.png  \n",
            "  inflating: 31/Bent_Tail/J074305.9+271012.png_0.png  \n",
            "  inflating: 31/Bent_Tail/J120805.6+251412.png_1.png  \n",
            "  inflating: 31/Bent_Tail/J134336.7+292846.png_1.png  \n",
            "  inflating: 31/Bent_Tail/J120118.3+124500.png_0.png  \n",
            "  inflating: 31/Bent_Tail/J104914.1+005945.png_1.png  \n",
            "  inflating: 31/Bent_Tail/J151130.7+322821.png_1.png  \n",
            "  inflating: 31/Bent_Tail/J024558.4-064859.png_1.png  \n",
            "  inflating: 31/Bent_Tail/J152736.9+182238.png_1.png  \n",
            "  inflating: 31/Bent_Tail/J142141.2-074337.png_1.png  \n",
            "  inflating: 31/Bent_Tail/J131935.2+025012.png_0.png  \n",
            "  inflating: 31/Bent_Tail/J021619.7-024433.png_0.png  \n",
            "  inflating: 31/Bent_Tail/J010236.5-005007.png_0.png  \n",
            "  inflating: 31/Bent_Tail/J091738.6+024521.png_1.png  \n",
            "  inflating: 31/Bent_Tail/J125003.5-013222.png_0.png  \n",
            "  inflating: 31/Bent_Tail/J125003.5-013222.png_1.png  \n",
            "  inflating: 31/Bent_Tail/J105908.3+351211.png_1.png  \n",
            "  inflating: 31/Bent_Tail/J120308.3+514006.png_1.png  \n",
            "  inflating: 31/Bent_Tail/J172919.7+541528.png  \n",
            "  inflating: 31/Bent_Tail/J130817.7+175133.png_1.png  \n",
            "  inflating: 31/Bent_Tail/J092137.8-005857.png_0.png  \n",
            "  inflating: 31/Bent_Tail/J152642.4+384149.png_1.png  \n",
            "  inflating: 31/Bent_Tail/J085549.2+420419.png_1.png  \n",
            "  inflating: 31/Bent_Tail/J130422.2+201550.png_1.png  \n",
            "  inflating: 31/Bent_Tail/J154409.8+175506.png_1.png  \n",
            "  inflating: 31/Bent_Tail/J112656.2+400341.png_1.png  \n",
            "  inflating: 31/Bent_Tail/J085549.2+420419.png_0.png  \n",
            "  inflating: 31/Bent_Tail/J100836.7+281301.png_1.png  \n",
            "  inflating: 31/Bent_Tail/J150104.8+085701.png_0.png  \n",
            "  inflating: 31/Bent_Tail/J161652.8+092628.png_1.png  \n",
            "  inflating: 31/Bent_Tail/J140332.1+292929.png_0.png  \n",
            "  inflating: 31/Bent_Tail/J124619.2+262635.png_1.png  \n",
            "  inflating: 31/Bent_Tail/J142956.0+401058.png_0.png  \n",
            "  inflating: 31/Bent_Tail/J142956.0+401058.png_1.png  \n",
            "  inflating: 31/Bent_Tail/J153504.3+414301.png_0.png  \n",
            "  inflating: 31/Bent_Tail/J094841.6+421829.png_0.png  \n",
            "  inflating: 31/Bent_Tail/J094841.6+421829.png_1.png  \n",
            "  inflating: 31/Bent_Tail/J135856.3+532848.png_0.png  \n",
            "  inflating: 31/Bent_Tail/J120430.2+375734.png_1.png  \n",
            "  inflating: 31/Bent_Tail/J133124.4-054429.png_0.png  \n",
            "  inflating: 31/Bent_Tail/J122638.1+174930.png_1.png  \n",
            "  inflating: 31/Bent_Tail/J082835.1+322821.png_0.png  \n",
            "  inflating: 31/Bent_Tail/J082835.1+322821.png_1.png  \n",
            "  inflating: 31/Bent_Tail/J152736.9+182238.png_0.png  \n",
            "  inflating: 31/Bent_Tail/J070029.9+494647.png_0.png  \n",
            "  inflating: 31/Bent_Tail/J131935.2+025012.png_1.png  \n",
            "  inflating: 31/Bent_Tail/J092338.7+570558.png_1.png  \n",
            "  inflating: 31/Bent_Tail/J072115.5+531411.png_0.png  \n",
            "  inflating: 31/Bent_Tail/J121428.0+212553.png_1.png  \n",
            "  inflating: 31/Bent_Tail/J152119.3+023102.png_1.png  \n",
            "  inflating: 31/Bent_Tail/J072106.9+363903.png_0.png  \n",
            "  inflating: 31/Bent_Tail/J072115.0+531406.png_1.png  \n",
            "  inflating: 31/Bent_Tail/J152624.1+305008.png_0.png  \n",
            "  inflating: 31/Bent_Tail/J152624.1+305008.png_1.png  \n",
            "  inflating: 31/Bent_Tail/J144625.2+214139.png  \n",
            "  inflating: 31/Bent_Tail/J150114.6+095919.png  \n",
            "  inflating: 31/Bent_Tail/J154105.4+432703.png  \n",
            "  inflating: 31/Bent_Tail/J154409.8+175506.png  \n",
            "  inflating: 31/Bent_Tail/J113848.4+334315.png_1.png  \n",
            "  inflating: 31/Bent_Tail/J070723.0+592725.png_0.png  \n",
            "  inflating: 31/Bent_Tail/J104907.5+551313.png_1.png  \n",
            "  inflating: 31/Bent_Tail/J140332.1+292929.png_1.png  \n",
            "  inflating: 31/Bent_Tail/J144625.2+214139.png_0.png  \n",
            "  inflating: 31/Bent_Tail/J144625.2+214139.png_1.png  \n",
            "  inflating: 31/Bent_Tail/J080317.0+244059.png_1.png  \n",
            "  inflating: 31/Bent_Tail/J143348.8+425257.png_1.png  \n",
            "  inflating: 31/Bent_Tail/J102451.3+335619.png_0.png  \n",
            "  inflating: 31/Bent_Tail/J142932.6+544331.png_0.png  \n",
            "  inflating: 31/Bent_Tail/J125045.7+344027.png_0.png  \n",
            "  inflating: 31/Bent_Tail/J125045.7+344027.png_1.png  \n",
            "  inflating: 31/Bent_Tail/J093158.9+553307.png_0.png  \n",
            "  inflating: 31/Bent_Tail/J081801.3+495610.png_1.png  \n",
            "  inflating: 31/Bent_Tail/J113848.4+334315.png_0.png  \n",
            "  inflating: 31/Bent_Tail/J130817.7+175133.png_0.png  \n",
            "  inflating: 31/Bent_Tail/J150104.8+085701.png_1.png  \n",
            "  inflating: 31/Bent_Tail/J161652.8+092628.png_0.png  \n",
            "  inflating: 31/Bent_Tail/J130422.2+201550.png_0.png  \n",
            "  inflating: 31/Bent_Tail/J150228.9+524420.png_1.png  \n",
            "  inflating: 31/Bent_Tail/J120432.1+035806.png_0.png  \n",
            "  inflating: 31/Bent_Tail/J140509.3+161547.png_1.png  \n",
            "  inflating: 31/Bent_Tail/J133124.4-054429.png_1.png  \n",
            "  inflating: 31/Bent_Tail/J133337.8-065808.png_0.png  \n",
            "  inflating: 31/Bent_Tail/J072115.5+531411.png_1.png  \n",
            "  inflating: 31/Bent_Tail/J152119.3+023102.png_0.png  \n",
            "  inflating: 31/Bent_Tail/J073229.7+374420.png_0.png  \n",
            "  inflating: 31/Bent_Tail/J140625.7+250929.png_1.png  \n",
            "  inflating: 31/Bent_Tail/J070723.0+592725.png_1.png  \n",
            "  inflating: 31/Bent_Tail/J112656.2+400341.png_0.png  \n",
            "  inflating: 31/Bent_Tail/J113848.3+334315.png_0.png  \n",
            "  inflating: 31/Bent_Tail/J095641.7+183548.png_0.png  \n",
            "  inflating: 31/Bent_Tail/J090225.8+204547.png_0.png  \n",
            "  inflating: 31/Bent_Tail/J092539.0+362705.png_1.png  \n",
            "  inflating: 31/Bent_Tail/J000330.7+0027561.png_0.png  \n",
            "  inflating: 31/Bent_Tail/J000330.7+0027561.png_1.png  \n",
            "  inflating: 31/Bent_Tail/J104934.3+444553.png_0.png  \n",
            "  inflating: 31/Bent_Tail/J104934.3+444553.png_1.png  \n",
            "  inflating: 31/Bent_Tail/J151911.9+362315.png_0.png  \n",
            "  inflating: 31/Bent_Tail/J072109.8+531237.png_0.png  \n",
            "  inflating: 31/Bent_Tail/J120813.7+440344.png_1.png  \n",
            "  inflating: 31/Bent_Tail/J073232.3+374451.png_0.png  \n",
            "  inflating: 31/Bent_Tail/J091738.6+024521.png_0.png  \n",
            "  inflating: 31/Bent_Tail/J091332.5+182601.png_0.png  \n",
            "  inflating: 31/Bent_Tail/J072106.9+363903.png_1.png  \n",
            "  inflating: 31/Bent_Tail/J091944.7+360947.png_0.png  \n",
            "  inflating: 31/Bent_Tail/J123228.9+200952.png_0.png  \n",
            "  inflating: 31/Bent_Tail/J083840.9+380646.png_0.png  \n",
            "  inflating: 31/Bent_Tail/J083840.9+380646.png_1.png  \n",
            "  inflating: 31/Bent_Tail/J093921.6+231938.png_1.png  \n",
            "  inflating: 31/Bent_Tail/J100404.6+291841.png_1.png  \n",
            "  inflating: 31/Bent_Tail/J133824.8+293103.png_0.png  \n",
            "  inflating: 31/Bent_Tail/J133824.8+293103.png_1.png  \n",
            "  inflating: 31/Bent_Tail/J085604.5+482907.png_0.png  \n",
            "  inflating: 31/Bent_Tail/J141051.4+301355.png_1.png  \n",
            "  inflating: 31/Bent_Tail/J080337.3+105116.png_0.png  \n",
            "  inflating: 31/Bent_Tail/J102000.7+171452.png_1.png  \n",
            "  inflating: 31/Bent_Tail/J093349.9+451956.png_0.png  \n",
            "  inflating: 31/Bent_Tail/J150228.9+524420.png_0.png  \n",
            "  inflating: 31/Bent_Tail/J092645.3+030916.png_0.png  \n",
            "  inflating: 31/Bent_Tail/J092645.3+030916.png_1.png  \n",
            "  inflating: 31/Bent_Tail/J154409.8+175506.png_0.png  \n",
            "  inflating: 31/Bent_Tail/J142334.1+103538.png_0.png  \n",
            "  inflating: 31/Bent_Tail/J110531.8+410546.png_1.png  \n",
            "  inflating: 31/Bent_Tail/J090225.8+204547.png_1.png  \n",
            "  inflating: 31/Bent_Tail/J152642.4+384149.png_0.png  \n",
            "  inflating: 31/Bent_Tail/J114531.6-022713.png_0.png  \n",
            "  inflating: 31/Bent_Tail/J100836.7+281301.png_0.png  \n",
            "  inflating: 31/Bent_Tail/J120432.1+035806.png_1.png  \n",
            "  inflating: 31/Bent_Tail/J095759.7+191607.png_1.png  \n",
            "  inflating: 31/Bent_Tail/J142334.1+103538.png_1.png  \n",
            "  inflating: 31/Bent_Tail/J143348.8+425257.png_0.png  \n",
            "  inflating: 31/Bent_Tail/J113851.3+334259.png_1.png  \n",
            "  inflating: 31/Bent_Tail/J101436.3+494531.png_0.png  \n",
            "  inflating: 31/Bent_Tail/J151130.7+322821.png_0.png  \n",
            "  inflating: 31/Bent_Tail/J122638.1+174930.png_0.png  \n",
            "  inflating: 31/Bent_Tail/J124133.9+140734.png_1.png  \n",
            "  inflating: 31/Bent_Tail/J114340.1+072957.png_0.png  \n",
            "  inflating: 31/Bent_Tail/J114340.1+072957.png_1.png  \n",
            "  inflating: 31/Bent_Tail/J133541.0+535219.png_0.png  \n",
            "  inflating: 31/Bent_Tail/J153616.2+142045.png_0.png  \n",
            "  inflating: 31/Bent_Tail/J134336.7+292846.png_0.png  \n",
            "  inflating: 31/Bent_Tail/J091339.0+031722.png_0.png  \n",
            "  inflating: 31/Bent_Tail/J070759.2+444906.png_1.png  \n",
            "  inflating: 31/Bent_Tail/J124724.2+093059.png_1.png  \n",
            "  inflating: 31/Bent_Tail/J134038.3+555020.png_1.png  \n",
            "  inflating: 31/Bent_Tail/J143243.5+443621.png_0.png  \n",
            "  inflating: 31/Bent_Tail/J070029.9+494647.png_1.png  \n",
            "  inflating: 31/Bent_Tail/J140148.5+283316.png_0.png  \n",
            "  inflating: 31/Bent_Tail/J112924.0+210113.png_0.png  \n",
            "  inflating: 31/Bent_Tail/J093048.6+642237.png_1.png  \n",
            "  inflating: 31/Bent_Tail/J124942.2+303838.png_0.png  \n",
            "  inflating: 31/Bent_Tail/J010236.5-005007.png_1.png  \n",
            "  inflating: 31/Bent_Tail/J085549.0+420418.png_1.png  \n",
            "  inflating: 31/Bent_Tail/J150114.7+514810.png_0.png  \n",
            "  inflating: 31/Bent_Tail/J113851.3+334259.png_0.png  \n",
            "  inflating: 31/Bent_Tail/J093158.9+553307.png_1.png  \n",
            "  inflating: 31/Bent_Tail/J081652.7+413332.png_1.png  \n",
            "  inflating: 31/Bent_Tail/J091944.7+360947.png_1.png  \n",
            "  inflating: 31/Bent_Tail/J153616.2+142045.png_1.png  \n",
            "  inflating: 31/Bent_Tail/J134300.4+462731.png_0.png  \n",
            "  inflating: 31/Bent_Tail/J090209.4-012955.png_0.png  \n",
            "  inflating: 31/Bent_Tail/J074305.9+271012.png_1.png  \n",
            "  inflating: 31/Bent_Tail/J142141.2-074337.png_0.png  \n",
            "  inflating: 31/Bent_Tail/J151911.9+362315.png_1.png  \n",
            "  inflating: 31/Bent_Tail/J072109.8+531237.png_1.png  \n",
            "  inflating: 31/Bent_Tail/J142655.5+420546.png_0.png  \n",
            "  inflating: 31/Bent_Tail/J142655.5+420546.png_1.png  \n",
            "  inflating: 31/Bent_Tail/J091339.0+031722.png_1.png  \n",
            "  inflating: 31/Bent_Tail/J120813.7+440344.png_0.png  \n",
            "  inflating: 31/Bent_Tail/J071406.0+510000.png_0.png  \n",
            "  inflating: 31/Bent_Tail/J071406.0+510000.png_1.png  \n",
            "  inflating: 31/Bent_Tail/J094841.7+421817.png_0.png  \n",
            "  inflating: 31/Bent_Tail/J094841.7+421817.png_1.png  \n",
            "  inflating: 31/Bent_Tail/J121428.0+212553.png_0.png  \n",
            "  inflating: 31/Bent_Tail/J124724.2+093059.png_0.png  \n",
            "  inflating: 31/Bent_Tail/J011425.5+002932.png_0.png  \n",
            "  inflating: 31/Bent_Tail/J120647.7+315232.png_1.png  \n",
            "  inflating: 31/Bent_Tail/J170616.4+200652.png_0.png  \n",
            "  inflating: 31/Bent_Tail/J170616.4+200652.png_1.png  \n",
            "  inflating: 31/Bent_Tail/J100755.1+301956.png_0.png  \n",
            "  inflating: 31/Bent_Tail/J115243.3+340530.png_1.png  \n",
            "  inflating: 31/Bent_Tail/J073232.3+374451.png_1.png  \n",
            "  inflating: 31/Bent_Tail/J100515.8+231500.png_0.png  \n",
            "  inflating: 31/Bent_Tail/J124013.6+212233.png_0.png  \n",
            "  inflating: 31/Bent_Tail/J140148.5+283316.png_1.png  \n",
            "  inflating: 31/Bent_Tail/J133337.8-065808.png_1.png  \n",
            "  inflating: 31/Bent_Tail/J105908.3+351211.png_0.png  \n",
            "  inflating: 31/Bent_Tail/J112924.0+210113.png_1.png  \n",
            "  inflating: 31/Bent_Tail/J092338.7+570558.png_0.png  \n",
            "  inflating: 31/Bent_Tail/J133359.7+441950.png_0.png  \n",
            "  inflating: 31/Bent_Tail/J133359.7+441950.png_1.png  \n",
            "  inflating: 31/Bent_Tail/J100756.0+155003.png_0.png  \n",
            "  inflating: 31/Bent_Tail/J091332.5+182601.png_1.png  \n",
            "  inflating: 31/Bent_Tail/J011425.5+002932.png_1.png  \n",
            "  inflating: 31/Bent_Tail/J100755.1+301956.png_1.png  \n",
            "  inflating: 31/Bent_Tail/J141051.4+301355.png_0.png  \n",
            "  inflating: 31/Bent_Tail/J143243.5+443621.png_1.png  \n",
            "  inflating: 31/Bent_Tail/J123228.9+200952.png_1.png  \n",
            "  inflating: 31/Bent_Tail/J150114.6+095919.png_0.png  \n",
            "  inflating: 31/Bent_Tail/J132644.8+031156.png_0.png  \n",
            "  inflating: 31/Bent_Tail/J131036.7+241844.png_0.png  \n",
            "  inflating: 31/Bent_Tail/J113828.5+155450.png_0.png  \n",
            "  inflating: 31/Bent_Tail/J113828.5+155450.png_1.png  \n",
            "  inflating: 31/Bent_Tail/J152120.5+023110.png_1.png  \n",
            "  inflating: 31/Bent_Tail/J080431.5+192217.png_0.png  \n",
            "  inflating: 31/Bent_Tail/J080431.5+192217.png_1.png  \n",
            "  inflating: 31/Bent_Tail/J074115.4+163254.png_0.png  \n",
            "  inflating: 31/Bent_Tail/J095327.8+292420.png_0.png  \n",
            "  inflating: 31/Bent_Tail/J133416.3+332347.png_0.png  \n",
            "  inflating: 31/Bent_Tail/J085604.5+482907.png_1.png  \n",
            "  inflating: 31/Bent_Tail/J100328.5-043809.png_0.png  \n",
            "  inflating: 31/Bent_Tail/J100328.5-043809.png_1.png  \n",
            "  inflating: 31/Bent_Tail/J073539.8+251020.png_0.png  \n",
            "  inflating: 31/Bent_Tail/J095438.0+575350.png_0.png  \n",
            "  inflating: 31/Bent_Tail/J121744.7+410448.png_0.png  \n",
            "  inflating: 31/Bent_Tail/J121744.7+410448.png_1.png  \n",
            "  inflating: 31/Bent_Tail/J150114.6+095919.png_1.png  \n",
            "  inflating: 31/Bent_Tail/J131036.7+241844.png_1.png  \n",
            "  inflating: 31/Bent_Tail/J070644.5+423118.png_1.png  \n",
            "  inflating: 31/Bent_Tail/J102823.1+034527.png_0.png  \n",
            "  inflating: 31/Bent_Tail/J105501.0+520156.png_0.png  \n",
            "  inflating: 31/Bent_Tail/J105501.0+520156.png_1.png  \n",
            "  inflating: 31/Bent_Tail/J093921.6+231938.png_0.png  \n",
            "  inflating: 31/Bent_Tail/J091639.5+052552.png_0.png  \n",
            "  inflating: 31/Bent_Tail/J125138.0+280633.png_1.png  \n",
            "  inflating: 31/Bent_Tail/J140617.9+275615.png_0.png  \n",
            "  inflating: 31/Bent_Tail/J000330.7+002756.png_0.png  \n",
            "  inflating: 31/Bent_Tail/J111933.1+631718.png_0.png  \n",
            "  inflating: 31/Bent_Tail/J111933.1+631718.png_1.png  \n",
            "  inflating: 31/Bent_Tail/J124206.0+323229.png_1.png  \n",
            "  inflating: 31/Bent_Tail/J093050.8+202000.png_1.png  \n",
            "  inflating: 31/Bent_Tail/J131438.1+513413.png_1.png  \n",
            "  inflating: 31/Bent_Tail/J120308.3+514006.png_0.png  \n",
            "  inflating: 31/Bent_Tail/J091118.8+073239.png_0.png  \n",
            "  inflating: 31/Bent_Tail/J093834.5-042023.png_0.png  \n",
            "  inflating: 31/Bent_Tail/J100154.6+492033.png_1.png  \n",
            "  inflating: 31/Bent_Tail/J114127.1+080222.png_0.png  \n",
            "  inflating: 31/Bent_Tail/J111931.3+020729.png_0.png  \n",
            "  inflating: 31/Bent_Tail/J130904.5+102934.png_0.png  \n",
            "  inflating: 31/Bent_Tail/J091325.0+122739.png_0.png  \n",
            "  inflating: 31/Bent_Tail/J111833.4+311515.png_0.png  \n",
            "  inflating: 31/Bent_Tail/J095716.4+190651.png_0.png  \n",
            "  inflating: 31/Bent_Tail/J120045.6+294249.png_1.png  \n",
            "  inflating: 31/Bent_Tail/J133540.5+535221.png_0.png  \n",
            "  inflating: 31/Bent_Tail/J102823.8+145639.png_0.png  \n",
            "  inflating: 31/Bent_Tail/J094443.2+024754.png_0.png  \n",
            "  inflating: 31/Bent_Tail/J094443.2+024754.png_1.png  \n",
            "  inflating: 31/Bent_Tail/J112038.5+291234.png_1.png  \n",
            "  inflating: 31/Bent_Tail/J114111.2+054359.png_0.png  \n",
            "  inflating: 31/Bent_Tail/J130904.5+102934.png_1.png  \n",
            "  inflating: 31/Bent_Tail/J083840.8+380553.png_1.png  \n",
            "  inflating: 31/Bent_Tail/J133421.9+332300.png_0.png  \n",
            "  inflating: 31/Bent_Tail/J133014.0+490801.png_0.png  \n",
            "  inflating: 31/Bent_Tail/J133014.0+490801.png_1.png  \n",
            "  inflating: 31/Bent_Tail/J154105.4+432703.png_1.png  \n",
            "  inflating: 31/Bent_Tail/J140656.3+550402.png_0.png  \n",
            "  inflating: 31/Bent_Tail/J082839.5+243654.png_1.png  \n",
            "  inflating: 31/Bent_Tail/J081803.7+543708.png_1.png  \n",
            "  inflating: 31/Bent_Tail/J130744.3+565101.png_1.png  \n",
            "  inflating: 31/Bent_Tail/J172919.7+541528.png_1.png  \n",
            "  inflating: 31/Bent_Tail/J004012.8+012542.png_0.png  \n",
            "  inflating: 31/Bent_Tail/J004012.8+012542.png_1.png  \n",
            "  inflating: 31/Bent_Tail/J091204.2+094405.png_1.png  \n",
            "  inflating: 31/Bent_Tail/J095102.5+102211.png_1.png  \n",
            "  inflating: 31/Bent_Tail/J095603.5+233810.png_1.png  \n",
            "  inflating: 31/Bent_Tail/J075241.4+455628.png_0.png  \n",
            "  inflating: 31/Bent_Tail/J120045.6+294249.png_0.png  \n",
            "  inflating: 31/Bent_Tail/J133540.5+535221.png_1.png  \n",
            "  inflating: 31/Bent_Tail/J101932.3+140252.png_1.png  \n",
            "  inflating: 31/Bent_Tail/J123607.9+163829.png_0.png  \n",
            "  inflating: 31/Bent_Tail/J153249.5+573425.png_0.png  \n",
            "  inflating: 31/Bent_Tail/J091213.2+133847.png_0.png  \n",
            "  inflating: 31/Bent_Tail/J091213.2+133847.png_1.png  \n",
            "  inflating: 31/Bent_Tail/J135120.7-054851.png_0.png  \n",
            "  inflating: 31/Bent_Tail/J135120.7-054851.png_1.png  \n",
            "  inflating: 31/Bent_Tail/J073229.7+374420.png_1.png  \n",
            "  inflating: 31/Bent_Tail/J143934.0+531442.png_0.png  \n",
            "  inflating: 31/Bent_Tail/J120647.7+315232.png_0.png  \n",
            "  inflating: 31/Bent_Tail/J140625.7+250929.png_0.png  \n",
            "  inflating: 31/Bent_Tail/J134300.4+462731.png_1.png  \n",
            "  inflating: 31/Bent_Tail/J094613.1+022226.png_0.png  \n",
            "  inflating: 31/Bent_Tail/J094613.1+022226.png_1.png  \n",
            "  inflating: 31/Bent_Tail/J110555.0-000342.png_0.png  \n",
            "  inflating: 31/Bent_Tail/J132644.8+031156.png_1.png  \n",
            "  inflating: 31/Bent_Tail/J120458.8+455933.png_0.png  \n",
            "  inflating: 31/Bent_Tail/J120458.8+455933.png_1.png  \n",
            "  inflating: 31/Bent_Tail/J152120.5+023110.png_0.png  \n",
            "  inflating: 31/Bent_Tail/J070644.5+423118.png_0.png  \n",
            "  inflating: 31/Bent_Tail/J102823.1+034527.png_1.png  \n",
            "  inflating: 31/Bent_Tail/J074115.4+163254.png_1.png  \n",
            "  inflating: 31/Bent_Tail/J133416.3+332347.png_1.png  \n",
            "  inflating: 31/Bent_Tail/J084934.4+282150.png_1.png  \n",
            "  inflating: 31/Bent_Tail/J120118.3+124500.png_1.png  \n",
            "  inflating: 31/Bent_Tail/J091042.2+384125.png_0.png  \n",
            "  inflating: 31/Bent_Tail/J091042.2+384125.png_1.png  \n",
            "  inflating: 31/Bent_Tail/J110555.0-000342.png_1.png  \n",
            "  inflating: 31/Bent_Tail/J095438.0+575350.png_1.png  \n",
            "  inflating: 31/Bent_Tail/J095327.8+292420.png_1.png  \n",
            "  inflating: 31/Bent_Tail/J135031.1+330124.png_0.png  \n",
            "  inflating: 31/Bent_Tail/J135031.1+330124.png_1.png  \n",
            "  inflating: 31/Bent_Tail/J084934.4+282150.png_0.png  \n",
            "  inflating: 31/Bent_Tail/J100404.6+291841.png_0.png  \n",
            "  inflating: 31/Bent_Tail/J091639.5+052552.png_1.png  \n",
            "  inflating: 31/Bent_Tail/J125138.0+280633.png_0.png  \n",
            "  inflating: 31/Bent_Tail/J091420.6+582253.png_0.png  \n",
            "  inflating: 31/Bent_Tail/J131438.1+513413.png_0.png  \n",
            "  inflating: 31/Bent_Tail/J122413.3+160600.png_0.png  \n",
            "  inflating: 31/Bent_Tail/J094702.1+340303.png_0.png  \n",
            "  inflating: 31/Bent_Tail/J125046.1+343953.png_1.png  \n",
            "  inflating: 31/Bent_Tail/J142843.1+552045.png_0.png  \n",
            "  inflating: 31/Bent_Tail/J142843.1+552045.png_1.png  \n",
            "  inflating: 31/Bent_Tail/J124206.0+323229.png_0.png  \n",
            "  inflating: 31/Bent_Tail/J093050.8+202000.png_0.png  \n",
            "  inflating: 31/Bent_Tail/J123229.6+201035.png_1.png  \n",
            "  inflating: 31/Bent_Tail/J154709.5-004638.png_1.png  \n",
            "  inflating: 31/Bent_Tail/J072725.1+310934.png_0.png  \n",
            "  inflating: 31/Bent_Tail/J114111.2+054359.png_1.png  \n",
            "  inflating: 31/Bent_Tail/J122110.0+515052.png_1.png  \n",
            "  inflating: 31/Bent_Tail/J105500.9+520201.png_1.png  \n",
            "  inflating: 31/Bent_Tail/J101207.3+084133.png_0.png  \n",
            "  inflating: 31/Bent_Tail/J091204.2+094405.png_0.png  \n",
            "  inflating: 31/Bent_Tail/J130744.3+565101.png_0.png  \n",
            "  inflating: 31/Bent_Tail/J070825.8+540838.png_0.png  \n",
            "  inflating: 31/Bent_Tail/J121819.0+354815.png_1.png  \n",
            "  inflating: 31/Bent_Tail/J125659.2+061858.png_0.png  \n",
            "  inflating: 31/Bent_Tail/J132519.0+080754.png_1.png  \n",
            "  inflating: 31/Bent_Tail/J120401.5+201356.png_1.png  \n",
            "  inflating: 31/Bent_Tail/J154709.5-004638.png_0.png  \n",
            "  inflating: 31/Bent_Tail/J072725.1+310934.png_1.png  \n",
            "  inflating: 31/Bent_Tail/J143505.9-040924.png_0.png  \n",
            "  inflating: 31/Bent_Tail/J143505.9-040924.png_1.png  \n",
            "  inflating: 31/Bent_Tail/J072431.5+501052.png_0.png  \n",
            "  inflating: 31/Bent_Tail/J072431.5+501052.png_1.png  \n",
            "  inflating: 31/Bent_Tail/J114553.0-075755.png_0.png  \n",
            "  inflating: 31/Bent_Tail/J132519.0+080754.png_0.png  \n",
            "  inflating: 31/Bent_Tail/J100154.6+492033.png_0.png  \n",
            "  inflating: 31/Bent_Tail/J081659.5+571627.png_1.png  \n",
            "  inflating: 31/Bent_Tail/J074757.7+372638.png_0.png  \n",
            "  inflating: 31/Bent_Tail/J074757.7+372638.png_1.png  \n",
            "  inflating: 31/Bent_Tail/J091325.0+122739.png_1.png  \n",
            "  inflating: 31/Bent_Tail/J083840.8+380553.png_0.png  \n",
            "  inflating: 31/Bent_Tail/J013134.5+003341.png_0.png  \n",
            "  inflating: 31/Bent_Tail/J104914.0+005945.png_1.png  \n",
            "  inflating: 31/Bent_Tail/J084445.3+212932.png_0.png  \n",
            "  inflating: 31/Bent_Tail/J074639.9+465227.png_0.png  \n",
            "  inflating: 31/Bent_Tail/J092239.9-072428.png_0.png  \n",
            "  inflating: 31/Bent_Tail/J092239.9-072428.png_1.png  \n",
            "  inflating: 31/Bent_Tail/J135932.9+194104.png_1.png  \n",
            "  inflating: 31/Bent_Tail/J091235.1+155958.png_0.png  \n",
            "  inflating: 31/Bent_Tail/J091707.8+550903.png_0.png  \n",
            "  inflating: 31/Bent_Tail/J091707.8+550903.png_1.png  \n",
            "  inflating: 31/Bent_Tail/J125046.1+343953.png_0.png  \n",
            "  inflating: 31/Bent_Tail/J140617.9+275615.png_1.png  \n",
            "  inflating: 31/Bent_Tail/J091420.6+582253.png_1.png  \n",
            "  inflating: 31/Bent_Tail/J000330.7+002756.png_1.png  \n",
            "  inflating: 31/Bent_Tail/J101220.0+363927.png_0.png  \n",
            "  inflating: 31/Bent_Tail/J101220.0+363927.png_1.png  \n",
            "  inflating: 31/Bent_Tail/J093834.5-042023.png_1.png  \n",
            "  inflating: 31/Bent_Tail/J084132.7-020318.png_0.png  \n",
            "  inflating: 31/Bent_Tail/J113147.1+354910.png_1.png  \n",
            "  inflating: 31/Bent_Tail/J101801.6+635228.png_0.png  \n",
            "  inflating: 31/Bent_Tail/J144020.8+112506.png_0.png  \n",
            "  inflating: 31/Bent_Tail/J144020.8+112506.png_1.png  \n",
            "  inflating: 31/Bent_Tail/J121819.0+354815.png_0.png  \n",
            "  inflating: 31/Bent_Tail/J125659.2+061858.png_1.png  \n",
            "  inflating: 31/Bent_Tail/J112038.5+291234.png_0.png  \n",
            "  inflating: 31/Bent_Tail/J172919.7+541528.png_0.png  \n",
            "  inflating: 31/Bent_Tail/J074640.0+465214.png_0.png  \n",
            "  inflating: 31/Bent_Tail/J074640.0+465214.png_1.png  \n",
            "  inflating: 31/Bent_Tail/J081659.5+571627.png_0.png  \n",
            "  inflating: 31/Bent_Tail/J095007.0+434400.png_0.png  \n",
            "  inflating: 31/Bent_Tail/J084132.7-020318.png_1.png  \n",
            "  inflating: 31/Bent_Tail/J114553.0-075755.png_1.png  \n",
            "  inflating: 31/Bent_Tail/J141702.1+201902.png_1.png  \n",
            "  inflating: 31/Bent_Tail/J095716.4+190651.png_1.png  \n",
            "  inflating: 31/Bent_Tail/J081803.7+543708.png_0.png  \n",
            "  inflating: 31/Bent_Tail/J134732.5+410301.png_0.png  \n",
            "  inflating: 31/Bent_Tail/J142141.0-074334.png_1.png  \n",
            "  inflating: 31/Bent_Tail/J101801.6+635228.png_1.png  \n",
            "  inflating: 31/Bent_Tail/J120401.5+201356.png_0.png  \n",
            "  inflating: 31/Bent_Tail/J145305.6+210835.png_0.png  \n",
            "  inflating: 31/Bent_Tail/J101601.8+240009.png_0.png  \n",
            "  inflating: 31/Bent_Tail/J135031.9+330120.png_1.png  \n",
            "  inflating: 31/Bent_Tail/J104914.0+005945.png_0.png  \n",
            "  inflating: 31/Bent_Tail/J134238.8+064314.png_0.png  \n",
            "  inflating: 31/Bent_Tail/J091859.3+315140.png_1.png  \n",
            "  inflating: 31/Bent_Tail/J075241.4+455628.png_1.png  \n",
            "  inflating: 31/Bent_Tail/J073134.9+232104.png_0.png  \n",
            "  inflating: 31/Bent_Tail/J073134.9+232104.png_1.png  \n",
            "  inflating: 31/Bent_Tail/J113147.1+354910.png_0.png  \n",
            "  inflating: 31/Bent_Tail/J122413.3+160600.png_1.png  \n",
            "  inflating: 31/Bent_Tail/J084306.7+170015.png_0.png  \n",
            "  inflating: 31/Bent_Tail/J084306.7+170015.png_1.png  \n",
            "  inflating: 31/Bent_Tail/J133421.9+332300.png_1.png  \n",
            "  inflating: 31/Bent_Tail/J111833.4+311515.png_1.png  \n",
            "  inflating: 31/Bent_Tail/J124604.9+023055.png_1.png  \n",
            "  inflating: 31/Bent_Tail/J145305.6+210835.png_1.png  \n",
            "  inflating: 31/Bent_Tail/J105615.1+112849.png_0.png  \n",
            "  inflating: 31/Bent_Tail/J105615.1+112849.png_1.png  \n",
            "  inflating: 31/Bent_Tail/J101601.8+240009.png_1.png  \n",
            "  inflating: 31/Bent_Tail/J111931.3+020729.png_1.png  \n",
            "  inflating: 31/Bent_Tail/J135031.9+330120.png_0.png  \n",
            "  inflating: 31/Bent_Tail/J013134.5+003341.png_1.png  \n",
            "  inflating: 31/Bent_Tail/J135932.9+194104.png_0.png  \n",
            "  inflating: 31/Bent_Tail/J134238.8+064314.png_1.png  \n",
            "  inflating: 31/Bent_Tail/J095102.5+102211.png_0.png  \n",
            "  inflating: 31/Bent_Tail/J095603.5+233810.png_0.png  \n",
            "  inflating: 31/Bent_Tail/J140656.3+550402.png_1.png  \n",
            "  inflating: 31/Bent_Tail/J142031.3-062248.png_1.png  \n",
            "  inflating: 31/Bent_Tail/J091235.1+155958.png_1.png  \n",
            "  inflating: 31/Bent_Tail/J102823.8+145639.png_1.png  \n",
            "  inflating: 31/Bent_Tail/J120837.1+612106.png_1.png  \n",
            "  inflating: 31/Bent_Tail/J073539.8+251020.png_1.png  \n",
            "  inflating: 31/Bent_Tail/J112502.1+091003.png_0.png  \n",
            "  inflating: 31/Bent_Tail/J112502.1+091003.png_1.png  \n",
            "  inflating: 31/Bent_Tail/J123229.6+201035.png_0.png  \n",
            "  inflating: 31/Bent_Tail/J091118.8+073239.png_1.png  \n",
            "  inflating: 31/Bent_Tail/J095700.6-064423.png_0.png  \n",
            "  inflating: 31/Bent_Tail/J095700.6-064423.png_1.png  \n",
            "  inflating: 31/Bent_Tail/J134414.1+001642.png_0.png  \n",
            "  inflating: 31/Bent_Tail/J134414.1+001642.png_1.png  \n",
            "  inflating: 31/Bent_Tail/J094942.8-005024.png_0.png  \n",
            "  inflating: 31/Bent_Tail/J094942.8-005024.png_1.png  \n",
            "  inflating: 31/Bent_Tail/J140656.3+550404.png_0.png  \n",
            "  inflating: 31/Bent_Tail/J140656.3+550404.png_1.png  \n",
            "  inflating: 31/Bent_Tail/J153249.5+573425.png_1.png  \n",
            "  inflating: 31/Bent_Tail/J114127.1+080222.png_1.png  \n",
            "  inflating: 31/Bent_Tail/J084445.3+212932.png_1.png  \n",
            "  inflating: 31/Bent_Tail/J085748.5+592924.png_0.png  \n",
            "  inflating: 31/Bent_Tail/J085748.5+592924.png_1.png  \n",
            "  inflating: 31/Bent_Tail/J122110.0+515052.png_0.png  \n",
            "  inflating: 31/Bent_Tail/J074639.9+465227.png_1.png  \n",
            "  inflating: 31/Bent_Tail/J105500.9+520201.png_0.png  \n",
            "  inflating: 31/Bent_Tail/J101207.3+084133.png_1.png  \n",
            "  inflating: 31/Bent_Tail/J094702.1+340303.png_1.png  \n",
            "  inflating: 31/Bent_Tail/J091859.3+315140.png_0.png  \n",
            "  inflating: 31/Bent_Tail/J154105.4+432703.png_0.png  \n",
            "  inflating: 31/Bent_Tail/J082839.5+243654.png_0.png  \n",
            "  inflating: 31/Bent_Tail/J141702.1+201902.png_0.png  \n",
            "  inflating: 31/Bent_Tail/J142031.3-062248.png_0.png  \n",
            "  inflating: 31/Bent_Tail/J095007.0+434400.png_1.png  \n",
            "  inflating: 31/Bent_Tail/J134732.5+410301.png_1.png  \n",
            "  inflating: 31/Bent_Tail/J120837.1+612106.png_0.png  \n",
            "  inflating: 31/Bent_Tail/J094715.5+525055.png_0.png  \n",
            "  inflating: 31/Bent_Tail/J094715.5+525055.png_1.png  \n",
            "  inflating: 31/Bent_Tail/J101932.3+140252.png_0.png  \n",
            "  inflating: 31/Bent_Tail/J070825.8+540838.png_1.png  \n",
            "  inflating: 31/Bent_Tail/J124604.9+023055.png_0.png  \n",
            "  inflating: 31/Bent_Tail/J151056.2+054441.png_1.png  \n",
            "  inflating: 31/Bent_Tail/J081544.2+371017.png_1.png  \n",
            "  inflating: 31/Bent_Tail/J142141.0-074334.png_0.png  \n",
            "  inflating: 31/Bent_Tail/J123607.9+163829.png_1.png  \n",
            "  inflating: 31/Bent_Tail/J151056.2+054441.png_0.png  \n",
            "  inflating: 31/Bent_Tail/J081544.2+371017.png_0.png  \n"
          ]
        }
      ]
    },
    {
      "cell_type": "code",
      "execution_count": null,
      "metadata": {
        "colab": {
          "base_uri": "https://localhost:8080/"
        },
        "id": "CozhDzPWKuOJ",
        "outputId": "78f9026a-01cf-49be-aa78-ec9db29e319a"
      },
      "outputs": [
        {
          "output_type": "stream",
          "name": "stdout",
          "text": [
            "Archive:  gdrive/My Drive/3.zip\n",
            "replace 3/First _FRII/TXS1408003.png? [y]es, [n]o, [A]ll, [N]one, [r]ename: A\n",
            "  inflating: 3/First _FRII/TXS1408003.png  \n",
            "  inflating: 3/First _FRII/3C220.2.png  \n",
            "  inflating: 3/First _FRII/3C223.png  \n",
            "  inflating: 3/First _FRII/TXS1406007.png  \n",
            "  inflating: 3/First _FRII/3C212.png  \n",
            "  inflating: 3/First _FRII/3C244.1.png  \n",
            "  inflating: 3/First _FRII/TXS1541+143.png  \n",
            "  inflating: 3/First _FRII/TXS1437001.png  \n",
            "  inflating: 3/First _FRII/TXS1541+230.png  \n",
            "  inflating: 3/First _FRII/TXS1536+144.png  \n",
            "  inflating: 3/First _FRII/TXS1434028.png  \n",
            "  inflating: 3/First _FRII/TXS1430002.png  \n",
            "  inflating: 3/First _FRII/3C223.1.png  \n",
            "  inflating: 3/First _FRII/TXS1416000.png  \n",
            "  inflating: 3/First _FRII/TXS1432020.png  \n",
            "  inflating: 3/First _FRII/TXS1541+136.png  \n",
            "  inflating: 3/First _FRII/3C227.png  \n",
            "  inflating: 3/First _FRII/TXS1540+241.png  \n",
            "  inflating: 3/First _FRII/TXS1416022.png  \n",
            "  inflating: 3/First _FRII/WB1504+1618.png  \n",
            "  inflating: 3/First _FRII/3C230.png  \n",
            "  inflating: 3/First _FRII/TXS1413011.png  \n",
            "  inflating: 3/First _FRII/TXS1428013.png  \n",
            "  inflating: 3/First _FRII/TXS1545+279.png  \n",
            "  inflating: 3/First _FRII/TXS1549+262.png  \n",
            "  inflating: 3/First _FRII/TXS1229013.png  \n",
            "  inflating: 3/First _FRII/TXS1433015.png  \n",
            "  inflating: 3/First _FRII/TXS1537+145.png  \n",
            "  inflating: 3/First _FRII/TXS1407009.png  \n",
            "  inflating: 3/First _FRII/TXS1552+151.png  \n",
            "  inflating: 3/First _FRII/TXS1549+107.png  \n",
            "  inflating: 3/First _FRII/TXS1544+279.png  \n",
            "  inflating: 3/First _FRII/TXS1422010.png  \n",
            "  inflating: 3/First _FRII/3C225.png  \n",
            "  inflating: 3/First _FRII/3C228.png  \n",
            "  inflating: 3/First _FRII/3C229.png  \n",
            "  inflating: 3/First _FRII/TXS1541+219.png  \n",
            "  inflating: 3/First _FRII/TXS1429006.png  \n",
            "  inflating: 3/First _FRII/TXS1554+144.png  \n",
            "  inflating: 3/First _FRII/TXS1546+268.png  \n",
            "  inflating: 3/First _FRII/3C211.png  \n",
            "  inflating: 3/First _FRII/3C217.png  \n",
            "  inflating: 3/First _FRII/3C219.png  \n",
            "  inflating: 3/First _FRII/3C213.1.png  \n",
            "  inflating: 3/First _FRII/3C210.png  \n",
            "  inflating: 3/First _FRII/3C208.png  \n",
            "  inflating: 3/First _FRII/3C226.png  \n",
            "  inflating: 3/First _FRII/TXS1551+221.png  \n",
            "  inflating: 3/First _FRII/3C221.png  \n",
            "  inflating: 3/First _FRII/3C215.png  \n",
            "  inflating: 3/Bent_Tail/J103836.6+011747.png  \n",
            "  inflating: 3/Bent_Tail/J103636.3+383507.png  \n",
            "  inflating: 3/Bent_Tail/J165618.5+435157.png  \n",
            "  inflating: 3/Bent_Tail/J161652.9+092630.png  \n",
            "  inflating: 3/Bent_Tail/J172920.2+541517.png  \n",
            "  inflating: 3/Bent_Tail/J232653.7-020213.png  \n",
            "  inflating: 3/Bent_Tail/J221842.8-092139.png  \n",
            "  inflating: 3/Bent_Tail/J171621.8+260751.png  \n",
            "  inflating: 3/Bent_Tail/J165842.8+191218.png  \n",
            "  inflating: 3/Bent_Tail/J160456.9+235552.png  \n",
            "  inflating: 3/Bent_Tail/J162757.5+334548.png  \n",
            "  inflating: 3/Bent_Tail/J215731.3+003751.png  \n",
            "  inflating: 3/Bent_Tail/J010242.4-005032.png  \n",
            "  inflating: 3/Bent_Tail/J172320.6+355809.png  \n",
            "  inflating: 3/Bent_Tail/J155806.8+451955.png  \n",
            "  inflating: 3/Bent_Tail/J172649.8+510331.png  \n",
            "  inflating: 3/Bent_Tail/J165422.4+480846.png  \n",
            "  inflating: 3/Bent_Tail/J103036.0+143719.png  \n",
            "  inflating: 3/Bent_Tail/J162035.6+252056.png  \n",
            "  inflating: 3/Bent_Tail/J164146.3+102147.png  \n",
            "  inflating: 3/Bent_Tail/J172649.9+510332.png  \n",
            "  inflating: 3/Bent_Tail/J103502.6+425548.png  \n",
            "  inflating: 3/Bent_Tail/J170257.1+235802.png  \n",
            "  inflating: 3/Bent_Tail/J171056.7+394132.png  \n",
            "  inflating: 3/Bent_Tail/J154858.7+085419.png  \n",
            "  inflating: 3/Bent_Tail/J103339.7+075550.png  \n",
            "  inflating: 3/Bent_Tail/J172708.6+372714.png  \n",
            "  inflating: 3/Bent_Tail/J103502.2+425540.png  \n",
            "  inflating: 3/Bent_Tail/J233744.3-004208.png  \n",
            "  inflating: 3/Bent_Tail/J163920.0+295056.png  \n",
            "  inflating: 3/Bent_Tail/J163031.4+285405.png  \n",
            "  inflating: 3/Bent_Tail/J154806.4+363346.png  \n",
            "  inflating: 3/Bent_Tail/J163424.2+341543.png  \n",
            "  inflating: 3/Bent_Tail/J160456.7+235554.png  \n",
            "  inflating: 3/Bent_Tail/J104254.6+290717.png  \n",
            "  inflating: 3/Bent_Tail/J165422.5+480845.png  \n",
            "  inflating: 3/Bent_Tail/J104148.1+523334.png  \n",
            "  inflating: 3/Bent_Tail/J160803.7+221104.png  \n",
            "  inflating: 3/Bent_Tail/J164122.3+380206.png  \n",
            "  inflating: 3/Bent_Tail/J160810.8+325418.png  \n",
            "  inflating: 3/Bent_Tail/J104742.7+434651.png  \n",
            "  inflating: 3/Bent_Tail/J160318.6+192414.png  \n",
            "  inflating: 3/Bent_Tail/J162228.9+264654.png  \n",
            "  inflating: 3/Bent_Tail/J235946.9-104117.png  \n",
            "  inflating: 3/Bent_Tail/J162317.9+370535.png  \n",
            "  inflating: 3/Bent_Tail/J162346.3+101002.png  \n",
            "  inflating: 3/Bent_Tail/J172320.3+355806.png  \n",
            "  inflating: 3/Bent_Tail/J233731.9+004340.png  \n",
            "  inflating: 3/Bent_Tail/J171542.0+464832.png  \n",
            "  inflating: 3/Bent_Tail/J170616.4+200645.png  \n"
          ]
        }
      ],
      "source": [
        "!unzip gdrive/My\\ Drive/3.zip # unziping the   folder \n"
      ]
    },
    {
      "cell_type": "markdown",
      "source": [
        "# Spliting the data"
      ],
      "metadata": {
        "id": "6QrVm5UTeF6e"
      }
    },
    {
      "cell_type": "code",
      "execution_count": null,
      "metadata": {
        "colab": {
          "base_uri": "https://localhost:8080/"
        },
        "id": "pmFzzsi6n9qI",
        "outputId": "ca019f39-6b36-4ec2-c0f0-0cfabff5117f"
      },
      "outputs": [
        {
          "output_type": "stream",
          "name": "stdout",
          "text": [
            "Found 1590 files belonging to 2 classes.\n",
            "Using 1431 files for training.\n",
            "Found 1590 files belonging to 2 classes.\n",
            "Using 159 files for validation.\n",
            "Found 100 files belonging to 2 classes.\n"
          ]
        }
      ],
      "source": [
        "image_size = (150, 150)\n",
        "batch_size = 32\n",
        "\n",
        "# The tf.keras.preparation keras dataset preprocessing functions help us to access our raw data on disk to a tf.data. \n",
        "#An object that can be utilized to train a model is a dataset.\n",
        "# Therefore we use  a built in function   in Keras to  split our data  into  training and validation \n",
        "train_data= tf.keras.preprocessing.image_dataset_from_directory(\"31\",\n",
        "    shuffle=True,\n",
        "    validation_split=0.1,\n",
        "    subset=\"training\",\n",
        "    color_mode=\"grayscale\",\n",
        "    seed=1337, \n",
        "    image_size=image_size, \n",
        "    batch_size=batch_size \n",
        ")\n",
        " #   is the name of the folder where the  our data is store\n",
        "    # spliting  the data into into  training  \n",
        "    #thus we train 890% of our data  and  the remainimg  10% is for  validate\n",
        "\n",
        "validation_data = tf.keras.preprocessing.image_dataset_from_directory(\"31\",\n",
        "    shuffle=True,\n",
        "    validation_split=0.1,\n",
        "    subset=\"validation\",\n",
        "   color_mode=\"grayscale\",  #  to have channel of 1 \n",
        "    seed=1337,\n",
        "    image_size=image_size,\n",
        "    batch_size=batch_size\n",
        ")\n",
        "\n",
        "\n",
        "test_data = tf.keras.preprocessing.image_dataset_from_directory(\"3\",\n",
        "   color_mode=\"grayscale\",\n",
        "    seed=1337,\n",
        "    image_size=image_size,\n",
        "    batch_size=batch_size\n",
        ")\n",
        "\n",
        "\n"
      ]
    },
    {
      "cell_type": "code",
      "execution_count": null,
      "metadata": {
        "colab": {
          "base_uri": "https://localhost:8080/"
        },
        "id": "EtuRTyhvnOJJ",
        "outputId": "5f03def5-05a2-43df-b6fb-efa9760bd896"
      },
      "outputs": [
        {
          "output_type": "stream",
          "name": "stdout",
          "text": [
            "['Bent_Tail', 'First _FRII']\n"
          ]
        }
      ],
      "source": [
        "class_names = train_data.class_names\n",
        "print(class_names)   # viewing the   classses found in the training  data "
      ]
    },
    {
      "cell_type": "code",
      "execution_count": null,
      "metadata": {
        "colab": {
          "base_uri": "https://localhost:8080/"
        },
        "id": "Q68_EJkhqH-x",
        "outputId": "12fb25a0-69be-4184-f1d9-28dcbd3612d4"
      },
      "outputs": [
        {
          "output_type": "stream",
          "name": "stdout",
          "text": [
            "['Bent_Tail', 'First _FRII']\n"
          ]
        }
      ],
      "source": [
        "class_name = test_data.class_names\n",
        "print(class_name) #  viewing images found in "
      ]
    },
    {
      "cell_type": "code",
      "source": [
        ""
      ],
      "metadata": {
        "id": "YE6J0i-NfEDS"
      },
      "execution_count": null,
      "outputs": []
    },
    {
      "cell_type": "markdown",
      "metadata": {
        "id": "ynwzGIAneBbb"
      },
      "source": [
        " ## isualise examples from the dataset\n",
        "Run the cell below multiple times to see various images. (They might look a bit blurry because we've blown up the small images.)"
      ]
    },
    {
      "cell_type": "code",
      "execution_count": null,
      "metadata": {
        "colab": {
          "base_uri": "https://localhost:8080/",
          "height": 590
        },
        "id": "8nMTxCOjd9WW",
        "outputId": "5c77d701-72f4-4ca5-9020-87cbd88bac0d"
      },
      "outputs": [
        {
          "output_type": "display_data",
          "data": {
            "text/plain": [
              "<Figure size 720x720 with 4 Axes>"
            ],
            "image/png": "[encoded data removed]"
          },
          "metadata": {
            "needs_background": "light"
          }
        }
      ],
      "source": [
        "plt.figure(figsize=(10, 10))\n",
        "for images, labels in train_data.take(1):\n",
        "    for i in range(4):\n",
        "      ax = plt.subplot(2, 2, i + 1)\n",
        "      plt.imshow(images[i].numpy().astype(\"float32\").squeeze() ,cmap='gray')\n",
        "      plt.title( class_names [int(labels[i])])\n",
        "      plt.axis(\"off\")"
      ]
    },
    {
      "cell_type": "markdown",
      "metadata": {
        "id": "wIZ4veuNXdoN"
      },
      "source": [
        "## Standarlize"
      ]
    },
    {
      "cell_type": "code",
      "execution_count": null,
      "metadata": {
        "id": "5O-EcQSHXcm6"
      },
      "outputs": [],
      "source": [
        "normalization_layer = layers.Rescaling(1./255)"
      ]
    },
    {
      "cell_type": "code",
      "execution_count": null,
      "metadata": {
        "colab": {
          "base_uri": "https://localhost:8080/"
        },
        "id": "sXy0vCrmXc16",
        "outputId": "fdbf0308-fa5e-4c92-cc1b-751edf52068a"
      },
      "outputs": [
        {
          "output_type": "stream",
          "name": "stdout",
          "text": [
            "0.0 1.0\n"
          ]
        }
      ],
      "source": [
        "normalized_ds = train_data.map(lambda x, y: (normalization_layer(x), y))\n",
        "image_batch, labels_batch = next(iter(normalized_ds))\n",
        "first_image = image_batch[0]\n",
        "# Notice the pixel values are now in `[0,1]`.\n",
        "print(np.min(first_image), np.max(first_image))"
      ]
    },
    {
      "cell_type": "markdown",
      "metadata": {
        "id": "ke7ogQ40LZhI"
      },
      "source": [
        "# Create a   CNN   Model"
      ]
    },
    {
      "cell_type": "code",
      "execution_count": null,
      "metadata": {
        "id": "q9zloewLws0b"
      },
      "outputs": [],
      "source": [
        "# Define the convolutinal part of the model architecture using Keras Layers.\n",
        "model = tf.keras.models.Sequential([#augmented_images ,                            \n",
        "    tf.keras.layers.Conv2D(filters=64, kernel_size=(3, 3), activation=tf.nn.relu, input_shape=(150, 150, 1), padding='same'),\n",
        "    tf.keras.layers.MaxPooling2D(pool_size=(2, 2)),\n",
        "    tf.keras.layers.Conv2D(filters= 96, kernel_size=(3, 3), activation=tf.nn.relu, padding='same'),\n",
        "    tf.keras.layers.MaxPooling2D(pool_size=(2, 2)),\n",
        "    tf.keras.layers.Conv2D(filters=128, kernel_size=(3, 3), activation=tf.nn.relu, padding='same'),\n",
        "    tf.keras.layers.Conv2D(filters= 196, kernel_size=(3, 3), activation=tf.nn.relu, padding='same'),\n",
        "    tf.keras.layers.MaxPooling2D( pool_size=(2, 2)),\n",
        "])\n"
      ]
    },
    {
      "cell_type": "markdown",
      "metadata": {
        "id": "VHoTJ0XTgWKN"
      },
      "source": [
        "How many parameters are there in the convolutional part of the architecture? We can easily inspect this using the model summary function in Keras:"
      ]
    },
    {
      "cell_type": "code",
      "execution_count": null,
      "metadata": {
        "colab": {
          "base_uri": "https://localhost:8080/"
        },
        "id": "R4Hr3Wgtw72b",
        "outputId": "26d8e5ef-7aff-4e6e-f1b6-2c85fb3a5a44"
      },
      "outputs": [
        {
          "output_type": "stream",
          "name": "stdout",
          "text": [
            "Model: \"sequential\"\n",
            "_________________________________________________________________\n",
            " Layer (type)                Output Shape              Param #   \n",
            "=================================================================\n",
            " conv2d (Conv2D)             (None, 150, 150, 64)      640       \n",
            "                                                                 \n",
            " max_pooling2d (MaxPooling2D  (None, 75, 75, 64)       0         \n",
            " )                                                               \n",
            "                                                                 \n",
            " conv2d_1 (Conv2D)           (None, 75, 75, 96)        55392     \n",
            "                                                                 \n",
            " max_pooling2d_1 (MaxPooling  (None, 37, 37, 96)       0         \n",
            " 2D)                                                             \n",
            "                                                                 \n",
            " conv2d_2 (Conv2D)           (None, 37, 37, 128)       110720    \n",
            "                                                                 \n",
            " conv2d_3 (Conv2D)           (None, 37, 37, 196)       225988    \n",
            "                                                                 \n",
            " max_pooling2d_2 (MaxPooling  (None, 18, 18, 196)      0         \n",
            " 2D)                                                             \n",
            "                                                                 \n",
            "=================================================================\n",
            "Total params: 392,740\n",
            "Trainable params: 392,740\n",
            "Non-trainable params: 0\n",
            "_________________________________________________________________\n"
          ]
        }
      ],
      "source": [
        "model.summary()"
      ]
    },
    {
      "cell_type": "markdown",
      "metadata": {
        "id": "sbJAaisIgZyX"
      },
      "source": [
        "Now we add a fully-connected part. Note that we also add \"Dropout\" after the first fully-connected layer. Dropout is a regularization technique which randomly zeros out (\"drops\") connections between neurons, and it was one of the key innovations of the AlexNet paper in 2012."
      ]
    },
    {
      "cell_type": "code",
      "execution_count": null,
      "metadata": {
        "id": "gaHgWaNb1C0W"
      },
      "outputs": [],
      "source": [
        "model.add(tf.keras.layers.Flatten())  # Flatten \"squeezes\" a 3-D volume down into a single vector.\n",
        "model.add(tf.keras.layers.Dense(1024, activation=tf.nn.relu))\n",
        "model.add(tf.keras.layers.Dropout(rate=0.5))\n",
        "model.add(tf.keras.layers.Dense(1024, activation=tf.nn.relu))\n",
        "model.add(tf.keras.layers.Dense(2, activation=tf.nn.softmax)) # change  If using binary  or all versus all \n",
        "\n",
        "\n"
      ]
    },
    {
      "cell_type": "code",
      "execution_count": null,
      "metadata": {
        "colab": {
          "base_uri": "https://localhost:8080/",
          "height": 103
        },
        "id": "CNxEyV2w3xN0",
        "outputId": "27437f20-e336-4c47-d7ec-6b7be7d99f6c"
      },
      "outputs": [
        {
          "output_type": "display_data",
          "data": {
            "text/plain": [
              "<Figure size 432x288 with 6 Axes>"
            ],
            "image/png": "[encoded data removed]"
          },
          "metadata": {}
        }
      ],
      "source": [
        "from matplotlib import pyplot\n",
        "\n",
        "filters, biases = model.layers[0].get_weights()\n",
        "# normalize filter values to 0-1 so we can visualize them\n",
        "f_min, f_max = filters.min(), filters.max()\n",
        "filters = (filters - f_min) / (f_max - f_min)\n",
        "# plot first few filters\n",
        "n_filters, ix = 6, 1\n",
        "for i in range(n_filters):\n",
        "\t# get the filter\n",
        "\tf = filters[:, :, :, i]\n",
        "\t# plot each channel separately\n",
        "\tfor j in range(1):\n",
        "\t\t# specify subplot and turn of axis\n",
        "\t\tax = pyplot.subplot(n_filters, 3, ix)\n",
        "\t\tax.set_xticks([])\n",
        "\t\tax.set_yticks([])\n",
        "\t\t# plot filter channel in grayscale\n",
        "\t\tpyplot.imshow(f[:, :, j], cmap='gray')\n",
        "\t\tix += 1\n",
        "# show the figure\n",
        "pyplot.show()\n",
        "  "
      ]
    },
    {
      "cell_type": "code",
      "execution_count": null,
      "metadata": {
        "colab": {
          "base_uri": "https://localhost:8080/"
        },
        "id": "WOK9_UWx1JkL",
        "outputId": "ffbf2816-cb75-4419-d7aa-53dbbee1a84d"
      },
      "outputs": [
        {
          "output_type": "stream",
          "name": "stdout",
          "text": [
            "Model: \"sequential\"\n",
            "_________________________________________________________________\n",
            " Layer (type)                Output Shape              Param #   \n",
            "=================================================================\n",
            " conv2d (Conv2D)             (None, 150, 150, 64)      640       \n",
            "                                                                 \n",
            " max_pooling2d (MaxPooling2D  (None, 75, 75, 64)       0         \n",
            " )                                                               \n",
            "                                                                 \n",
            " conv2d_1 (Conv2D)           (None, 75, 75, 96)        55392     \n",
            "                                                                 \n",
            " max_pooling2d_1 (MaxPooling  (None, 37, 37, 96)       0         \n",
            " 2D)                                                             \n",
            "                                                                 \n",
            " conv2d_2 (Conv2D)           (None, 37, 37, 128)       110720    \n",
            "                                                                 \n",
            " conv2d_3 (Conv2D)           (None, 37, 37, 196)       225988    \n",
            "                                                                 \n",
            " max_pooling2d_2 (MaxPooling  (None, 18, 18, 196)      0         \n",
            " 2D)                                                             \n",
            "                                                                 \n",
            " flatten (Flatten)           (None, 63504)             0         \n",
            "                                                                 \n",
            " dense (Dense)               (None, 1024)              65029120  \n",
            "                                                                 \n",
            " dropout (Dropout)           (None, 1024)              0         \n",
            "                                                                 \n",
            " dense_1 (Dense)             (None, 1024)              1049600   \n",
            "                                                                 \n",
            " dense_2 (Dense)             (None, 2)                 2050      \n",
            "                                                                 \n",
            "=================================================================\n",
            "Total params: 66,473,510\n",
            "Trainable params: 66,473,510\n",
            "Non-trainable params: 0\n",
            "_________________________________________________________________\n"
          ]
        }
      ],
      "source": [
        "model.summary()"
      ]
    },
    {
      "cell_type": "markdown",
      "metadata": {
        "id": "nNMAg7s3W0gg"
      },
      "source": [
        "###Visualizing the model"
      ]
    },
    {
      "cell_type": "markdown",
      "metadata": {
        "id": "wCL9cH8a3F1W"
      },
      "source": [
        "Let's build a flow-diagram of the model we've constructed to see how information flows between the different layers."
      ]
    },
    {
      "cell_type": "code",
      "execution_count": null,
      "metadata": {
        "colab": {
          "base_uri": "https://localhost:8080/",
          "height": 1000
        },
        "id": "dFXnOsd0W5pq",
        "outputId": "41ef9515-d62b-48d8-dae6-60307d215ad4"
      },
      "outputs": [
        {
          "output_type": "display_data",
          "data": {
            "text/plain": [
              "<IPython.core.display.Image object>"
            ],
            "image/png": "[encoded data removed]"
          },
          "metadata": {}
        }
      ],
      "source": [
        "tf.keras.utils.plot_model(model, to_file='small_lenet.png', show_shapes=True, show_layer_names=True)\n",
        "display.display(display.Image('small_lenet.png'))\n"
      ]
    },
    {
      "cell_type": "markdown",
      "metadata": {
        "id": "XFrH0OVORco2"
      },
      "source": [
        "### Training and Validating the model\n"
      ]
    },
    {
      "cell_type": "code",
      "execution_count": null,
      "metadata": {
        "colab": {
          "base_uri": "https://localhost:8080/"
        },
        "id": "wJ6JAqUL1TDu",
        "outputId": "97bfe354-5c47-44d7-91f7-bbe339f17640"
      },
      "outputs": [
        {
          "output_type": "stream",
          "name": "stdout",
          "text": [
            "Epoch 1/35\n",
            "45/45 [==============================] - 17s 112ms/step - loss: 0.4931 - accuracy: 0.8442 - val_loss: 0.2319 - val_accuracy: 0.9119\n",
            "Epoch 2/35\n",
            "45/45 [==============================] - 3s 74ms/step - loss: 0.1685 - accuracy: 0.9434 - val_loss: 0.1700 - val_accuracy: 0.9371\n",
            "Epoch 3/35\n",
            "45/45 [==============================] - 3s 74ms/step - loss: 0.0857 - accuracy: 0.9686 - val_loss: 0.1089 - val_accuracy: 0.9560\n",
            "Epoch 4/35\n",
            "45/45 [==============================] - 3s 75ms/step - loss: 0.0331 - accuracy: 0.9860 - val_loss: 0.1972 - val_accuracy: 0.9686\n",
            "Epoch 5/35\n",
            "45/45 [==============================] - 3s 70ms/step - loss: 0.0449 - accuracy: 0.9846 - val_loss: 0.0665 - val_accuracy: 0.9623\n",
            "Epoch 6/35\n",
            "45/45 [==============================] - 3s 71ms/step - loss: 0.0402 - accuracy: 0.9874 - val_loss: 0.1195 - val_accuracy: 0.9623\n",
            "Epoch 7/35\n",
            "45/45 [==============================] - 3s 71ms/step - loss: 0.0340 - accuracy: 0.9916 - val_loss: 0.1528 - val_accuracy: 0.9686\n",
            "Epoch 8/35\n",
            "45/45 [==============================] - 4s 75ms/step - loss: 0.0082 - accuracy: 0.9972 - val_loss: 0.0724 - val_accuracy: 0.9748\n",
            "Epoch 9/35\n",
            "45/45 [==============================] - 3s 71ms/step - loss: 0.0095 - accuracy: 0.9958 - val_loss: 0.1716 - val_accuracy: 0.9748\n",
            "Epoch 10/35\n",
            "45/45 [==============================] - 3s 71ms/step - loss: 0.0334 - accuracy: 0.9895 - val_loss: 0.2119 - val_accuracy: 0.9623\n",
            "Epoch 11/35\n",
            "45/45 [==============================] - 3s 72ms/step - loss: 0.0295 - accuracy: 0.9895 - val_loss: 0.2147 - val_accuracy: 0.9560\n",
            "Epoch 12/35\n",
            "45/45 [==============================] - 3s 72ms/step - loss: 0.0605 - accuracy: 0.9888 - val_loss: 0.1419 - val_accuracy: 0.9748\n",
            "Epoch 13/35\n",
            "45/45 [==============================] - 3s 71ms/step - loss: 0.0373 - accuracy: 0.9909 - val_loss: 0.1543 - val_accuracy: 0.9686\n",
            "Epoch 14/35\n",
            "45/45 [==============================] - 3s 71ms/step - loss: 0.0272 - accuracy: 0.9895 - val_loss: 0.2420 - val_accuracy: 0.9623\n",
            "Epoch 15/35\n",
            "45/45 [==============================] - 3s 75ms/step - loss: 0.0024 - accuracy: 0.9993 - val_loss: 0.2153 - val_accuracy: 0.9811\n",
            "Epoch 16/35\n",
            "45/45 [==============================] - 4s 76ms/step - loss: 7.2703e-04 - accuracy: 1.0000 - val_loss: 0.2641 - val_accuracy: 0.9811\n",
            "Epoch 17/35\n",
            "45/45 [==============================] - 3s 72ms/step - loss: 0.0017 - accuracy: 0.9993 - val_loss: 0.2691 - val_accuracy: 0.9748\n",
            "Epoch 18/35\n",
            "45/45 [==============================] - 3s 75ms/step - loss: 6.6708e-04 - accuracy: 1.0000 - val_loss: 0.2401 - val_accuracy: 0.9748\n",
            "Epoch 19/35\n",
            "45/45 [==============================] - 4s 76ms/step - loss: 1.0933e-04 - accuracy: 1.0000 - val_loss: 0.2420 - val_accuracy: 0.9811\n",
            "Epoch 20/35\n",
            "45/45 [==============================] - 3s 71ms/step - loss: 2.1790e-04 - accuracy: 1.0000 - val_loss: 0.2642 - val_accuracy: 0.9811\n",
            "Epoch 21/35\n",
            "45/45 [==============================] - 3s 74ms/step - loss: 3.8910e-05 - accuracy: 1.0000 - val_loss: 0.2706 - val_accuracy: 0.9811\n",
            "Epoch 22/35\n",
            "45/45 [==============================] - 4s 79ms/step - loss: 2.9934e-05 - accuracy: 1.0000 - val_loss: 0.2753 - val_accuracy: 0.9811\n",
            "Epoch 23/35\n",
            "45/45 [==============================] - 4s 78ms/step - loss: 2.5930e-05 - accuracy: 1.0000 - val_loss: 0.2769 - val_accuracy: 0.9811\n",
            "Epoch 24/35\n",
            "45/45 [==============================] - 3s 71ms/step - loss: 3.2672e-05 - accuracy: 1.0000 - val_loss: 0.2773 - val_accuracy: 0.9811\n",
            "Epoch 25/35\n",
            "45/45 [==============================] - 4s 75ms/step - loss: 2.0519e-05 - accuracy: 1.0000 - val_loss: 0.2792 - val_accuracy: 0.9811\n",
            "Epoch 26/35\n",
            "45/45 [==============================] - 3s 74ms/step - loss: 1.9586e-05 - accuracy: 1.0000 - val_loss: 0.2822 - val_accuracy: 0.9811\n",
            "Epoch 27/35\n",
            "45/45 [==============================] - 4s 75ms/step - loss: 1.1085e-05 - accuracy: 1.0000 - val_loss: 0.2856 - val_accuracy: 0.9811\n",
            "Epoch 28/35\n",
            "45/45 [==============================] - 3s 75ms/step - loss: 8.2869e-06 - accuracy: 1.0000 - val_loss: 0.2881 - val_accuracy: 0.9811\n",
            "Epoch 29/35\n",
            "45/45 [==============================] - 3s 70ms/step - loss: 1.2881e-05 - accuracy: 1.0000 - val_loss: 0.2912 - val_accuracy: 0.9811\n",
            "Epoch 30/35\n",
            "45/45 [==============================] - 3s 75ms/step - loss: 5.6777e-06 - accuracy: 1.0000 - val_loss: 0.2931 - val_accuracy: 0.9811\n",
            "Epoch 31/35\n",
            "45/45 [==============================] - 4s 75ms/step - loss: 2.6790e-06 - accuracy: 1.0000 - val_loss: 0.2942 - val_accuracy: 0.9811\n",
            "Epoch 32/35\n",
            "45/45 [==============================] - 3s 71ms/step - loss: 3.5891e-06 - accuracy: 1.0000 - val_loss: 0.2947 - val_accuracy: 0.9811\n",
            "Epoch 33/35\n",
            "45/45 [==============================] - 3s 72ms/step - loss: 6.3218e-06 - accuracy: 1.0000 - val_loss: 0.2945 - val_accuracy: 0.9811\n",
            "Epoch 34/35\n",
            "45/45 [==============================] - 3s 72ms/step - loss: 3.9397e-06 - accuracy: 1.0000 - val_loss: 0.2949 - val_accuracy: 0.9811\n",
            "Epoch 35/35\n",
            "45/45 [==============================] - 3s 72ms/step - loss: 4.8669e-06 - accuracy: 1.0000 - val_loss: 0.2962 - val_accuracy: 0.9811\n"
          ]
        }
      ],
      "source": [
        "batch_size = 32\n",
        "num_epochs = 10  # The number of epochs (full passes through the data) to train for\n",
        "from tensorflow.keras.callbacks import EarlyStopping #  to stop training if the model is overfiting \n",
        "callbacks = EarlyStopping(monitor='loss',patience=20, restore_best_weights=True) \n",
        "\n",
        "# Compiling the model adds a loss function, optimiser and metrics to track during training\n",
        "model.compile(optimizer=tf.keras.optimizers.Adam(),\n",
        "              loss=tf.keras.losses.sparse_categorical_crossentropy,\n",
        "              metrics=['accuracy'])\n",
        "\n",
        "# The fit function allows you to fit the compiled model to some training data\n",
        "history = model.fit(x=train_data, \n",
        "          batch_size=batch_size, \n",
        "          epochs=num_epochs, callbacks=callbacks,\n",
        "          validation_data=validation_data)  # training the model \n",
        "\n"
      ]
    },
    {
      "cell_type": "code",
      "execution_count": null,
      "metadata": {
        "id": "unFWF-9_48wT",
        "colab": {
          "base_uri": "https://localhost:8080/"
        },
        "outputId": "779e927b-bf22-4e5d-ca97-8fc30f530dab"
      },
      "outputs": [
        {
          "output_type": "stream",
          "name": "stdout",
          "text": [
            "45/45 [==============================] - 1s 24ms/step - loss: 7.8460e-07 - accuracy: 1.0000\n",
            "Train loss: 7.846049356885487e-07 Train Acc: 1.0\n",
            "train_acc : 100.00%\n"
          ]
        }
      ],
      "source": [
        "# Getting train accuracy and loss\n",
        "train_loss, train_acc = model.evaluate(train_data)\n",
        "print('Train loss: {} Train Acc: {}'.format(train_loss, train_acc))\n",
        "print(\"train_acc : {:5.2f}%\".format(100*train_acc)) "
      ]
    },
    {
      "cell_type": "code",
      "execution_count": null,
      "metadata": {
        "id": "Cfau2u6K485O",
        "colab": {
          "base_uri": "https://localhost:8080/"
        },
        "outputId": "a980e603-3e14-4236-fe53-17ceb6b6b643"
      },
      "outputs": [
        {
          "output_type": "stream",
          "name": "stdout",
          "text": [
            "5/5 [==============================] - 0s 24ms/step - loss: 0.2962 - accuracy: 0.9811\n",
            "Test loss: 0.2962452471256256 Test Acc: 0.9811320900917053\n",
            "val_acc : 98.11%\n"
          ]
        }
      ],
      "source": [
        "# Getting Validation  accuracy and loss\n",
        "val_loss, val_acc = model.evaluate(validation_data)\n",
        "print('Test loss: {} Test Acc: {}'.format(val_loss, val_acc))\n",
        "print(\"val_acc : {:5.2f}%\".format(100*val_acc)) "
      ]
    },
    {
      "cell_type": "code",
      "execution_count": null,
      "metadata": {
        "id": "p-wrZu36MOX5",
        "colab": {
          "base_uri": "https://localhost:8080/"
        },
        "outputId": "b5c399c9-ea5b-4d21-e3a3-cdc85c334623"
      },
      "outputs": [
        {
          "output_type": "stream",
          "name": "stdout",
          "text": [
            "4/4 [==============================] - 0s 78ms/step - loss: 0.9480 - accuracy: 0.9400\n",
            "Test loss: 0.9479954242706299 Test Acc: 0.9399999976158142\n",
            " test_acc : 94.00%\n"
          ]
        }
      ],
      "source": [
        "# Getting test  accuracy and loss\n",
        "test_loss, test_acc = model.evaluate(test_data)\n",
        "print('Test loss: {} Test Acc: {}'.format(test_loss, test_acc))\n",
        "print(\" test_acc : {:5.2f}%\".format(100*test_acc))"
      ]
    },
    {
      "cell_type": "code",
      "source": [
        "from sklearn.model_selection import cross_val_score, cross_val_predict"
      ],
      "metadata": {
        "id": "8RydLVZaRX63"
      },
      "execution_count": null,
      "outputs": []
    },
    {
      "cell_type": "code",
      "source": [
        "accuracies = cross_val_score(model, train_data, validation_data, cv = 5, scoring= \"accuracy\")"
      ],
      "metadata": {
        "colab": {
          "base_uri": "https://localhost:8080/",
          "height": 346
        },
        "id": "biPXWqhHRpMM",
        "outputId": "eff0685f-a409-40f4-c566-9c4ecf42ee61"
      },
      "execution_count": null,
      "outputs": [
        {
          "output_type": "error",
          "ename": "TypeError",
          "evalue": "ignored",
          "traceback": [
            "\u001b[0;31m---------------------------------------------------------------------------\u001b[0m",
            "\u001b[0;31mTypeError\u001b[0m                                 Traceback (most recent call last)",
            "\u001b[0;32m<ipython-input-55-2aaee9976753>\u001b[0m in \u001b[0;36m<module>\u001b[0;34m()\u001b[0m\n\u001b[0;32m----> 1\u001b[0;31m \u001b[0maccuracies\u001b[0m \u001b[0;34m=\u001b[0m \u001b[0mcross_val_score\u001b[0m\u001b[0;34m(\u001b[0m\u001b[0mmodel\u001b[0m\u001b[0;34m,\u001b[0m \u001b[0mtrain_data\u001b[0m\u001b[0;34m,\u001b[0m \u001b[0mvalidation_data\u001b[0m\u001b[0;34m,\u001b[0m \u001b[0mcv\u001b[0m \u001b[0;34m=\u001b[0m \u001b[0;36m5\u001b[0m\u001b[0;34m,\u001b[0m \u001b[0mscoring\u001b[0m\u001b[0;34m=\u001b[0m \u001b[0;34m\"accuracy\"\u001b[0m\u001b[0;34m)\u001b[0m\u001b[0;34m\u001b[0m\u001b[0;34m\u001b[0m\u001b[0m\n\u001b[0m",
            "\u001b[0;32m/usr/local/lib/python3.7/dist-packages/sklearn/model_selection/_validation.py\u001b[0m in \u001b[0;36mcross_val_score\u001b[0;34m(estimator, X, y, groups, scoring, cv, n_jobs, verbose, fit_params, pre_dispatch, error_score)\u001b[0m\n\u001b[1;32m    518\u001b[0m         \u001b[0mfit_params\u001b[0m\u001b[0;34m=\u001b[0m\u001b[0mfit_params\u001b[0m\u001b[0;34m,\u001b[0m\u001b[0;34m\u001b[0m\u001b[0;34m\u001b[0m\u001b[0m\n\u001b[1;32m    519\u001b[0m         \u001b[0mpre_dispatch\u001b[0m\u001b[0;34m=\u001b[0m\u001b[0mpre_dispatch\u001b[0m\u001b[0;34m,\u001b[0m\u001b[0;34m\u001b[0m\u001b[0;34m\u001b[0m\u001b[0m\n\u001b[0;32m--> 520\u001b[0;31m         \u001b[0merror_score\u001b[0m\u001b[0;34m=\u001b[0m\u001b[0merror_score\u001b[0m\u001b[0;34m,\u001b[0m\u001b[0;34m\u001b[0m\u001b[0;34m\u001b[0m\u001b[0m\n\u001b[0m\u001b[1;32m    521\u001b[0m     )\n\u001b[1;32m    522\u001b[0m     \u001b[0;32mreturn\u001b[0m \u001b[0mcv_results\u001b[0m\u001b[0;34m[\u001b[0m\u001b[0;34m\"test_score\"\u001b[0m\u001b[0;34m]\u001b[0m\u001b[0;34m\u001b[0m\u001b[0;34m\u001b[0m\u001b[0m\n",
            "\u001b[0;32m/usr/local/lib/python3.7/dist-packages/sklearn/model_selection/_validation.py\u001b[0m in \u001b[0;36mcross_validate\u001b[0;34m(estimator, X, y, groups, scoring, cv, n_jobs, verbose, fit_params, pre_dispatch, return_train_score, return_estimator, error_score)\u001b[0m\n\u001b[1;32m    251\u001b[0m \u001b[0;34m\u001b[0m\u001b[0m\n\u001b[1;32m    252\u001b[0m     \"\"\"\n\u001b[0;32m--> 253\u001b[0;31m     \u001b[0mX\u001b[0m\u001b[0;34m,\u001b[0m \u001b[0my\u001b[0m\u001b[0;34m,\u001b[0m \u001b[0mgroups\u001b[0m \u001b[0;34m=\u001b[0m \u001b[0mindexable\u001b[0m\u001b[0;34m(\u001b[0m\u001b[0mX\u001b[0m\u001b[0;34m,\u001b[0m \u001b[0my\u001b[0m\u001b[0;34m,\u001b[0m \u001b[0mgroups\u001b[0m\u001b[0;34m)\u001b[0m\u001b[0;34m\u001b[0m\u001b[0;34m\u001b[0m\u001b[0m\n\u001b[0m\u001b[1;32m    254\u001b[0m \u001b[0;34m\u001b[0m\u001b[0m\n\u001b[1;32m    255\u001b[0m     \u001b[0mcv\u001b[0m \u001b[0;34m=\u001b[0m \u001b[0mcheck_cv\u001b[0m\u001b[0;34m(\u001b[0m\u001b[0mcv\u001b[0m\u001b[0;34m,\u001b[0m \u001b[0my\u001b[0m\u001b[0;34m,\u001b[0m \u001b[0mclassifier\u001b[0m\u001b[0;34m=\u001b[0m\u001b[0mis_classifier\u001b[0m\u001b[0;34m(\u001b[0m\u001b[0mestimator\u001b[0m\u001b[0;34m)\u001b[0m\u001b[0;34m)\u001b[0m\u001b[0;34m\u001b[0m\u001b[0;34m\u001b[0m\u001b[0m\n",
            "\u001b[0;32m/usr/local/lib/python3.7/dist-packages/sklearn/utils/validation.py\u001b[0m in \u001b[0;36mindexable\u001b[0;34m(*iterables)\u001b[0m\n\u001b[1;32m    376\u001b[0m \u001b[0;34m\u001b[0m\u001b[0m\n\u001b[1;32m    377\u001b[0m     \u001b[0mresult\u001b[0m \u001b[0;34m=\u001b[0m \u001b[0;34m[\u001b[0m\u001b[0m_make_indexable\u001b[0m\u001b[0;34m(\u001b[0m\u001b[0mX\u001b[0m\u001b[0;34m)\u001b[0m \u001b[0;32mfor\u001b[0m \u001b[0mX\u001b[0m \u001b[0;32min\u001b[0m \u001b[0miterables\u001b[0m\u001b[0;34m]\u001b[0m\u001b[0;34m\u001b[0m\u001b[0;34m\u001b[0m\u001b[0m\n\u001b[0;32m--> 378\u001b[0;31m     \u001b[0mcheck_consistent_length\u001b[0m\u001b[0;34m(\u001b[0m\u001b[0;34m*\u001b[0m\u001b[0mresult\u001b[0m\u001b[0;34m)\u001b[0m\u001b[0;34m\u001b[0m\u001b[0;34m\u001b[0m\u001b[0m\n\u001b[0m\u001b[1;32m    379\u001b[0m     \u001b[0;32mreturn\u001b[0m \u001b[0mresult\u001b[0m\u001b[0;34m\u001b[0m\u001b[0;34m\u001b[0m\u001b[0m\n\u001b[1;32m    380\u001b[0m \u001b[0;34m\u001b[0m\u001b[0m\n",
            "\u001b[0;32m/usr/local/lib/python3.7/dist-packages/sklearn/utils/validation.py\u001b[0m in \u001b[0;36mcheck_consistent_length\u001b[0;34m(*arrays)\u001b[0m\n\u001b[1;32m    327\u001b[0m     \"\"\"\n\u001b[1;32m    328\u001b[0m \u001b[0;34m\u001b[0m\u001b[0m\n\u001b[0;32m--> 329\u001b[0;31m     \u001b[0mlengths\u001b[0m \u001b[0;34m=\u001b[0m \u001b[0;34m[\u001b[0m\u001b[0m_num_samples\u001b[0m\u001b[0;34m(\u001b[0m\u001b[0mX\u001b[0m\u001b[0;34m)\u001b[0m \u001b[0;32mfor\u001b[0m \u001b[0mX\u001b[0m \u001b[0;32min\u001b[0m \u001b[0marrays\u001b[0m \u001b[0;32mif\u001b[0m \u001b[0mX\u001b[0m \u001b[0;32mis\u001b[0m \u001b[0;32mnot\u001b[0m \u001b[0;32mNone\u001b[0m\u001b[0;34m]\u001b[0m\u001b[0;34m\u001b[0m\u001b[0;34m\u001b[0m\u001b[0m\n\u001b[0m\u001b[1;32m    330\u001b[0m     \u001b[0muniques\u001b[0m \u001b[0;34m=\u001b[0m \u001b[0mnp\u001b[0m\u001b[0;34m.\u001b[0m\u001b[0munique\u001b[0m\u001b[0;34m(\u001b[0m\u001b[0mlengths\u001b[0m\u001b[0;34m)\u001b[0m\u001b[0;34m\u001b[0m\u001b[0;34m\u001b[0m\u001b[0m\n\u001b[1;32m    331\u001b[0m     \u001b[0;32mif\u001b[0m \u001b[0mlen\u001b[0m\u001b[0;34m(\u001b[0m\u001b[0muniques\u001b[0m\u001b[0;34m)\u001b[0m \u001b[0;34m>\u001b[0m \u001b[0;36m1\u001b[0m\u001b[0;34m:\u001b[0m\u001b[0;34m\u001b[0m\u001b[0;34m\u001b[0m\u001b[0m\n",
            "\u001b[0;32m/usr/local/lib/python3.7/dist-packages/sklearn/utils/validation.py\u001b[0m in \u001b[0;36m<listcomp>\u001b[0;34m(.0)\u001b[0m\n\u001b[1;32m    327\u001b[0m     \"\"\"\n\u001b[1;32m    328\u001b[0m \u001b[0;34m\u001b[0m\u001b[0m\n\u001b[0;32m--> 329\u001b[0;31m     \u001b[0mlengths\u001b[0m \u001b[0;34m=\u001b[0m \u001b[0;34m[\u001b[0m\u001b[0m_num_samples\u001b[0m\u001b[0;34m(\u001b[0m\u001b[0mX\u001b[0m\u001b[0;34m)\u001b[0m \u001b[0;32mfor\u001b[0m \u001b[0mX\u001b[0m \u001b[0;32min\u001b[0m \u001b[0marrays\u001b[0m \u001b[0;32mif\u001b[0m \u001b[0mX\u001b[0m \u001b[0;32mis\u001b[0m \u001b[0;32mnot\u001b[0m \u001b[0;32mNone\u001b[0m\u001b[0;34m]\u001b[0m\u001b[0;34m\u001b[0m\u001b[0;34m\u001b[0m\u001b[0m\n\u001b[0m\u001b[1;32m    330\u001b[0m     \u001b[0muniques\u001b[0m \u001b[0;34m=\u001b[0m \u001b[0mnp\u001b[0m\u001b[0;34m.\u001b[0m\u001b[0munique\u001b[0m\u001b[0;34m(\u001b[0m\u001b[0mlengths\u001b[0m\u001b[0;34m)\u001b[0m\u001b[0;34m\u001b[0m\u001b[0;34m\u001b[0m\u001b[0m\n\u001b[1;32m    331\u001b[0m     \u001b[0;32mif\u001b[0m \u001b[0mlen\u001b[0m\u001b[0;34m(\u001b[0m\u001b[0muniques\u001b[0m\u001b[0;34m)\u001b[0m \u001b[0;34m>\u001b[0m \u001b[0;36m1\u001b[0m\u001b[0;34m:\u001b[0m\u001b[0;34m\u001b[0m\u001b[0;34m\u001b[0m\u001b[0m\n",
            "\u001b[0;32m/usr/local/lib/python3.7/dist-packages/sklearn/utils/validation.py\u001b[0m in \u001b[0;36m_num_samples\u001b[0;34m(x)\u001b[0m\n\u001b[1;32m    268\u001b[0m         \u001b[0;32mif\u001b[0m \u001b[0mlen\u001b[0m\u001b[0;34m(\u001b[0m\u001b[0mx\u001b[0m\u001b[0;34m.\u001b[0m\u001b[0mshape\u001b[0m\u001b[0;34m)\u001b[0m \u001b[0;34m==\u001b[0m \u001b[0;36m0\u001b[0m\u001b[0;34m:\u001b[0m\u001b[0;34m\u001b[0m\u001b[0;34m\u001b[0m\u001b[0m\n\u001b[1;32m    269\u001b[0m             raise TypeError(\n\u001b[0;32m--> 270\u001b[0;31m                 \u001b[0;34m\"Singleton array %r cannot be considered a valid collection.\"\u001b[0m \u001b[0;34m%\u001b[0m \u001b[0mx\u001b[0m\u001b[0;34m\u001b[0m\u001b[0;34m\u001b[0m\u001b[0m\n\u001b[0m\u001b[1;32m    271\u001b[0m             )\n\u001b[1;32m    272\u001b[0m         \u001b[0;31m# Check that shape is returning an integer or default to len\u001b[0m\u001b[0;34m\u001b[0m\u001b[0;34m\u001b[0m\u001b[0;34m\u001b[0m\u001b[0m\n",
            "\u001b[0;31mTypeError\u001b[0m: Singleton array array(<PrefetchDataset element_spec=(TensorSpec(shape=(None, 150, 150, 3), dtype=tf.float32, name=None), TensorSpec(shape=(None,), dtype=tf.int32, name=None))>,\n      dtype=object) cannot be considered a valid collection."
          ]
        }
      ]
    },
    {
      "cell_type": "code",
      "source": [
        ""
      ],
      "metadata": {
        "id": "TNH1YksFRYEM"
      },
      "execution_count": null,
      "outputs": []
    },
    {
      "cell_type": "code",
      "source": [
        ""
      ],
      "metadata": {
        "id": "FngqnuRPRYKW"
      },
      "execution_count": null,
      "outputs": []
    },
    {
      "cell_type": "markdown",
      "metadata": {
        "id": "jjzGMDMmLJzx"
      },
      "source": [
        "## VIsulazation of the loss Curves"
      ]
    },
    {
      "cell_type": "code",
      "execution_count": null,
      "metadata": {
        "id": "u6RZw3yL5jn0",
        "colab": {
          "base_uri": "https://localhost:8080/",
          "height": 394
        },
        "outputId": "bf1000d0-47f7-4bbf-aa7f-a2122a4f7a4b"
      },
      "outputs": [
        {
          "output_type": "display_data",
          "data": {
            "text/plain": [
              "<Figure size 2160x720 with 2 Axes>"
            ],
            "image/png": "[encoded data removed]"
          },
          "metadata": {
            "needs_background": "light"
          }
        }
      ],
      "source": [
        "acc = history.history['accuracy']\n",
        "val_acc = history.history['val_accuracy']\n",
        "\n",
        "loss = history.history['loss']\n",
        "val_loss = history.history['val_loss']\n",
        "\n",
        "epochs_range = range(35)\n",
        "\n",
        "plt.figure(figsize=(30, 10))\n",
        "plt.subplot(1, 2, 1)\n",
        "plt.plot(epochs_range, acc, label='Training Accuracy')\n",
        "plt.plot(epochs_range, val_acc, label='Validation Accuracy')\n",
        "plt.legend(loc='lower right')\n",
        "plt.title('Training and Validation Accuracy')\n",
        "\n",
        "plt.subplot(1, 2, 2)\n",
        "plt.plot(epochs_range, loss, label='Training Loss')\n",
        "plt.plot(epochs_range, val_loss, label='Validation Loss')\n",
        "plt.legend(loc='upper right')\n",
        "plt.title('Training and Validation Loss')\n",
        "plt.show()"
      ]
    },
    {
      "cell_type": "markdown",
      "metadata": {
        "id": "O0dL2SCFLOWB"
      },
      "source": [
        "## PREDICTION ON THE TEST DATA"
      ]
    },
    {
      "cell_type": "code",
      "execution_count": null,
      "metadata": {
        "id": "0K4TEEPYLBrd",
        "colab": {
          "base_uri": "https://localhost:8080/"
        },
        "outputId": "3b76a10f-f876-4152-b760-8bcae8b1827d"
      },
      "outputs": [
        {
          "output_type": "stream",
          "name": "stdout",
          "text": [
            "[1.00000000e+00 1.01187135e-10 9.99980688e-01 1.93424803e-05\n",
            " 3.49028968e-15 1.00000000e+00 1.07615392e-06 9.99998927e-01\n",
            " 1.00000000e+00 3.51681439e-14 5.74382986e-09 1.00000000e+00\n",
            " 1.00000000e+00 7.42094035e-17 2.92153522e-15 1.00000000e+00\n",
            " 1.00000000e+00 3.75976449e-37 1.05947516e-15 1.00000000e+00\n",
            " 1.00000000e+00 6.38187420e-12 2.13624837e-04 9.99786437e-01\n",
            " 1.00000000e+00 0.00000000e+00 9.99976993e-01 2.30021215e-05\n",
            " 1.00000000e+00 2.52585141e-38 1.10369444e-06 9.99998927e-01\n",
            " 1.86435223e-04 9.99813616e-01 2.45993791e-13 1.00000000e+00\n",
            " 1.00000000e+00 1.00708808e-11 9.99998808e-01 1.16959859e-06\n",
            " 1.00000000e+00 0.00000000e+00 1.00000000e+00 9.73600991e-11\n",
            " 1.64582774e-11 1.00000000e+00 9.96959329e-01 3.04068415e-03\n",
            " 1.00000000e+00 0.00000000e+00 2.53003149e-04 9.99746978e-01\n",
            " 1.58397956e-14 1.00000000e+00 7.47873637e-19 1.00000000e+00\n",
            " 1.08463391e-05 9.99989152e-01 1.39622515e-12 1.00000000e+00\n",
            " 1.00000000e+00 0.00000000e+00 1.00000000e+00 9.61522812e-29]\n"
          ]
        }
      ],
      "source": [
        "image_batch, label_batch = test_data.as_numpy_iterator().next()\n",
        "predictions_test = model.predict_on_batch(image_batch).flatten()\n",
        "print(predictions_test)"
      ]
    },
    {
      "cell_type": "code",
      "execution_count": null,
      "metadata": {
        "id": "vQ1BqVf-LB0v",
        "colab": {
          "base_uri": "https://localhost:8080/"
        },
        "outputId": "4e0509ba-244b-4310-a755-bdc49eabacbb"
      },
      "outputs": [
        {
          "output_type": "stream",
          "name": "stdout",
          "text": [
            "Predictions:\n",
            " [1 1 1 1 1 1 1 1 1 1 1 1 1 1 1 1 1 1 1 1 1 1 1 1 1 1 1 1 1 1 1 1 1 1 1 1 1\n",
            " 1 1 1 1 1 1 1 1 1 1 1 1 1 1 1 1 1 1 1 1 1 1 1 1 1 1 1]\n",
            "Labels:\n",
            " [0 0 1 1 0 1 0 1 0 1 0 1 0 0 0 1 1 1 0 0 0 0 1 0 0 0 1 1 1 1 0 0]\n"
          ]
        }
      ],
      "source": [
        "# Apply a sigmoid since our model returns logits\n",
        "predictions_test = tf.nn.sigmoid(predictions_test)\n",
        "predictions_test = tf.where(predictions_test < 0.5, 0, 1)\n",
        "print('Predictions:\\n', predictions_test.numpy())\n",
        "print('Labels:\\n', label_batch) "
      ]
    },
    {
      "cell_type": "code",
      "execution_count": null,
      "metadata": {
        "id": "m1U-i0L_LbIy"
      },
      "outputs": [],
      "source": [
        "probability_model = tf.keras.Sequential([model, \n",
        "tf.keras.layers.Softmax()]) \n",
        "predictions_test = probability_model.predict(test_data)\n",
        "# get the labels \n",
        "predictions_test = np.array([])\n",
        "labels_test = np.array([])\n",
        "\n",
        "for x, y in test_data:\n",
        "  predictions_test = np.concatenate([predictions_test, np.argmax(model.predict(x), axis=-1)])\n",
        "  labels_test = np.concatenate([labels_test, y.numpy()]) "
      ]
    },
    {
      "cell_type": "markdown",
      "metadata": {
        "id": "gE1nnZ-lLve2"
      },
      "source": [
        "##  CONFUSION MATRIX"
      ]
    },
    {
      "cell_type": "code",
      "execution_count": null,
      "metadata": {
        "id": "hleVLkNSLrB1"
      },
      "outputs": [],
      "source": [
        "import seaborn as sns\n"
      ]
    },
    {
      "cell_type": "code",
      "execution_count": null,
      "metadata": {
        "id": "OVDP_h4jLa8q",
        "colab": {
          "base_uri": "https://localhost:8080/",
          "height": 501
        },
        "outputId": "d80b5c1f-1951-476a-9a6f-32c2988e3e5c"
      },
      "outputs": [
        {
          "output_type": "display_data",
          "data": {
            "text/plain": [
              "<Figure size 576x576 with 1 Axes>"
            ],
            "image/png": "[encoded data removed]"
          },
          "metadata": {
            "needs_background": "light"
          }
        }
      ],
      "source": [
        "cm = confusion_matrix(labels_test, predictions_test)\n",
        "fig = plt.figure(figsize = (8,8))\n",
        "ax1 = fig.add_subplot(1,1,1)\n",
        "sns.set(font_scale=1) #for label size\n",
        "sns.heatmap(cm, annot=True, annot_kws={\"size\": 12},\n",
        "cbar = False, cmap='Purples');\n",
        "ax1.set_ylabel('True Values',fontsize=14)\n",
        "ax1.set_xlabel('Predicted Values',fontsize=14)\n",
        "plt.show() "
      ]
    },
    {
      "cell_type": "code",
      "execution_count": null,
      "metadata": {
        "id": "cT6cZYWqUo8o",
        "colab": {
          "base_uri": "https://localhost:8080/"
        },
        "outputId": "a35c3bf6-de9d-4725-ac2f-d498fcbd4fc6"
      },
      "outputs": [
        {
          "output_type": "execute_result",
          "data": {
            "text/plain": [
              "['Bent_Tail', 'First _FRII']"
            ]
          },
          "metadata": {},
          "execution_count": 34
        }
      ],
      "source": [
        "class_names  # 0 represent the first  class in the last , 1 second  class and 2 the last class repestively   "
      ]
    },
    {
      "cell_type": "markdown",
      "source": [
        "   ##  Defining VGG19 Model "
      ],
      "metadata": {
        "id": "tPreYPnrPdve"
      }
    },
    {
      "cell_type": "markdown",
      "source": [
        "  # splitingg the  data"
      ],
      "metadata": {
        "id": "ojTn2MmXQYtF"
      }
    },
    {
      "cell_type": "code",
      "source": [
        "image_size = (150, 150)\n",
        "batch_size = 32\n",
        "\n",
        "# The tf.keras.preparation keras dataset preprocessing functions help us to access our raw data on disk to a tf.data. \n",
        "#An object that can be utilized to train a model is a dataset.\n",
        "# Therefore we use  a built in function   in Keras to  split our data  into  training and validation \n",
        "train_data= tf.keras.preprocessing.image_dataset_from_directory(\"31\",\n",
        "    shuffle=True,\n",
        "    validation_split=0.1,\n",
        "    subset=\"training\",\n",
        "    seed=1337, \n",
        "    image_size=image_size, \n",
        "    batch_size=batch_size\n",
        "    #label_mode = 'categorical'                             \n",
        "                                                                \n",
        "                                                                \n",
        ")\n",
        " #  png is the bname of the folder where the  our data is store\n",
        "    # spliting  the data into into  training  \n",
        "    #thus we train 80% of our data  and  the remainimg  20% is for  validate\n",
        "\n",
        "validation_data = tf.keras.preprocessing.image_dataset_from_directory(\"31\",\n",
        "    shuffle=True,\n",
        "    validation_split=0.1,\n",
        "    subset=\"validation\",\n",
        "    seed=1337,\n",
        "    image_size=image_size,\n",
        "    batch_size=batch_size\n",
        "    #label_mode = 'categorical'\n",
        ")\n",
        "\n",
        "test_data = tf.keras.preprocessing.image_dataset_from_directory(\"3\",\n",
        "    seed=1337,\n",
        "    image_size=image_size,\n",
        "    batch_size=batch_size\n",
        "    #label_mode = 'categorical'\n",
        ")"
      ],
      "metadata": {
        "colab": {
          "base_uri": "https://localhost:8080/"
        },
        "id": "hV3UcOiEP6jl",
        "outputId": "8f2b29d3-7625-4d5b-8690-abb2628001c1"
      },
      "execution_count": null,
      "outputs": [
        {
          "output_type": "stream",
          "name": "stdout",
          "text": [
            "Found 1590 files belonging to 2 classes.\n",
            "Using 1431 files for training.\n",
            "Found 1590 files belonging to 2 classes.\n",
            "Using 159 files for validation.\n",
            "Found 100 files belonging to 2 classes.\n"
          ]
        }
      ]
    },
    {
      "cell_type": "markdown",
      "source": [
        "# standardizing the data"
      ],
      "metadata": {
        "id": "u_2cMF6NQoHc"
      }
    },
    {
      "cell_type": "code",
      "source": [
        "normalization_layer = layers.experimental.preprocessing.Rescaling(1./255)"
      ],
      "metadata": {
        "id": "huMofftOQhAl"
      },
      "execution_count": null,
      "outputs": []
    },
    {
      "cell_type": "code",
      "source": [
        "normalized_ds = train_data.map(lambda x, y: (normalization_layer(x), y))\n",
        "image_batch, labels_batch = next(iter(normalized_ds))\n",
        "first_image = image_batch[0]\n",
        "# Notice the pixels values are now in `[0,1]`.\n",
        "print(np.min(first_image), np.max(first_image))"
      ],
      "metadata": {
        "colab": {
          "base_uri": "https://localhost:8080/"
        },
        "id": "svjiC0e-QhPl",
        "outputId": "0409828b-cc25-4fcf-8e17-3195aa1dbe16"
      },
      "execution_count": null,
      "outputs": [
        {
          "output_type": "stream",
          "name": "stdout",
          "text": [
            "0.0 1.0\n"
          ]
        }
      ]
    },
    {
      "cell_type": "markdown",
      "source": [
        "# configure dataset for performance"
      ],
      "metadata": {
        "id": "MkqkupntQnX9"
      }
    },
    {
      "cell_type": "code",
      "source": [
        "AUTOTUNE = tf.data.AUTOTUNE\n",
        "\n",
        "train_data = train_data.cache().shuffle(1000).prefetch(buffer_size=AUTOTUNE)\n",
        "validation_data = validation_data.cache().prefetch(buffer_size=AUTOTUNE)"
      ],
      "metadata": {
        "id": "dw_NqhLQQ3Vj"
      },
      "execution_count": null,
      "outputs": []
    },
    {
      "cell_type": "markdown",
      "source": [
        "# Using Transfer Learning to build a model"
      ],
      "metadata": {
        "id": "ZD5FW0cjRCQD"
      }
    },
    {
      "cell_type": "code",
      "source": [
        "# Modelling WITH Transfer Learning\n",
        "\n",
        "from tensorflow.keras.applications.vgg19 import VGG19\n",
        "\n",
        "# let us prepare our input_layer to pass our image size. default is (224,224,3). we will change it to (100,100,3)\n",
        "input_layer=layers.Input(shape=(150,150,3))\n",
        "\n",
        "base_model= VGG19(weights='imagenet',input_tensor=input_layer,include_top=False)\n",
        "\n",
        "\n",
        "# first: train only the top layers (which were randomly initialized)\n",
        "# i.e. freeze all convolutional VGG19 layers\n",
        "for layer in base_model.layers:\n",
        "    layer.trainable = False"
      ],
      "metadata": {
        "colab": {
          "base_uri": "https://localhost:8080/"
        },
        "id": "07lpFhsdQ8a3",
        "outputId": "6506007a-9b86-4539-b994-d0770200ead5"
      },
      "execution_count": null,
      "outputs": [
        {
          "output_type": "stream",
          "name": "stdout",
          "text": [
            "Downloading data from https://storage.googleapis.com/tensorflow/keras-applications/vgg19/vgg19_weights_tf_dim_ordering_tf_kernels_notop.h5\n",
            "80142336/80134624 [==============================] - 0s 0us/step\n",
            "80150528/80134624 [==============================] - 0s 0us/step\n"
          ]
        }
      ]
    },
    {
      "cell_type": "code",
      "source": [
        "out = base_model.output\n",
        "out = layers.GlobalAveragePooling2D()(out)\n",
        "out = layers.Dense(1924)(out) \n",
        "out = layers.Dropout(0.5)(out) \n",
        "#out = layers.Dense(512)(out) \n",
        "\n",
        "predictions = layers.Dense(2, activation='softmax')(out)\n",
        "model1 = Model(inputs=base_model.input, outputs=predictions)"
      ],
      "metadata": {
        "id": "YxPXmzxzQ8w_"
      },
      "execution_count": null,
      "outputs": []
    },
    {
      "cell_type": "code",
      "source": [
        "model.summary()"
      ],
      "metadata": {
        "colab": {
          "base_uri": "https://localhost:8080/"
        },
        "id": "_D9E0vaDROXS",
        "outputId": "714f4b1a-eb85-408e-b322-cdd5d9178c20"
      },
      "execution_count": null,
      "outputs": [
        {
          "output_type": "stream",
          "name": "stdout",
          "text": [
            "Model: \"sequential\"\n",
            "_________________________________________________________________\n",
            " Layer (type)                Output Shape              Param #   \n",
            "=================================================================\n",
            " conv2d (Conv2D)             (None, 150, 150, 64)      640       \n",
            "                                                                 \n",
            " max_pooling2d (MaxPooling2D  (None, 75, 75, 64)       0         \n",
            " )                                                               \n",
            "                                                                 \n",
            " conv2d_1 (Conv2D)           (None, 75, 75, 96)        55392     \n",
            "                                                                 \n",
            " max_pooling2d_1 (MaxPooling  (None, 37, 37, 96)       0         \n",
            " 2D)                                                             \n",
            "                                                                 \n",
            " conv2d_2 (Conv2D)           (None, 37, 37, 128)       110720    \n",
            "                                                                 \n",
            " conv2d_3 (Conv2D)           (None, 37, 37, 196)       225988    \n",
            "                                                                 \n",
            " max_pooling2d_2 (MaxPooling  (None, 18, 18, 196)      0         \n",
            " 2D)                                                             \n",
            "                                                                 \n",
            " flatten (Flatten)           (None, 63504)             0         \n",
            "                                                                 \n",
            " dense (Dense)               (None, 1024)              65029120  \n",
            "                                                                 \n",
            " dropout (Dropout)           (None, 1024)              0         \n",
            "                                                                 \n",
            " dense_1 (Dense)             (None, 1024)              1049600   \n",
            "                                                                 \n",
            " dense_2 (Dense)             (None, 2)                 2050      \n",
            "                                                                 \n",
            "=================================================================\n",
            "Total params: 66,473,510\n",
            "Trainable params: 66,473,510\n",
            "Non-trainable params: 0\n",
            "_________________________________________________________________\n"
          ]
        }
      ]
    },
    {
      "cell_type": "markdown",
      "source": [
        "# Compiling and training"
      ],
      "metadata": {
        "id": "G7P8d6qQRjp_"
      }
    },
    {
      "cell_type": "code",
      "source": [
        "from tensorflow.keras.callbacks import EarlyStopping\n",
        "callbacks = EarlyStopping(monitor='loss',patience=20, restore_best_weights=True) \n",
        "#callbacks = [keras.callbacks.ModelCheckpoint(\"\"),]\n",
        "optimizer=tf.keras.optimizers.Adam(learning_rate=0.0001)\n",
        "# compile the model\n",
        "model1.compile(optimizer=optimizer, loss='sparse_categorical_crossentropy',  metrics = [\"accuracy\"]) # compiile the model "
      ],
      "metadata": {
        "id": "GJHWUY5wROoL"
      },
      "execution_count": null,
      "outputs": []
    },
    {
      "cell_type": "code",
      "source": [
        "hist=model1.fit(train_data,  epochs=25, callbacks=callbacks, validation_data=validation_data) # training the model"
      ],
      "metadata": {
        "colab": {
          "base_uri": "https://localhost:8080/"
        },
        "id": "4NIrROE8Rrys",
        "outputId": "69cba177-95dd-42c2-831b-19da87867d40"
      },
      "execution_count": null,
      "outputs": [
        {
          "output_type": "stream",
          "name": "stdout",
          "text": [
            "Epoch 1/25\n",
            "45/45 [==============================] - 11s 183ms/step - loss: 0.7516 - accuracy: 0.7086 - val_loss: 0.3175 - val_accuracy: 0.8428\n",
            "Epoch 2/25\n",
            "45/45 [==============================] - 5s 106ms/step - loss: 0.4940 - accuracy: 0.8281 - val_loss: 0.2701 - val_accuracy: 0.9057\n",
            "Epoch 3/25\n",
            "45/45 [==============================] - 5s 107ms/step - loss: 0.4512 - accuracy: 0.8372 - val_loss: 0.3024 - val_accuracy: 0.8868\n",
            "Epoch 4/25\n",
            "45/45 [==============================] - 5s 107ms/step - loss: 0.3818 - accuracy: 0.8567 - val_loss: 0.2593 - val_accuracy: 0.8994\n",
            "Epoch 5/25\n",
            "45/45 [==============================] - 5s 107ms/step - loss: 0.3771 - accuracy: 0.8700 - val_loss: 0.2553 - val_accuracy: 0.9057\n",
            "Epoch 6/25\n",
            "45/45 [==============================] - 5s 108ms/step - loss: 0.3441 - accuracy: 0.8721 - val_loss: 0.2253 - val_accuracy: 0.9057\n",
            "Epoch 7/25\n",
            "45/45 [==============================] - 5s 106ms/step - loss: 0.3669 - accuracy: 0.8602 - val_loss: 0.2357 - val_accuracy: 0.9119\n",
            "Epoch 8/25\n",
            "45/45 [==============================] - 5s 107ms/step - loss: 0.3201 - accuracy: 0.8861 - val_loss: 0.2173 - val_accuracy: 0.9308\n",
            "Epoch 9/25\n",
            "45/45 [==============================] - 5s 106ms/step - loss: 0.2916 - accuracy: 0.8847 - val_loss: 0.2348 - val_accuracy: 0.9057\n",
            "Epoch 10/25\n",
            "45/45 [==============================] - 5s 105ms/step - loss: 0.3019 - accuracy: 0.8791 - val_loss: 0.2146 - val_accuracy: 0.8994\n",
            "Epoch 11/25\n",
            "45/45 [==============================] - 5s 106ms/step - loss: 0.2804 - accuracy: 0.8917 - val_loss: 0.2134 - val_accuracy: 0.9245\n",
            "Epoch 12/25\n",
            "45/45 [==============================] - 5s 106ms/step - loss: 0.2674 - accuracy: 0.8938 - val_loss: 0.2162 - val_accuracy: 0.9057\n",
            "Epoch 13/25\n",
            "45/45 [==============================] - 5s 105ms/step - loss: 0.2649 - accuracy: 0.8924 - val_loss: 0.2265 - val_accuracy: 0.8868\n",
            "Epoch 14/25\n",
            "45/45 [==============================] - 5s 105ms/step - loss: 0.2585 - accuracy: 0.8945 - val_loss: 0.2072 - val_accuracy: 0.9308\n",
            "Epoch 15/25\n",
            "45/45 [==============================] - 5s 105ms/step - loss: 0.2485 - accuracy: 0.9029 - val_loss: 0.2457 - val_accuracy: 0.8994\n",
            "Epoch 16/25\n",
            "45/45 [==============================] - 5s 104ms/step - loss: 0.2757 - accuracy: 0.8987 - val_loss: 0.2255 - val_accuracy: 0.9057\n",
            "Epoch 17/25\n",
            "45/45 [==============================] - 5s 106ms/step - loss: 0.2312 - accuracy: 0.9050 - val_loss: 0.2400 - val_accuracy: 0.8994\n",
            "Epoch 18/25\n",
            "45/45 [==============================] - 5s 106ms/step - loss: 0.2258 - accuracy: 0.9085 - val_loss: 0.2277 - val_accuracy: 0.8994\n",
            "Epoch 19/25\n",
            "45/45 [==============================] - 5s 106ms/step - loss: 0.2043 - accuracy: 0.9106 - val_loss: 0.2039 - val_accuracy: 0.9308\n",
            "Epoch 20/25\n",
            "45/45 [==============================] - 5s 106ms/step - loss: 0.2024 - accuracy: 0.9133 - val_loss: 0.2034 - val_accuracy: 0.9245\n",
            "Epoch 21/25\n",
            "45/45 [==============================] - 5s 106ms/step - loss: 0.1936 - accuracy: 0.9231 - val_loss: 0.1983 - val_accuracy: 0.9308\n",
            "Epoch 22/25\n",
            "45/45 [==============================] - 5s 106ms/step - loss: 0.1863 - accuracy: 0.9273 - val_loss: 0.2059 - val_accuracy: 0.9057\n",
            "Epoch 23/25\n",
            "45/45 [==============================] - 5s 107ms/step - loss: 0.1816 - accuracy: 0.9259 - val_loss: 0.2032 - val_accuracy: 0.9245\n",
            "Epoch 24/25\n",
            "45/45 [==============================] - 5s 105ms/step - loss: 0.2023 - accuracy: 0.9231 - val_loss: 0.2367 - val_accuracy: 0.8931\n",
            "Epoch 25/25\n",
            "45/45 [==============================] - 5s 105ms/step - loss: 0.1881 - accuracy: 0.9280 - val_loss: 0.2266 - val_accuracy: 0.9057\n"
          ]
        }
      ]
    },
    {
      "cell_type": "code",
      "source": [
        "# Getting train accuracy and loss\n",
        "train_loss, train_acc = model1.evaluate(train_data)\n",
        "print('Train loss: {} Train Acc: {}'.format(train_loss, train_acc))\n",
        "print(\"train_acc : {:5.2f}%\".format(100*train_acc))\n"
      ],
      "metadata": {
        "colab": {
          "base_uri": "https://localhost:8080/"
        },
        "id": "NvfrNBi_Rv0O",
        "outputId": "1d0719ae-ad63-43b0-dca2-b258bdfba1f7"
      },
      "execution_count": null,
      "outputs": [
        {
          "output_type": "stream",
          "name": "stdout",
          "text": [
            "45/45 [==============================] - 4s 94ms/step - loss: 0.1573 - accuracy: 0.9427\n",
            "Train loss: 0.15731650590896606 Train Acc: 0.9426974058151245\n",
            "train_acc : 94.27%\n"
          ]
        }
      ]
    },
    {
      "cell_type": "code",
      "source": [
        "# Getting test accuracy and loss\n",
        "val_loss, val_acc = model1.evaluate(validation_data)\n",
        "print('val loss: {} val Acc: {}'.format(val_loss, val_acc))\n",
        "print(\"val_acc : {:5.2f}%\".format(100*val_acc)) "
      ],
      "metadata": {
        "colab": {
          "base_uri": "https://localhost:8080/"
        },
        "id": "Fv2cYTvLRv8p",
        "outputId": "15b0428d-cd1c-4fd2-f1f0-45c192e0be39"
      },
      "execution_count": null,
      "outputs": [
        {
          "output_type": "stream",
          "name": "stdout",
          "text": [
            "5/5 [==============================] - 0s 95ms/step - loss: 0.2266 - accuracy: 0.9057\n",
            "val loss: 0.2266225814819336 val Acc: 0.9056603908538818\n",
            "val_acc : 90.57%\n"
          ]
        }
      ]
    },
    {
      "cell_type": "code",
      "source": [
        "# Getting test accuracy and loss\n",
        "test_loss, test_acc = model1.evaluate(test_data)\n",
        "print('Test loss: {} Test Acc: {}'.format(test_loss, test_acc))\n",
        "print(\"test_acc : {:5.2f}%\".format(100*test_acc))"
      ],
      "metadata": {
        "colab": {
          "base_uri": "https://localhost:8080/"
        },
        "id": "S3HlnFawSCJb",
        "outputId": "f01c67c7-0e75-4c47-c1ba-af5266744f60"
      },
      "execution_count": null,
      "outputs": [
        {
          "output_type": "stream",
          "name": "stdout",
          "text": [
            "4/4 [==============================] - 1s 312ms/step - loss: 0.3224 - accuracy: 0.8700\n",
            "Test loss: 0.3223686218261719 Test Acc: 0.8700000047683716\n",
            "test_acc : 87.00%\n"
          ]
        }
      ]
    },
    {
      "cell_type": "markdown",
      "source": [
        "## Visualazation of  Loss Curves"
      ],
      "metadata": {
        "id": "-xR43yLTSMAx"
      }
    },
    {
      "cell_type": "code",
      "source": [
        "acc = hist.history['accuracy']\n",
        "val_acc = hist.history['val_accuracy']\n",
        "\n",
        "loss = hist.history['loss']\n",
        "val_loss = hist.history['val_loss']\n",
        "\n",
        "epochs_range = range(25)\n",
        "\n",
        "plt.figure(figsize=(30, 10))\n",
        "plt.subplot(1, 2, 1)\n",
        "plt.plot(epochs_range, acc, label='Training Accuracy')\n",
        "plt.plot(epochs_range, val_acc, label='Validation Accuracy')\n",
        "plt.legend(loc='lower right')\n",
        "plt.title('Training and Validation Accuracy')\n",
        "\n",
        "plt.subplot(1, 2, 2)\n",
        "plt.plot(epochs_range, loss, label='Training Loss')\n",
        "plt.plot(epochs_range, val_loss, label='Validation Loss')\n",
        "plt.legend(loc='upper right')\n",
        "plt.title('Training and Validation Loss')\n",
        "plt.show()"
      ],
      "metadata": {
        "colab": {
          "base_uri": "https://localhost:8080/",
          "height": 395
        },
        "id": "OS2S1yJeSSfF",
        "outputId": "f10373d2-32a9-4740-e1fa-7f078e3fc95f"
      },
      "execution_count": null,
      "outputs": [
        {
          "output_type": "display_data",
          "data": {
            "text/plain": [
              "<Figure size 2160x720 with 2 Axes>"
            ],
            "image/png": "[encoded data removed]"
          },
          "metadata": {}
        }
      ]
    },
    {
      "cell_type": "markdown",
      "source": [
        "# predictions"
      ],
      "metadata": {
        "id": "DsfCI4gTSZKX"
      }
    },
    {
      "cell_type": "code",
      "source": [
        "image_batch, label_batch = test_data.as_numpy_iterator().next()\n",
        "predictions_test = model1.predict_on_batch(image_batch).flatten()\n",
        "print(predictions_test)"
      ],
      "metadata": {
        "colab": {
          "base_uri": "https://localhost:8080/"
        },
        "id": "irM5dvTuSW7b",
        "outputId": "6e2e01ae-44b6-40d7-cdb7-fda925eeba5e"
      },
      "execution_count": null,
      "outputs": [
        {
          "output_type": "stream",
          "name": "stdout",
          "text": [
            "WARNING:tensorflow:5 out of the last 10 calls to <function Model.make_predict_function.<locals>.predict_function at 0x7fc73a01a560> triggered tf.function retracing. Tracing is expensive and the excessive number of tracings could be due to (1) creating @tf.function repeatedly in a loop, (2) passing tensors with different shapes, (3) passing Python objects instead of tensors. For (1), please define your @tf.function outside of the loop. For (2), @tf.function has experimental_relax_shapes=True option that relaxes argument shapes that can avoid unnecessary retracing. For (3), please refer to https://www.tensorflow.org/guide/function#controlling_retracing and https://www.tensorflow.org/api_docs/python/tf/function for  more details.\n",
            "[9.37267303e-01 6.27327189e-02 9.99982715e-01 1.72442960e-05\n",
            " 5.28973993e-04 9.99471009e-01 8.58102202e-01 1.41897768e-01\n",
            " 8.23195934e-01 1.76804051e-01 2.89940625e-01 7.10059404e-01\n",
            " 9.99151230e-01 8.48802389e-04 6.28941366e-03 9.93710637e-01\n",
            " 9.93063271e-01 6.93670660e-03 5.42044174e-04 9.99458015e-01\n",
            " 9.99902010e-01 9.79388205e-05 2.19490379e-01 7.80509591e-01\n",
            " 9.99920130e-01 7.98704132e-05 9.79947567e-01 2.00523827e-02\n",
            " 9.93543506e-01 6.45655533e-03 6.86452866e-01 3.13547134e-01\n",
            " 2.43351489e-01 7.56648540e-01 1.38822966e-03 9.98611689e-01\n",
            " 7.90475190e-01 2.09524870e-01 8.94497395e-01 1.05502605e-01\n",
            " 9.99643207e-01 3.56732780e-04 9.16666627e-01 8.33333656e-02\n",
            " 4.47679639e-01 5.52320302e-01 9.79713082e-01 2.02869754e-02\n",
            " 9.99787390e-01 2.12641884e-04 9.88595426e-01 1.14045581e-02\n",
            " 1.39503973e-02 9.86049592e-01 1.06998431e-02 9.89300132e-01\n",
            " 4.63537388e-02 9.53646243e-01 5.47541073e-04 9.99452412e-01\n",
            " 9.99703348e-01 2.96587561e-04 9.82324243e-01 1.76757146e-02]\n"
          ]
        }
      ]
    },
    {
      "cell_type": "code",
      "source": [
        "# Apply a sigmoid since our model returns logits\n",
        "predictions_test = tf.nn.sigmoid(predictions_test)\n",
        "predictions_test = tf.where(predictions_test < 0.5, 0, 1)\n",
        "print('Predictions:\\n', predictions_test.numpy())\n",
        "print('Labels:\\n', label_batch) "
      ],
      "metadata": {
        "colab": {
          "base_uri": "https://localhost:8080/"
        },
        "id": "LCBt6KuWShap",
        "outputId": "5e494816-84a0-4307-a5b4-f71adc0ba1fc"
      },
      "execution_count": null,
      "outputs": [
        {
          "output_type": "stream",
          "name": "stdout",
          "text": [
            "Predictions:\n",
            " [1 1 1 1 1 1 1 1 1 1 1 1 1 1 1 1 1 1 1 1 1 1 1 1 1 1 1 1 1 1 1 1 1 1 1 1 1\n",
            " 1 1 1 1 1 1 1 1 1 1 1 1 1 1 1 1 1 1 1 1 1 1 1 1 1 1 1]\n",
            "Labels:\n",
            " [0 0 1 1 0 1 0 1 0 1 0 1 0 0 0 1 1 1 0 0 0 0 1 0 0 0 1 1 1 1 0 0]\n"
          ]
        }
      ]
    },
    {
      "cell_type": "code",
      "source": [
        "### getting the probability\n",
        "probability_model = tf.keras.Sequential([model1, \n",
        "tf.keras.layers.Softmax()]) \n",
        "predictions_test = probability_model.predict(test_data)"
      ],
      "metadata": {
        "id": "evhshI-CShpm",
        "colab": {
          "base_uri": "https://localhost:8080/"
        },
        "outputId": "a3894ec4-a249-4368-8b3c-646d00934e27"
      },
      "execution_count": null,
      "outputs": [
        {
          "output_type": "stream",
          "name": "stdout",
          "text": [
            "WARNING:tensorflow:6 out of the last 11 calls to <function Model.make_predict_function.<locals>.predict_function at 0x7fc722bd4a70> triggered tf.function retracing. Tracing is expensive and the excessive number of tracings could be due to (1) creating @tf.function repeatedly in a loop, (2) passing tensors with different shapes, (3) passing Python objects instead of tensors. For (1), please define your @tf.function outside of the loop. For (2), @tf.function has experimental_relax_shapes=True option that relaxes argument shapes that can avoid unnecessary retracing. For (3), please refer to https://www.tensorflow.org/guide/function#controlling_retracing and https://www.tensorflow.org/api_docs/python/tf/function for  more details.\n"
          ]
        }
      ]
    },
    {
      "cell_type": "code",
      "source": [
        "probability_model = tf.keras.Sequential([model1, \n",
        "tf.keras.layers.Softmax()]) \n",
        "predictions_test = probability_model.predict(test_data)\n",
        "# get the labels \n",
        "predictions_test = np.array([])\n",
        "labels_test = np.array([])\n",
        "\n",
        "for x, y in test_data:\n",
        "  predictions_test = np.concatenate([predictions_test, np.argmax(model1.predict(x), axis=-1)])\n",
        "  labels_test = np.concatenate([labels_test, y.numpy()]) "
      ],
      "metadata": {
        "id": "ZotIbINHFv_W"
      },
      "execution_count": null,
      "outputs": []
    },
    {
      "cell_type": "markdown",
      "source": [
        "# Confunsion matrix"
      ],
      "metadata": {
        "id": "v1457t_uS1ZL"
      }
    },
    {
      "cell_type": "code",
      "source": [
        "cm = confusion_matrix(labels_test, predictions_test)\n",
        "fig = plt.figure(figsize = (8,8))\n",
        "ax1 = fig.add_subplot(1,1,1)\n",
        "sns.set(font_scale=1) #for label size\n",
        "sns.heatmap(cm, annot=True, annot_kws={\"size\": 12},\n",
        "cbar = False, cmap='Purples');\n",
        "ax1.set_ylabel('True Values',fontsize=14)\n",
        "ax1.set_xlabel('Predicted Values',fontsize=14)\n",
        "plt.show() "
      ],
      "metadata": {
        "colab": {
          "base_uri": "https://localhost:8080/",
          "height": 503
        },
        "id": "b95KIsLOS0eK",
        "outputId": "aa2a667a-5fba-4bd2-b3a3-0048c07feb9c"
      },
      "execution_count": null,
      "outputs": [
        {
          "output_type": "display_data",
          "data": {
            "text/plain": [
              "<Figure size 576x576 with 1 Axes>"
            ],
            "image/png": "[encoded data removed]"
          },
          "metadata": {}
        }
      ]
    },
    {
      "cell_type": "code",
      "source": [
        "class_names= test_data.class_names\n",
        "print(class_names) # note zero corrosponds to the first class in the model"
      ],
      "metadata": {
        "colab": {
          "base_uri": "https://localhost:8080/"
        },
        "id": "j-LfrMr9S0kF",
        "outputId": "6e05713f-5e5b-4d4a-81dd-ee7d91a61b16"
      },
      "execution_count": null,
      "outputs": [
        {
          "output_type": "stream",
          "name": "stdout",
          "text": [
            "['Bent_Tail', 'First _FRII']\n"
          ]
        }
      ]
    },
    {
      "cell_type": "code",
      "source": [
        "from sklearn.model_selection import cross_val_score, cross_val_predict"
      ],
      "metadata": {
        "id": "ujq1UE4oSku2"
      },
      "execution_count": null,
      "outputs": []
    },
    {
      "cell_type": "code",
      "source": [
        "accuracies = cross_val_score(model1, train_data, validation_data, cv = 5, scoring= \"accuracy\")"
      ],
      "metadata": {
        "colab": {
          "base_uri": "https://localhost:8080/",
          "height": 346
        },
        "id": "Wlj2lQn8SrMT",
        "outputId": "924ba173-d8df-40bf-d361-d4cacce3bdd3"
      },
      "execution_count": null,
      "outputs": [
        {
          "output_type": "error",
          "ename": "TypeError",
          "evalue": "ignored",
          "traceback": [
            "\u001b[0;31m---------------------------------------------------------------------------\u001b[0m",
            "\u001b[0;31mTypeError\u001b[0m                                 Traceback (most recent call last)",
            "\u001b[0;32m<ipython-input-57-fe58ad053caa>\u001b[0m in \u001b[0;36m<module>\u001b[0;34m()\u001b[0m\n\u001b[0;32m----> 1\u001b[0;31m \u001b[0maccuracies\u001b[0m \u001b[0;34m=\u001b[0m \u001b[0mcross_val_score\u001b[0m\u001b[0;34m(\u001b[0m\u001b[0mmodel1\u001b[0m\u001b[0;34m,\u001b[0m \u001b[0mtrain_data\u001b[0m\u001b[0;34m,\u001b[0m \u001b[0mvalidation_data\u001b[0m\u001b[0;34m,\u001b[0m \u001b[0mcv\u001b[0m \u001b[0;34m=\u001b[0m \u001b[0;36m5\u001b[0m\u001b[0;34m,\u001b[0m \u001b[0mscoring\u001b[0m\u001b[0;34m=\u001b[0m \u001b[0;34m\"accuracy\"\u001b[0m\u001b[0;34m)\u001b[0m\u001b[0;34m\u001b[0m\u001b[0;34m\u001b[0m\u001b[0m\n\u001b[0m",
            "\u001b[0;32m/usr/local/lib/python3.7/dist-packages/sklearn/model_selection/_validation.py\u001b[0m in \u001b[0;36mcross_val_score\u001b[0;34m(estimator, X, y, groups, scoring, cv, n_jobs, verbose, fit_params, pre_dispatch, error_score)\u001b[0m\n\u001b[1;32m    518\u001b[0m         \u001b[0mfit_params\u001b[0m\u001b[0;34m=\u001b[0m\u001b[0mfit_params\u001b[0m\u001b[0;34m,\u001b[0m\u001b[0;34m\u001b[0m\u001b[0;34m\u001b[0m\u001b[0m\n\u001b[1;32m    519\u001b[0m         \u001b[0mpre_dispatch\u001b[0m\u001b[0;34m=\u001b[0m\u001b[0mpre_dispatch\u001b[0m\u001b[0;34m,\u001b[0m\u001b[0;34m\u001b[0m\u001b[0;34m\u001b[0m\u001b[0m\n\u001b[0;32m--> 520\u001b[0;31m         \u001b[0merror_score\u001b[0m\u001b[0;34m=\u001b[0m\u001b[0merror_score\u001b[0m\u001b[0;34m,\u001b[0m\u001b[0;34m\u001b[0m\u001b[0;34m\u001b[0m\u001b[0m\n\u001b[0m\u001b[1;32m    521\u001b[0m     )\n\u001b[1;32m    522\u001b[0m     \u001b[0;32mreturn\u001b[0m \u001b[0mcv_results\u001b[0m\u001b[0;34m[\u001b[0m\u001b[0;34m\"test_score\"\u001b[0m\u001b[0;34m]\u001b[0m\u001b[0;34m\u001b[0m\u001b[0;34m\u001b[0m\u001b[0m\n",
            "\u001b[0;32m/usr/local/lib/python3.7/dist-packages/sklearn/model_selection/_validation.py\u001b[0m in \u001b[0;36mcross_validate\u001b[0;34m(estimator, X, y, groups, scoring, cv, n_jobs, verbose, fit_params, pre_dispatch, return_train_score, return_estimator, error_score)\u001b[0m\n\u001b[1;32m    251\u001b[0m \u001b[0;34m\u001b[0m\u001b[0m\n\u001b[1;32m    252\u001b[0m     \"\"\"\n\u001b[0;32m--> 253\u001b[0;31m     \u001b[0mX\u001b[0m\u001b[0;34m,\u001b[0m \u001b[0my\u001b[0m\u001b[0;34m,\u001b[0m \u001b[0mgroups\u001b[0m \u001b[0;34m=\u001b[0m \u001b[0mindexable\u001b[0m\u001b[0;34m(\u001b[0m\u001b[0mX\u001b[0m\u001b[0;34m,\u001b[0m \u001b[0my\u001b[0m\u001b[0;34m,\u001b[0m \u001b[0mgroups\u001b[0m\u001b[0;34m)\u001b[0m\u001b[0;34m\u001b[0m\u001b[0;34m\u001b[0m\u001b[0m\n\u001b[0m\u001b[1;32m    254\u001b[0m \u001b[0;34m\u001b[0m\u001b[0m\n\u001b[1;32m    255\u001b[0m     \u001b[0mcv\u001b[0m \u001b[0;34m=\u001b[0m \u001b[0mcheck_cv\u001b[0m\u001b[0;34m(\u001b[0m\u001b[0mcv\u001b[0m\u001b[0;34m,\u001b[0m \u001b[0my\u001b[0m\u001b[0;34m,\u001b[0m \u001b[0mclassifier\u001b[0m\u001b[0;34m=\u001b[0m\u001b[0mis_classifier\u001b[0m\u001b[0;34m(\u001b[0m\u001b[0mestimator\u001b[0m\u001b[0;34m)\u001b[0m\u001b[0;34m)\u001b[0m\u001b[0;34m\u001b[0m\u001b[0;34m\u001b[0m\u001b[0m\n",
            "\u001b[0;32m/usr/local/lib/python3.7/dist-packages/sklearn/utils/validation.py\u001b[0m in \u001b[0;36mindexable\u001b[0;34m(*iterables)\u001b[0m\n\u001b[1;32m    376\u001b[0m \u001b[0;34m\u001b[0m\u001b[0m\n\u001b[1;32m    377\u001b[0m     \u001b[0mresult\u001b[0m \u001b[0;34m=\u001b[0m \u001b[0;34m[\u001b[0m\u001b[0m_make_indexable\u001b[0m\u001b[0;34m(\u001b[0m\u001b[0mX\u001b[0m\u001b[0;34m)\u001b[0m \u001b[0;32mfor\u001b[0m \u001b[0mX\u001b[0m \u001b[0;32min\u001b[0m \u001b[0miterables\u001b[0m\u001b[0;34m]\u001b[0m\u001b[0;34m\u001b[0m\u001b[0;34m\u001b[0m\u001b[0m\n\u001b[0;32m--> 378\u001b[0;31m     \u001b[0mcheck_consistent_length\u001b[0m\u001b[0;34m(\u001b[0m\u001b[0;34m*\u001b[0m\u001b[0mresult\u001b[0m\u001b[0;34m)\u001b[0m\u001b[0;34m\u001b[0m\u001b[0;34m\u001b[0m\u001b[0m\n\u001b[0m\u001b[1;32m    379\u001b[0m     \u001b[0;32mreturn\u001b[0m \u001b[0mresult\u001b[0m\u001b[0;34m\u001b[0m\u001b[0;34m\u001b[0m\u001b[0m\n\u001b[1;32m    380\u001b[0m \u001b[0;34m\u001b[0m\u001b[0m\n",
            "\u001b[0;32m/usr/local/lib/python3.7/dist-packages/sklearn/utils/validation.py\u001b[0m in \u001b[0;36mcheck_consistent_length\u001b[0;34m(*arrays)\u001b[0m\n\u001b[1;32m    327\u001b[0m     \"\"\"\n\u001b[1;32m    328\u001b[0m \u001b[0;34m\u001b[0m\u001b[0m\n\u001b[0;32m--> 329\u001b[0;31m     \u001b[0mlengths\u001b[0m \u001b[0;34m=\u001b[0m \u001b[0;34m[\u001b[0m\u001b[0m_num_samples\u001b[0m\u001b[0;34m(\u001b[0m\u001b[0mX\u001b[0m\u001b[0;34m)\u001b[0m \u001b[0;32mfor\u001b[0m \u001b[0mX\u001b[0m \u001b[0;32min\u001b[0m \u001b[0marrays\u001b[0m \u001b[0;32mif\u001b[0m \u001b[0mX\u001b[0m \u001b[0;32mis\u001b[0m \u001b[0;32mnot\u001b[0m \u001b[0;32mNone\u001b[0m\u001b[0;34m]\u001b[0m\u001b[0;34m\u001b[0m\u001b[0;34m\u001b[0m\u001b[0m\n\u001b[0m\u001b[1;32m    330\u001b[0m     \u001b[0muniques\u001b[0m \u001b[0;34m=\u001b[0m \u001b[0mnp\u001b[0m\u001b[0;34m.\u001b[0m\u001b[0munique\u001b[0m\u001b[0;34m(\u001b[0m\u001b[0mlengths\u001b[0m\u001b[0;34m)\u001b[0m\u001b[0;34m\u001b[0m\u001b[0;34m\u001b[0m\u001b[0m\n\u001b[1;32m    331\u001b[0m     \u001b[0;32mif\u001b[0m \u001b[0mlen\u001b[0m\u001b[0;34m(\u001b[0m\u001b[0muniques\u001b[0m\u001b[0;34m)\u001b[0m \u001b[0;34m>\u001b[0m \u001b[0;36m1\u001b[0m\u001b[0;34m:\u001b[0m\u001b[0;34m\u001b[0m\u001b[0;34m\u001b[0m\u001b[0m\n",
            "\u001b[0;32m/usr/local/lib/python3.7/dist-packages/sklearn/utils/validation.py\u001b[0m in \u001b[0;36m<listcomp>\u001b[0;34m(.0)\u001b[0m\n\u001b[1;32m    327\u001b[0m     \"\"\"\n\u001b[1;32m    328\u001b[0m \u001b[0;34m\u001b[0m\u001b[0m\n\u001b[0;32m--> 329\u001b[0;31m     \u001b[0mlengths\u001b[0m \u001b[0;34m=\u001b[0m \u001b[0;34m[\u001b[0m\u001b[0m_num_samples\u001b[0m\u001b[0;34m(\u001b[0m\u001b[0mX\u001b[0m\u001b[0;34m)\u001b[0m \u001b[0;32mfor\u001b[0m \u001b[0mX\u001b[0m \u001b[0;32min\u001b[0m \u001b[0marrays\u001b[0m \u001b[0;32mif\u001b[0m \u001b[0mX\u001b[0m \u001b[0;32mis\u001b[0m \u001b[0;32mnot\u001b[0m \u001b[0;32mNone\u001b[0m\u001b[0;34m]\u001b[0m\u001b[0;34m\u001b[0m\u001b[0;34m\u001b[0m\u001b[0m\n\u001b[0m\u001b[1;32m    330\u001b[0m     \u001b[0muniques\u001b[0m \u001b[0;34m=\u001b[0m \u001b[0mnp\u001b[0m\u001b[0;34m.\u001b[0m\u001b[0munique\u001b[0m\u001b[0;34m(\u001b[0m\u001b[0mlengths\u001b[0m\u001b[0;34m)\u001b[0m\u001b[0;34m\u001b[0m\u001b[0;34m\u001b[0m\u001b[0m\n\u001b[1;32m    331\u001b[0m     \u001b[0;32mif\u001b[0m \u001b[0mlen\u001b[0m\u001b[0;34m(\u001b[0m\u001b[0muniques\u001b[0m\u001b[0;34m)\u001b[0m \u001b[0;34m>\u001b[0m \u001b[0;36m1\u001b[0m\u001b[0;34m:\u001b[0m\u001b[0;34m\u001b[0m\u001b[0;34m\u001b[0m\u001b[0m\n",
            "\u001b[0;32m/usr/local/lib/python3.7/dist-packages/sklearn/utils/validation.py\u001b[0m in \u001b[0;36m_num_samples\u001b[0;34m(x)\u001b[0m\n\u001b[1;32m    268\u001b[0m         \u001b[0;32mif\u001b[0m \u001b[0mlen\u001b[0m\u001b[0;34m(\u001b[0m\u001b[0mx\u001b[0m\u001b[0;34m.\u001b[0m\u001b[0mshape\u001b[0m\u001b[0;34m)\u001b[0m \u001b[0;34m==\u001b[0m \u001b[0;36m0\u001b[0m\u001b[0;34m:\u001b[0m\u001b[0;34m\u001b[0m\u001b[0;34m\u001b[0m\u001b[0m\n\u001b[1;32m    269\u001b[0m             raise TypeError(\n\u001b[0;32m--> 270\u001b[0;31m                 \u001b[0;34m\"Singleton array %r cannot be considered a valid collection.\"\u001b[0m \u001b[0;34m%\u001b[0m \u001b[0mx\u001b[0m\u001b[0;34m\u001b[0m\u001b[0;34m\u001b[0m\u001b[0m\n\u001b[0m\u001b[1;32m    271\u001b[0m             )\n\u001b[1;32m    272\u001b[0m         \u001b[0;31m# Check that shape is returning an integer or default to len\u001b[0m\u001b[0;34m\u001b[0m\u001b[0;34m\u001b[0m\u001b[0;34m\u001b[0m\u001b[0m\n",
            "\u001b[0;31mTypeError\u001b[0m: Singleton array array(<PrefetchDataset element_spec=(TensorSpec(shape=(None, 150, 150, 3), dtype=tf.float32, name=None), TensorSpec(shape=(None,), dtype=tf.int32, name=None))>,\n      dtype=object) cannot be considered a valid collection."
          ]
        }
      ]
    },
    {
      "cell_type": "code",
      "source": [
        "np.shape(train_data)"
      ],
      "metadata": {
        "colab": {
          "base_uri": "https://localhost:8080/"
        },
        "id": "sdUtJMEyS6v4",
        "outputId": "ddc79c10-1899-4426-ed49-a5c242a10a30"
      },
      "execution_count": null,
      "outputs": [
        {
          "output_type": "execute_result",
          "data": {
            "text/plain": [
              "()"
            ]
          },
          "metadata": {},
          "execution_count": 60
        }
      ]
    },
    {
      "cell_type": "code",
      "source": [
        "train_data"
      ],
      "metadata": {
        "id": "LKBLutA1TKEy",
        "outputId": "13de97b6-6d95-4bfb-dc48-2e6cf9f4b5bf",
        "colab": {
          "base_uri": "https://localhost:8080/"
        }
      },
      "execution_count": null,
      "outputs": [
        {
          "output_type": "execute_result",
          "data": {
            "text/plain": [
              "<PrefetchDataset element_spec=(TensorSpec(shape=(None, 150, 150, 3), dtype=tf.float32, name=None), TensorSpec(shape=(None,), dtype=tf.int32, name=None))>"
            ]
          },
          "metadata": {},
          "execution_count": 61
        }
      ]
    },
    {
      "cell_type": "code",
      "source": [
        ""
      ],
      "metadata": {
        "id": "XxyowA8yTPZS"
      },
      "execution_count": null,
      "outputs": []
    }
  ],
  "metadata": {
    "accelerator": "GPU",
    "colab": {
      "collapsed_sections": [],
      "name": "Radio_Galaxy_Classification_.ipynb",
      "provenance": []
    },
    "kernelspec": {
      "display_name": "Python 3",
      "name": "python3"
    },
    "language_info": {
      "name": "python"
    }
  },
  "nbformat": 4,
  "nbformat_minor": 0
}